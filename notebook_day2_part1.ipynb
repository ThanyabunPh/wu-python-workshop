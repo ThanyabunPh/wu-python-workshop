{
 "cells": [
  {
   "metadata": {},
   "cell_type": "markdown",
   "source": [
    "# Basic Pandas Data Structure\n",
    "python can install pandas using the following command:\n",
    "```bash\n",
    "pip install pandas\n",
    "```"
   ],
   "id": "da9bad888174361e"
  },
  {
   "metadata": {
    "ExecuteTime": {
     "end_time": "2024-08-17T14:00:19.192767Z",
     "start_time": "2024-08-17T14:00:18.426488Z"
    }
   },
   "cell_type": "code",
   "source": "import pandas as pd",
   "id": "69f913d33cc3c6e9",
   "outputs": [],
   "execution_count": 1
  },
  {
   "metadata": {
    "ExecuteTime": {
     "end_time": "2024-08-17T14:00:19.360226Z",
     "start_time": "2024-08-17T14:00:19.354367Z"
    }
   },
   "cell_type": "code",
   "source": [
    "# Series can be created from Python dict, arrays, or scalar values (like 1, 2, 3, etc.)\n",
    "# To create a series, we can use the .Series() function.\n",
    "\n",
    "# Creating a series from a Python list\n",
    "s = pd.Series([1, 3, 5, 7, 9])\n",
    "print(s)"
   ],
   "id": "bcb3daf57fc4bdbb",
   "outputs": [
    {
     "name": "stdout",
     "output_type": "stream",
     "text": [
      "0    1\n",
      "1    3\n",
      "2    5\n",
      "3    7\n",
      "4    9\n",
      "dtype: int64\n"
     ]
    }
   ],
   "execution_count": 2
  },
  {
   "metadata": {
    "ExecuteTime": {
     "end_time": "2024-08-17T14:00:19.987090Z",
     "start_time": "2024-08-17T14:00:19.971826Z"
    }
   },
   "cell_type": "code",
   "source": [
    "# Creating a series from a Python dict\n",
    "d = {'a': 1, 'b': 3, 'c': 5, 'd': 7, 'e': 9}\n",
    "s = pd.Series(d)\n",
    "s"
   ],
   "id": "4d97fe1c9b1d1c42",
   "outputs": [
    {
     "data": {
      "text/plain": [
       "a    1\n",
       "b    3\n",
       "c    5\n",
       "d    7\n",
       "e    9\n",
       "dtype: int64"
      ]
     },
     "execution_count": 3,
     "metadata": {},
     "output_type": "execute_result"
    }
   ],
   "execution_count": 3
  },
  {
   "metadata": {
    "ExecuteTime": {
     "end_time": "2024-08-17T14:00:20.041647Z",
     "start_time": "2024-08-17T14:00:20.035089Z"
    }
   },
   "cell_type": "code",
   "source": [
    "# Creating a .Series() has Index and name parameters that can be set.\n",
    "s = pd.Series([1, 2, 3, 4, 5], index=['a', 'b', 'c', 'd', 'e'], name='example series')\n",
    "s"
   ],
   "id": "20f54902ad8b565a",
   "outputs": [
    {
     "data": {
      "text/plain": [
       "a    1\n",
       "b    2\n",
       "c    3\n",
       "d    4\n",
       "e    5\n",
       "Name: example series, dtype: int64"
      ]
     },
     "execution_count": 4,
     "metadata": {},
     "output_type": "execute_result"
    }
   ],
   "execution_count": 4
  },
  {
   "metadata": {
    "ExecuteTime": {
     "end_time": "2024-08-17T14:00:20.476333Z",
     "start_time": "2024-08-17T14:00:20.460766Z"
    }
   },
   "cell_type": "code",
   "source": [
    "# DataFrame can be created from a Python dictionary, list, 2D array, object series, etc. Create\n",
    "# using the .DataFrame() function.\n",
    "\n",
    "# creating an empty DataFrame object and add columns and rows to it.\n",
    "df1 = pd.DataFrame()\n",
    "print(df1)\n",
    "\n",
    "df1['name'] = ['John', 'Paul', 'George', 'Ringo']\n",
    "df1['grade'] = [90, 80, 70, 60]\n",
    "df1"
   ],
   "id": "b80c271d1abbef71",
   "outputs": [
    {
     "name": "stdout",
     "output_type": "stream",
     "text": [
      "Empty DataFrame\n",
      "Columns: []\n",
      "Index: []\n"
     ]
    },
    {
     "data": {
      "text/plain": [
       "     name  grade\n",
       "0    John     90\n",
       "1    Paul     80\n",
       "2  George     70\n",
       "3   Ringo     60"
      ],
      "text/html": [
       "<div>\n",
       "<style scoped>\n",
       "    .dataframe tbody tr th:only-of-type {\n",
       "        vertical-align: middle;\n",
       "    }\n",
       "\n",
       "    .dataframe tbody tr th {\n",
       "        vertical-align: top;\n",
       "    }\n",
       "\n",
       "    .dataframe thead th {\n",
       "        text-align: right;\n",
       "    }\n",
       "</style>\n",
       "<table border=\"1\" class=\"dataframe\">\n",
       "  <thead>\n",
       "    <tr style=\"text-align: right;\">\n",
       "      <th></th>\n",
       "      <th>name</th>\n",
       "      <th>grade</th>\n",
       "    </tr>\n",
       "  </thead>\n",
       "  <tbody>\n",
       "    <tr>\n",
       "      <th>0</th>\n",
       "      <td>John</td>\n",
       "      <td>90</td>\n",
       "    </tr>\n",
       "    <tr>\n",
       "      <th>1</th>\n",
       "      <td>Paul</td>\n",
       "      <td>80</td>\n",
       "    </tr>\n",
       "    <tr>\n",
       "      <th>2</th>\n",
       "      <td>George</td>\n",
       "      <td>70</td>\n",
       "    </tr>\n",
       "    <tr>\n",
       "      <th>3</th>\n",
       "      <td>Ringo</td>\n",
       "      <td>60</td>\n",
       "    </tr>\n",
       "  </tbody>\n",
       "</table>\n",
       "</div>"
      ]
     },
     "execution_count": 5,
     "metadata": {},
     "output_type": "execute_result"
    }
   ],
   "execution_count": 5
  },
  {
   "metadata": {
    "ExecuteTime": {
     "end_time": "2024-08-17T14:00:21.123185Z",
     "start_time": "2024-08-17T14:00:21.115315Z"
    }
   },
   "cell_type": "code",
   "source": [
    "# Creating a DataFrame from a Python dictionary\n",
    "dictionary = {\n",
    "    'name': ['John', 'Paul', 'George', 'Ringo'],\n",
    "    'grade': [90, 80, 70, 60],\n",
    "}\n",
    "\n",
    "df2 = pd.DataFrame(dictionary)\n",
    "df2"
   ],
   "id": "c71629ebe30c0806",
   "outputs": [
    {
     "data": {
      "text/plain": [
       "     name  grade\n",
       "0    John     90\n",
       "1    Paul     80\n",
       "2  George     70\n",
       "3   Ringo     60"
      ],
      "text/html": [
       "<div>\n",
       "<style scoped>\n",
       "    .dataframe tbody tr th:only-of-type {\n",
       "        vertical-align: middle;\n",
       "    }\n",
       "\n",
       "    .dataframe tbody tr th {\n",
       "        vertical-align: top;\n",
       "    }\n",
       "\n",
       "    .dataframe thead th {\n",
       "        text-align: right;\n",
       "    }\n",
       "</style>\n",
       "<table border=\"1\" class=\"dataframe\">\n",
       "  <thead>\n",
       "    <tr style=\"text-align: right;\">\n",
       "      <th></th>\n",
       "      <th>name</th>\n",
       "      <th>grade</th>\n",
       "    </tr>\n",
       "  </thead>\n",
       "  <tbody>\n",
       "    <tr>\n",
       "      <th>0</th>\n",
       "      <td>John</td>\n",
       "      <td>90</td>\n",
       "    </tr>\n",
       "    <tr>\n",
       "      <th>1</th>\n",
       "      <td>Paul</td>\n",
       "      <td>80</td>\n",
       "    </tr>\n",
       "    <tr>\n",
       "      <th>2</th>\n",
       "      <td>George</td>\n",
       "      <td>70</td>\n",
       "    </tr>\n",
       "    <tr>\n",
       "      <th>3</th>\n",
       "      <td>Ringo</td>\n",
       "      <td>60</td>\n",
       "    </tr>\n",
       "  </tbody>\n",
       "</table>\n",
       "</div>"
      ]
     },
     "execution_count": 6,
     "metadata": {},
     "output_type": "execute_result"
    }
   ],
   "execution_count": 6
  },
  {
   "metadata": {
    "ExecuteTime": {
     "end_time": "2024-08-17T14:00:22.262600Z",
     "start_time": "2024-08-17T14:00:22.254463Z"
    }
   },
   "cell_type": "code",
   "source": [
    "# Creating from a list, in which we can specify the column names.\n",
    "a = [10, 20, 30, 40]\n",
    "b = [50, 60, 70, 80]\n",
    "c = [90, 100, 110, 120]\n",
    "\n",
    "df3 = pd.DataFrame([a,b,c], columns=list(\"abcd\"))\n",
    "\n",
    "df3"
   ],
   "id": "e64bfb92e50ec71f",
   "outputs": [
    {
     "data": {
      "text/plain": [
       "    a    b    c    d\n",
       "0  10   20   30   40\n",
       "1  50   60   70   80\n",
       "2  90  100  110  120"
      ],
      "text/html": [
       "<div>\n",
       "<style scoped>\n",
       "    .dataframe tbody tr th:only-of-type {\n",
       "        vertical-align: middle;\n",
       "    }\n",
       "\n",
       "    .dataframe tbody tr th {\n",
       "        vertical-align: top;\n",
       "    }\n",
       "\n",
       "    .dataframe thead th {\n",
       "        text-align: right;\n",
       "    }\n",
       "</style>\n",
       "<table border=\"1\" class=\"dataframe\">\n",
       "  <thead>\n",
       "    <tr style=\"text-align: right;\">\n",
       "      <th></th>\n",
       "      <th>a</th>\n",
       "      <th>b</th>\n",
       "      <th>c</th>\n",
       "      <th>d</th>\n",
       "    </tr>\n",
       "  </thead>\n",
       "  <tbody>\n",
       "    <tr>\n",
       "      <th>0</th>\n",
       "      <td>10</td>\n",
       "      <td>20</td>\n",
       "      <td>30</td>\n",
       "      <td>40</td>\n",
       "    </tr>\n",
       "    <tr>\n",
       "      <th>1</th>\n",
       "      <td>50</td>\n",
       "      <td>60</td>\n",
       "      <td>70</td>\n",
       "      <td>80</td>\n",
       "    </tr>\n",
       "    <tr>\n",
       "      <th>2</th>\n",
       "      <td>90</td>\n",
       "      <td>100</td>\n",
       "      <td>110</td>\n",
       "      <td>120</td>\n",
       "    </tr>\n",
       "  </tbody>\n",
       "</table>\n",
       "</div>"
      ]
     },
     "execution_count": 7,
     "metadata": {},
     "output_type": "execute_result"
    }
   ],
   "execution_count": 7
  },
  {
   "metadata": {
    "ExecuteTime": {
     "end_time": "2024-08-17T14:00:22.982319Z",
     "start_time": "2024-08-17T14:00:22.964186Z"
    }
   },
   "cell_type": "code",
   "source": [
    "# Get the statistics of DataFrame\n",
    "# The .describe() function is used to get the statistics of the DataFrame.\n",
    "df3.describe()"
   ],
   "id": "55b1c264ca8eed05",
   "outputs": [
    {
     "data": {
      "text/plain": [
       "          a      b      c      d\n",
       "count   3.0    3.0    3.0    3.0\n",
       "mean   50.0   60.0   70.0   80.0\n",
       "std    40.0   40.0   40.0   40.0\n",
       "min    10.0   20.0   30.0   40.0\n",
       "25%    30.0   40.0   50.0   60.0\n",
       "50%    50.0   60.0   70.0   80.0\n",
       "75%    70.0   80.0   90.0  100.0\n",
       "max    90.0  100.0  110.0  120.0"
      ],
      "text/html": [
       "<div>\n",
       "<style scoped>\n",
       "    .dataframe tbody tr th:only-of-type {\n",
       "        vertical-align: middle;\n",
       "    }\n",
       "\n",
       "    .dataframe tbody tr th {\n",
       "        vertical-align: top;\n",
       "    }\n",
       "\n",
       "    .dataframe thead th {\n",
       "        text-align: right;\n",
       "    }\n",
       "</style>\n",
       "<table border=\"1\" class=\"dataframe\">\n",
       "  <thead>\n",
       "    <tr style=\"text-align: right;\">\n",
       "      <th></th>\n",
       "      <th>a</th>\n",
       "      <th>b</th>\n",
       "      <th>c</th>\n",
       "      <th>d</th>\n",
       "    </tr>\n",
       "  </thead>\n",
       "  <tbody>\n",
       "    <tr>\n",
       "      <th>count</th>\n",
       "      <td>3.0</td>\n",
       "      <td>3.0</td>\n",
       "      <td>3.0</td>\n",
       "      <td>3.0</td>\n",
       "    </tr>\n",
       "    <tr>\n",
       "      <th>mean</th>\n",
       "      <td>50.0</td>\n",
       "      <td>60.0</td>\n",
       "      <td>70.0</td>\n",
       "      <td>80.0</td>\n",
       "    </tr>\n",
       "    <tr>\n",
       "      <th>std</th>\n",
       "      <td>40.0</td>\n",
       "      <td>40.0</td>\n",
       "      <td>40.0</td>\n",
       "      <td>40.0</td>\n",
       "    </tr>\n",
       "    <tr>\n",
       "      <th>min</th>\n",
       "      <td>10.0</td>\n",
       "      <td>20.0</td>\n",
       "      <td>30.0</td>\n",
       "      <td>40.0</td>\n",
       "    </tr>\n",
       "    <tr>\n",
       "      <th>25%</th>\n",
       "      <td>30.0</td>\n",
       "      <td>40.0</td>\n",
       "      <td>50.0</td>\n",
       "      <td>60.0</td>\n",
       "    </tr>\n",
       "    <tr>\n",
       "      <th>50%</th>\n",
       "      <td>50.0</td>\n",
       "      <td>60.0</td>\n",
       "      <td>70.0</td>\n",
       "      <td>80.0</td>\n",
       "    </tr>\n",
       "    <tr>\n",
       "      <th>75%</th>\n",
       "      <td>70.0</td>\n",
       "      <td>80.0</td>\n",
       "      <td>90.0</td>\n",
       "      <td>100.0</td>\n",
       "    </tr>\n",
       "    <tr>\n",
       "      <th>max</th>\n",
       "      <td>90.0</td>\n",
       "      <td>100.0</td>\n",
       "      <td>110.0</td>\n",
       "      <td>120.0</td>\n",
       "    </tr>\n",
       "  </tbody>\n",
       "</table>\n",
       "</div>"
      ]
     },
     "execution_count": 8,
     "metadata": {},
     "output_type": "execute_result"
    }
   ],
   "execution_count": 8
  },
  {
   "metadata": {
    "ExecuteTime": {
     "end_time": "2024-08-17T14:00:23.534949Z",
     "start_time": "2024-08-17T14:00:23.525949Z"
    }
   },
   "cell_type": "code",
   "source": [
    "# DataFrame.info() is a function of DataFrame that gives metadata of DataFrame\n",
    "df3.info()"
   ],
   "id": "ffd6605dc8e4153",
   "outputs": [
    {
     "name": "stdout",
     "output_type": "stream",
     "text": [
      "<class 'pandas.core.frame.DataFrame'>\n",
      "RangeIndex: 3 entries, 0 to 2\n",
      "Data columns (total 4 columns):\n",
      " #   Column  Non-Null Count  Dtype\n",
      "---  ------  --------------  -----\n",
      " 0   a       3 non-null      int64\n",
      " 1   b       3 non-null      int64\n",
      " 2   c       3 non-null      int64\n",
      " 3   d       3 non-null      int64\n",
      "dtypes: int64(4)\n",
      "memory usage: 228.0 bytes\n"
     ]
    }
   ],
   "execution_count": 9
  },
  {
   "metadata": {},
   "cell_type": "markdown",
   "source": "# Working with Rows and Columns",
   "id": "45c3d8826dd5f204"
  },
  {
   "metadata": {
    "ExecuteTime": {
     "end_time": "2024-08-17T14:00:24.287619Z",
     "start_time": "2024-08-17T14:00:24.279658Z"
    }
   },
   "cell_type": "code",
   "source": [
    "# Working with Rows and Columns\n",
    "# We will create a dummy dataset from a random integer number using the NumPy package.\n",
    "import numpy as np\n",
    "\n",
    "np.random.seed(0)\n",
    "data = np.random.randint(0, 100, size=(5, 5)) # 5 rows and 5 columns\n",
    "\n",
    "# Create a DataFrame from the data\n",
    "df = pd.DataFrame(data, columns=list('abcde'))\n",
    "df"
   ],
   "id": "2d128507d9e98bf4",
   "outputs": [
    {
     "data": {
      "text/plain": [
       "    a   b   c   d   e\n",
       "0  44  47  64  67  67\n",
       "1   9  83  21  36  87\n",
       "2  70  88  88  12  58\n",
       "3  65  39  87  46  88\n",
       "4  81  37  25  77  72"
      ],
      "text/html": [
       "<div>\n",
       "<style scoped>\n",
       "    .dataframe tbody tr th:only-of-type {\n",
       "        vertical-align: middle;\n",
       "    }\n",
       "\n",
       "    .dataframe tbody tr th {\n",
       "        vertical-align: top;\n",
       "    }\n",
       "\n",
       "    .dataframe thead th {\n",
       "        text-align: right;\n",
       "    }\n",
       "</style>\n",
       "<table border=\"1\" class=\"dataframe\">\n",
       "  <thead>\n",
       "    <tr style=\"text-align: right;\">\n",
       "      <th></th>\n",
       "      <th>a</th>\n",
       "      <th>b</th>\n",
       "      <th>c</th>\n",
       "      <th>d</th>\n",
       "      <th>e</th>\n",
       "    </tr>\n",
       "  </thead>\n",
       "  <tbody>\n",
       "    <tr>\n",
       "      <th>0</th>\n",
       "      <td>44</td>\n",
       "      <td>47</td>\n",
       "      <td>64</td>\n",
       "      <td>67</td>\n",
       "      <td>67</td>\n",
       "    </tr>\n",
       "    <tr>\n",
       "      <th>1</th>\n",
       "      <td>9</td>\n",
       "      <td>83</td>\n",
       "      <td>21</td>\n",
       "      <td>36</td>\n",
       "      <td>87</td>\n",
       "    </tr>\n",
       "    <tr>\n",
       "      <th>2</th>\n",
       "      <td>70</td>\n",
       "      <td>88</td>\n",
       "      <td>88</td>\n",
       "      <td>12</td>\n",
       "      <td>58</td>\n",
       "    </tr>\n",
       "    <tr>\n",
       "      <th>3</th>\n",
       "      <td>65</td>\n",
       "      <td>39</td>\n",
       "      <td>87</td>\n",
       "      <td>46</td>\n",
       "      <td>88</td>\n",
       "    </tr>\n",
       "    <tr>\n",
       "      <th>4</th>\n",
       "      <td>81</td>\n",
       "      <td>37</td>\n",
       "      <td>25</td>\n",
       "      <td>77</td>\n",
       "      <td>72</td>\n",
       "    </tr>\n",
       "  </tbody>\n",
       "</table>\n",
       "</div>"
      ]
     },
     "execution_count": 10,
     "metadata": {},
     "output_type": "execute_result"
    }
   ],
   "execution_count": 10
  },
  {
   "metadata": {
    "ExecuteTime": {
     "end_time": "2024-08-17T14:00:24.805986Z",
     "start_time": "2024-08-17T14:00:24.800988Z"
    }
   },
   "cell_type": "code",
   "source": [
    "# get brief information about the DataFrame\n",
    "print(df.index)\n",
    "print(df.columns)"
   ],
   "id": "49c15a22a633fa78",
   "outputs": [
    {
     "name": "stdout",
     "output_type": "stream",
     "text": [
      "RangeIndex(start=0, stop=5, step=1)\n",
      "Index(['a', 'b', 'c', 'd', 'e'], dtype='object')\n"
     ]
    }
   ],
   "execution_count": 11
  },
  {
   "metadata": {},
   "cell_type": "markdown",
   "source": "## .drop()",
   "id": "6dcdf6474a958d97"
  },
  {
   "metadata": {
    "ExecuteTime": {
     "end_time": "2024-08-17T14:00:25.251521Z",
     "start_time": "2024-08-17T14:00:25.243745Z"
    }
   },
   "cell_type": "code",
   "source": [
    "print('Original DataFrame')\n",
    "df"
   ],
   "id": "77ab8d67e839c947",
   "outputs": [
    {
     "name": "stdout",
     "output_type": "stream",
     "text": [
      "Original DataFrame\n"
     ]
    },
    {
     "data": {
      "text/plain": [
       "    a   b   c   d   e\n",
       "0  44  47  64  67  67\n",
       "1   9  83  21  36  87\n",
       "2  70  88  88  12  58\n",
       "3  65  39  87  46  88\n",
       "4  81  37  25  77  72"
      ],
      "text/html": [
       "<div>\n",
       "<style scoped>\n",
       "    .dataframe tbody tr th:only-of-type {\n",
       "        vertical-align: middle;\n",
       "    }\n",
       "\n",
       "    .dataframe tbody tr th {\n",
       "        vertical-align: top;\n",
       "    }\n",
       "\n",
       "    .dataframe thead th {\n",
       "        text-align: right;\n",
       "    }\n",
       "</style>\n",
       "<table border=\"1\" class=\"dataframe\">\n",
       "  <thead>\n",
       "    <tr style=\"text-align: right;\">\n",
       "      <th></th>\n",
       "      <th>a</th>\n",
       "      <th>b</th>\n",
       "      <th>c</th>\n",
       "      <th>d</th>\n",
       "      <th>e</th>\n",
       "    </tr>\n",
       "  </thead>\n",
       "  <tbody>\n",
       "    <tr>\n",
       "      <th>0</th>\n",
       "      <td>44</td>\n",
       "      <td>47</td>\n",
       "      <td>64</td>\n",
       "      <td>67</td>\n",
       "      <td>67</td>\n",
       "    </tr>\n",
       "    <tr>\n",
       "      <th>1</th>\n",
       "      <td>9</td>\n",
       "      <td>83</td>\n",
       "      <td>21</td>\n",
       "      <td>36</td>\n",
       "      <td>87</td>\n",
       "    </tr>\n",
       "    <tr>\n",
       "      <th>2</th>\n",
       "      <td>70</td>\n",
       "      <td>88</td>\n",
       "      <td>88</td>\n",
       "      <td>12</td>\n",
       "      <td>58</td>\n",
       "    </tr>\n",
       "    <tr>\n",
       "      <th>3</th>\n",
       "      <td>65</td>\n",
       "      <td>39</td>\n",
       "      <td>87</td>\n",
       "      <td>46</td>\n",
       "      <td>88</td>\n",
       "    </tr>\n",
       "    <tr>\n",
       "      <th>4</th>\n",
       "      <td>81</td>\n",
       "      <td>37</td>\n",
       "      <td>25</td>\n",
       "      <td>77</td>\n",
       "      <td>72</td>\n",
       "    </tr>\n",
       "  </tbody>\n",
       "</table>\n",
       "</div>"
      ]
     },
     "execution_count": 12,
     "metadata": {},
     "output_type": "execute_result"
    }
   ],
   "execution_count": 12
  },
  {
   "metadata": {
    "ExecuteTime": {
     "end_time": "2024-08-17T14:00:25.729129Z",
     "start_time": "2024-08-17T14:00:25.723061Z"
    }
   },
   "cell_type": "code",
   "source": [
    "# Drop rows from the DataFrame\n",
    "df.drop(index=[4], columns=['c', 'd'], inplace=True)"
   ],
   "id": "a6716024418345bc",
   "outputs": [],
   "execution_count": 13
  },
  {
   "metadata": {
    "ExecuteTime": {
     "end_time": "2024-08-17T14:00:25.948678Z",
     "start_time": "2024-08-17T14:00:25.939921Z"
    }
   },
   "cell_type": "code",
   "source": [
    "print('DataFrame after dropping rows and columns')\n",
    "df"
   ],
   "id": "6f633a3953bef1e0",
   "outputs": [
    {
     "name": "stdout",
     "output_type": "stream",
     "text": [
      "DataFrame after dropping rows and columns\n"
     ]
    },
    {
     "data": {
      "text/plain": [
       "    a   b   e\n",
       "0  44  47  67\n",
       "1   9  83  87\n",
       "2  70  88  58\n",
       "3  65  39  88"
      ],
      "text/html": [
       "<div>\n",
       "<style scoped>\n",
       "    .dataframe tbody tr th:only-of-type {\n",
       "        vertical-align: middle;\n",
       "    }\n",
       "\n",
       "    .dataframe tbody tr th {\n",
       "        vertical-align: top;\n",
       "    }\n",
       "\n",
       "    .dataframe thead th {\n",
       "        text-align: right;\n",
       "    }\n",
       "</style>\n",
       "<table border=\"1\" class=\"dataframe\">\n",
       "  <thead>\n",
       "    <tr style=\"text-align: right;\">\n",
       "      <th></th>\n",
       "      <th>a</th>\n",
       "      <th>b</th>\n",
       "      <th>e</th>\n",
       "    </tr>\n",
       "  </thead>\n",
       "  <tbody>\n",
       "    <tr>\n",
       "      <th>0</th>\n",
       "      <td>44</td>\n",
       "      <td>47</td>\n",
       "      <td>67</td>\n",
       "    </tr>\n",
       "    <tr>\n",
       "      <th>1</th>\n",
       "      <td>9</td>\n",
       "      <td>83</td>\n",
       "      <td>87</td>\n",
       "    </tr>\n",
       "    <tr>\n",
       "      <th>2</th>\n",
       "      <td>70</td>\n",
       "      <td>88</td>\n",
       "      <td>58</td>\n",
       "    </tr>\n",
       "    <tr>\n",
       "      <th>3</th>\n",
       "      <td>65</td>\n",
       "      <td>39</td>\n",
       "      <td>88</td>\n",
       "    </tr>\n",
       "  </tbody>\n",
       "</table>\n",
       "</div>"
      ]
     },
     "execution_count": 14,
     "metadata": {},
     "output_type": "execute_result"
    }
   ],
   "execution_count": 14
  },
  {
   "metadata": {},
   "cell_type": "markdown",
   "source": "# Indexing, Slicing, and Selecting a Subset of Data",
   "id": "735a516d736e2cbc"
  },
  {
   "metadata": {
    "ExecuteTime": {
     "end_time": "2024-08-17T14:00:26.784283Z",
     "start_time": "2024-08-17T14:00:26.776758Z"
    }
   },
   "cell_type": "code",
   "source": [
    "np.random.seed(0)\n",
    "data = np.random.randint(0, 100, size=(10, 4)) # 10 rows and 4 columns\n",
    "df = pd.DataFrame(data, columns=list('abcd'))\n",
    "df"
   ],
   "id": "4469dcd9c898a0fe",
   "outputs": [
    {
     "data": {
      "text/plain": [
       "    a   b   c   d\n",
       "0  44  47  64  67\n",
       "1  67   9  83  21\n",
       "2  36  87  70  88\n",
       "3  88  12  58  65\n",
       "4  39  87  46  88\n",
       "5  81  37  25  77\n",
       "6  72   9  20  80\n",
       "7  69  79  47  64\n",
       "8  82  99  88  49\n",
       "9  29  19  19  14"
      ],
      "text/html": [
       "<div>\n",
       "<style scoped>\n",
       "    .dataframe tbody tr th:only-of-type {\n",
       "        vertical-align: middle;\n",
       "    }\n",
       "\n",
       "    .dataframe tbody tr th {\n",
       "        vertical-align: top;\n",
       "    }\n",
       "\n",
       "    .dataframe thead th {\n",
       "        text-align: right;\n",
       "    }\n",
       "</style>\n",
       "<table border=\"1\" class=\"dataframe\">\n",
       "  <thead>\n",
       "    <tr style=\"text-align: right;\">\n",
       "      <th></th>\n",
       "      <th>a</th>\n",
       "      <th>b</th>\n",
       "      <th>c</th>\n",
       "      <th>d</th>\n",
       "    </tr>\n",
       "  </thead>\n",
       "  <tbody>\n",
       "    <tr>\n",
       "      <th>0</th>\n",
       "      <td>44</td>\n",
       "      <td>47</td>\n",
       "      <td>64</td>\n",
       "      <td>67</td>\n",
       "    </tr>\n",
       "    <tr>\n",
       "      <th>1</th>\n",
       "      <td>67</td>\n",
       "      <td>9</td>\n",
       "      <td>83</td>\n",
       "      <td>21</td>\n",
       "    </tr>\n",
       "    <tr>\n",
       "      <th>2</th>\n",
       "      <td>36</td>\n",
       "      <td>87</td>\n",
       "      <td>70</td>\n",
       "      <td>88</td>\n",
       "    </tr>\n",
       "    <tr>\n",
       "      <th>3</th>\n",
       "      <td>88</td>\n",
       "      <td>12</td>\n",
       "      <td>58</td>\n",
       "      <td>65</td>\n",
       "    </tr>\n",
       "    <tr>\n",
       "      <th>4</th>\n",
       "      <td>39</td>\n",
       "      <td>87</td>\n",
       "      <td>46</td>\n",
       "      <td>88</td>\n",
       "    </tr>\n",
       "    <tr>\n",
       "      <th>5</th>\n",
       "      <td>81</td>\n",
       "      <td>37</td>\n",
       "      <td>25</td>\n",
       "      <td>77</td>\n",
       "    </tr>\n",
       "    <tr>\n",
       "      <th>6</th>\n",
       "      <td>72</td>\n",
       "      <td>9</td>\n",
       "      <td>20</td>\n",
       "      <td>80</td>\n",
       "    </tr>\n",
       "    <tr>\n",
       "      <th>7</th>\n",
       "      <td>69</td>\n",
       "      <td>79</td>\n",
       "      <td>47</td>\n",
       "      <td>64</td>\n",
       "    </tr>\n",
       "    <tr>\n",
       "      <th>8</th>\n",
       "      <td>82</td>\n",
       "      <td>99</td>\n",
       "      <td>88</td>\n",
       "      <td>49</td>\n",
       "    </tr>\n",
       "    <tr>\n",
       "      <th>9</th>\n",
       "      <td>29</td>\n",
       "      <td>19</td>\n",
       "      <td>19</td>\n",
       "      <td>14</td>\n",
       "    </tr>\n",
       "  </tbody>\n",
       "</table>\n",
       "</div>"
      ]
     },
     "execution_count": 15,
     "metadata": {},
     "output_type": "execute_result"
    }
   ],
   "execution_count": 15
  },
  {
   "metadata": {},
   "cell_type": "markdown",
   "source": "## selecting columns df['column_name']",
   "id": "b934faeb4b965127"
  },
  {
   "metadata": {
    "ExecuteTime": {
     "end_time": "2024-08-17T14:00:27.116098Z",
     "start_time": "2024-08-17T14:00:27.111833Z"
    }
   },
   "cell_type": "code",
   "source": "df['a']",
   "id": "82ac2fe7b663c25b",
   "outputs": [
    {
     "data": {
      "text/plain": [
       "0    44\n",
       "1    67\n",
       "2    36\n",
       "3    88\n",
       "4    39\n",
       "5    81\n",
       "6    72\n",
       "7    69\n",
       "8    82\n",
       "9    29\n",
       "Name: a, dtype: int32"
      ]
     },
     "execution_count": 16,
     "metadata": {},
     "output_type": "execute_result"
    }
   ],
   "execution_count": 16
  },
  {
   "metadata": {},
   "cell_type": "markdown",
   "source": "## selecting multiple columns df[['column_name1', 'column_name2']]",
   "id": "1b8c60c43b8aa1f6"
  },
  {
   "metadata": {
    "ExecuteTime": {
     "end_time": "2024-08-17T14:00:27.704418Z",
     "start_time": "2024-08-17T14:00:27.696877Z"
    }
   },
   "cell_type": "code",
   "source": "df[['a', 'c']]",
   "id": "9503a3a665901482",
   "outputs": [
    {
     "data": {
      "text/plain": [
       "    a   c\n",
       "0  44  64\n",
       "1  67  83\n",
       "2  36  70\n",
       "3  88  58\n",
       "4  39  46\n",
       "5  81  25\n",
       "6  72  20\n",
       "7  69  47\n",
       "8  82  88\n",
       "9  29  19"
      ],
      "text/html": [
       "<div>\n",
       "<style scoped>\n",
       "    .dataframe tbody tr th:only-of-type {\n",
       "        vertical-align: middle;\n",
       "    }\n",
       "\n",
       "    .dataframe tbody tr th {\n",
       "        vertical-align: top;\n",
       "    }\n",
       "\n",
       "    .dataframe thead th {\n",
       "        text-align: right;\n",
       "    }\n",
       "</style>\n",
       "<table border=\"1\" class=\"dataframe\">\n",
       "  <thead>\n",
       "    <tr style=\"text-align: right;\">\n",
       "      <th></th>\n",
       "      <th>a</th>\n",
       "      <th>c</th>\n",
       "    </tr>\n",
       "  </thead>\n",
       "  <tbody>\n",
       "    <tr>\n",
       "      <th>0</th>\n",
       "      <td>44</td>\n",
       "      <td>64</td>\n",
       "    </tr>\n",
       "    <tr>\n",
       "      <th>1</th>\n",
       "      <td>67</td>\n",
       "      <td>83</td>\n",
       "    </tr>\n",
       "    <tr>\n",
       "      <th>2</th>\n",
       "      <td>36</td>\n",
       "      <td>70</td>\n",
       "    </tr>\n",
       "    <tr>\n",
       "      <th>3</th>\n",
       "      <td>88</td>\n",
       "      <td>58</td>\n",
       "    </tr>\n",
       "    <tr>\n",
       "      <th>4</th>\n",
       "      <td>39</td>\n",
       "      <td>46</td>\n",
       "    </tr>\n",
       "    <tr>\n",
       "      <th>5</th>\n",
       "      <td>81</td>\n",
       "      <td>25</td>\n",
       "    </tr>\n",
       "    <tr>\n",
       "      <th>6</th>\n",
       "      <td>72</td>\n",
       "      <td>20</td>\n",
       "    </tr>\n",
       "    <tr>\n",
       "      <th>7</th>\n",
       "      <td>69</td>\n",
       "      <td>47</td>\n",
       "    </tr>\n",
       "    <tr>\n",
       "      <th>8</th>\n",
       "      <td>82</td>\n",
       "      <td>88</td>\n",
       "    </tr>\n",
       "    <tr>\n",
       "      <th>9</th>\n",
       "      <td>29</td>\n",
       "      <td>19</td>\n",
       "    </tr>\n",
       "  </tbody>\n",
       "</table>\n",
       "</div>"
      ]
     },
     "execution_count": 17,
     "metadata": {},
     "output_type": "execute_result"
    }
   ],
   "execution_count": 17
  },
  {
   "metadata": {},
   "cell_type": "markdown",
   "source": "## selecting rows by label df.loc['row_label']",
   "id": "c575dbe466395f51"
  },
  {
   "metadata": {
    "ExecuteTime": {
     "end_time": "2024-08-17T14:00:28.351780Z",
     "start_time": "2024-08-17T14:00:28.345722Z"
    }
   },
   "cell_type": "code",
   "source": "df.iloc[1]",
   "id": "51108002eedffb5a",
   "outputs": [
    {
     "data": {
      "text/plain": [
       "a    67\n",
       "b     9\n",
       "c    83\n",
       "d    21\n",
       "Name: 1, dtype: int32"
      ]
     },
     "execution_count": 18,
     "metadata": {},
     "output_type": "execute_result"
    }
   ],
   "execution_count": 18
  },
  {
   "metadata": {},
   "cell_type": "markdown",
   "source": "## selecting slice of rows",
   "id": "94f5403bd006a06a"
  },
  {
   "metadata": {
    "ExecuteTime": {
     "end_time": "2024-08-17T14:00:29.103859Z",
     "start_time": "2024-08-17T14:00:29.096565Z"
    }
   },
   "cell_type": "code",
   "source": "df.iloc[1:8]",
   "id": "42c8e398e4002c9c",
   "outputs": [
    {
     "data": {
      "text/plain": [
       "    a   b   c   d\n",
       "1  67   9  83  21\n",
       "2  36  87  70  88\n",
       "3  88  12  58  65\n",
       "4  39  87  46  88\n",
       "5  81  37  25  77\n",
       "6  72   9  20  80\n",
       "7  69  79  47  64"
      ],
      "text/html": [
       "<div>\n",
       "<style scoped>\n",
       "    .dataframe tbody tr th:only-of-type {\n",
       "        vertical-align: middle;\n",
       "    }\n",
       "\n",
       "    .dataframe tbody tr th {\n",
       "        vertical-align: top;\n",
       "    }\n",
       "\n",
       "    .dataframe thead th {\n",
       "        text-align: right;\n",
       "    }\n",
       "</style>\n",
       "<table border=\"1\" class=\"dataframe\">\n",
       "  <thead>\n",
       "    <tr style=\"text-align: right;\">\n",
       "      <th></th>\n",
       "      <th>a</th>\n",
       "      <th>b</th>\n",
       "      <th>c</th>\n",
       "      <th>d</th>\n",
       "    </tr>\n",
       "  </thead>\n",
       "  <tbody>\n",
       "    <tr>\n",
       "      <th>1</th>\n",
       "      <td>67</td>\n",
       "      <td>9</td>\n",
       "      <td>83</td>\n",
       "      <td>21</td>\n",
       "    </tr>\n",
       "    <tr>\n",
       "      <th>2</th>\n",
       "      <td>36</td>\n",
       "      <td>87</td>\n",
       "      <td>70</td>\n",
       "      <td>88</td>\n",
       "    </tr>\n",
       "    <tr>\n",
       "      <th>3</th>\n",
       "      <td>88</td>\n",
       "      <td>12</td>\n",
       "      <td>58</td>\n",
       "      <td>65</td>\n",
       "    </tr>\n",
       "    <tr>\n",
       "      <th>4</th>\n",
       "      <td>39</td>\n",
       "      <td>87</td>\n",
       "      <td>46</td>\n",
       "      <td>88</td>\n",
       "    </tr>\n",
       "    <tr>\n",
       "      <th>5</th>\n",
       "      <td>81</td>\n",
       "      <td>37</td>\n",
       "      <td>25</td>\n",
       "      <td>77</td>\n",
       "    </tr>\n",
       "    <tr>\n",
       "      <th>6</th>\n",
       "      <td>72</td>\n",
       "      <td>9</td>\n",
       "      <td>20</td>\n",
       "      <td>80</td>\n",
       "    </tr>\n",
       "    <tr>\n",
       "      <th>7</th>\n",
       "      <td>69</td>\n",
       "      <td>79</td>\n",
       "      <td>47</td>\n",
       "      <td>64</td>\n",
       "    </tr>\n",
       "  </tbody>\n",
       "</table>\n",
       "</div>"
      ]
     },
     "execution_count": 19,
     "metadata": {},
     "output_type": "execute_result"
    }
   ],
   "execution_count": 19
  },
  {
   "metadata": {},
   "cell_type": "markdown",
   "source": "# selecting rows by boolean vector",
   "id": "2b016674faca03ff"
  },
  {
   "metadata": {
    "ExecuteTime": {
     "end_time": "2024-08-17T14:00:29.614947Z",
     "start_time": "2024-08-17T14:00:29.606951Z"
    }
   },
   "cell_type": "code",
   "source": [
    "# Select rows where column 'a' is greater than 50\n",
    "df[df['a'] > 50]"
   ],
   "id": "1cb20e4f04a00d38",
   "outputs": [
    {
     "data": {
      "text/plain": [
       "    a   b   c   d\n",
       "1  67   9  83  21\n",
       "3  88  12  58  65\n",
       "5  81  37  25  77\n",
       "6  72   9  20  80\n",
       "7  69  79  47  64\n",
       "8  82  99  88  49"
      ],
      "text/html": [
       "<div>\n",
       "<style scoped>\n",
       "    .dataframe tbody tr th:only-of-type {\n",
       "        vertical-align: middle;\n",
       "    }\n",
       "\n",
       "    .dataframe tbody tr th {\n",
       "        vertical-align: top;\n",
       "    }\n",
       "\n",
       "    .dataframe thead th {\n",
       "        text-align: right;\n",
       "    }\n",
       "</style>\n",
       "<table border=\"1\" class=\"dataframe\">\n",
       "  <thead>\n",
       "    <tr style=\"text-align: right;\">\n",
       "      <th></th>\n",
       "      <th>a</th>\n",
       "      <th>b</th>\n",
       "      <th>c</th>\n",
       "      <th>d</th>\n",
       "    </tr>\n",
       "  </thead>\n",
       "  <tbody>\n",
       "    <tr>\n",
       "      <th>1</th>\n",
       "      <td>67</td>\n",
       "      <td>9</td>\n",
       "      <td>83</td>\n",
       "      <td>21</td>\n",
       "    </tr>\n",
       "    <tr>\n",
       "      <th>3</th>\n",
       "      <td>88</td>\n",
       "      <td>12</td>\n",
       "      <td>58</td>\n",
       "      <td>65</td>\n",
       "    </tr>\n",
       "    <tr>\n",
       "      <th>5</th>\n",
       "      <td>81</td>\n",
       "      <td>37</td>\n",
       "      <td>25</td>\n",
       "      <td>77</td>\n",
       "    </tr>\n",
       "    <tr>\n",
       "      <th>6</th>\n",
       "      <td>72</td>\n",
       "      <td>9</td>\n",
       "      <td>20</td>\n",
       "      <td>80</td>\n",
       "    </tr>\n",
       "    <tr>\n",
       "      <th>7</th>\n",
       "      <td>69</td>\n",
       "      <td>79</td>\n",
       "      <td>47</td>\n",
       "      <td>64</td>\n",
       "    </tr>\n",
       "    <tr>\n",
       "      <th>8</th>\n",
       "      <td>82</td>\n",
       "      <td>99</td>\n",
       "      <td>88</td>\n",
       "      <td>49</td>\n",
       "    </tr>\n",
       "  </tbody>\n",
       "</table>\n",
       "</div>"
      ]
     },
     "execution_count": 20,
     "metadata": {},
     "output_type": "execute_result"
    }
   ],
   "execution_count": 20
  },
  {
   "metadata": {
    "ExecuteTime": {
     "end_time": "2024-08-17T14:00:30.634205Z",
     "start_time": "2024-08-17T14:00:30.627444Z"
    }
   },
   "cell_type": "code",
   "source": [
    "# Select rows where column 'a' is greater than 50 and column 'b' is greater than 50\n",
    "df[(df['a'] > 50) & (df['b'] > 50)]"
   ],
   "id": "f33e479e2ad41489",
   "outputs": [
    {
     "data": {
      "text/plain": [
       "    a   b   c   d\n",
       "7  69  79  47  64\n",
       "8  82  99  88  49"
      ],
      "text/html": [
       "<div>\n",
       "<style scoped>\n",
       "    .dataframe tbody tr th:only-of-type {\n",
       "        vertical-align: middle;\n",
       "    }\n",
       "\n",
       "    .dataframe tbody tr th {\n",
       "        vertical-align: top;\n",
       "    }\n",
       "\n",
       "    .dataframe thead th {\n",
       "        text-align: right;\n",
       "    }\n",
       "</style>\n",
       "<table border=\"1\" class=\"dataframe\">\n",
       "  <thead>\n",
       "    <tr style=\"text-align: right;\">\n",
       "      <th></th>\n",
       "      <th>a</th>\n",
       "      <th>b</th>\n",
       "      <th>c</th>\n",
       "      <th>d</th>\n",
       "    </tr>\n",
       "  </thead>\n",
       "  <tbody>\n",
       "    <tr>\n",
       "      <th>7</th>\n",
       "      <td>69</td>\n",
       "      <td>79</td>\n",
       "      <td>47</td>\n",
       "      <td>64</td>\n",
       "    </tr>\n",
       "    <tr>\n",
       "      <th>8</th>\n",
       "      <td>82</td>\n",
       "      <td>99</td>\n",
       "      <td>88</td>\n",
       "      <td>49</td>\n",
       "    </tr>\n",
       "  </tbody>\n",
       "</table>\n",
       "</div>"
      ]
     },
     "execution_count": 21,
     "metadata": {},
     "output_type": "execute_result"
    }
   ],
   "execution_count": 21
  },
  {
   "metadata": {},
   "cell_type": "markdown",
   "source": "# Splitting data",
   "id": "ca7e88133461d7c7"
  },
  {
   "metadata": {},
   "cell_type": "markdown",
   "source": "# Split the DataFrame using .iloc[] by rows",
   "id": "a93f2c20402a686c"
  },
  {
   "metadata": {
    "ExecuteTime": {
     "end_time": "2024-08-17T14:00:31.106888Z",
     "start_time": "2024-08-17T14:00:31.099189Z"
    }
   },
   "cell_type": "code",
   "source": [
    "print('default DataFrame')\n",
    "df"
   ],
   "id": "9abdb75431c42e51",
   "outputs": [
    {
     "name": "stdout",
     "output_type": "stream",
     "text": [
      "default DataFrame\n"
     ]
    },
    {
     "data": {
      "text/plain": [
       "    a   b   c   d\n",
       "0  44  47  64  67\n",
       "1  67   9  83  21\n",
       "2  36  87  70  88\n",
       "3  88  12  58  65\n",
       "4  39  87  46  88\n",
       "5  81  37  25  77\n",
       "6  72   9  20  80\n",
       "7  69  79  47  64\n",
       "8  82  99  88  49\n",
       "9  29  19  19  14"
      ],
      "text/html": [
       "<div>\n",
       "<style scoped>\n",
       "    .dataframe tbody tr th:only-of-type {\n",
       "        vertical-align: middle;\n",
       "    }\n",
       "\n",
       "    .dataframe tbody tr th {\n",
       "        vertical-align: top;\n",
       "    }\n",
       "\n",
       "    .dataframe thead th {\n",
       "        text-align: right;\n",
       "    }\n",
       "</style>\n",
       "<table border=\"1\" class=\"dataframe\">\n",
       "  <thead>\n",
       "    <tr style=\"text-align: right;\">\n",
       "      <th></th>\n",
       "      <th>a</th>\n",
       "      <th>b</th>\n",
       "      <th>c</th>\n",
       "      <th>d</th>\n",
       "    </tr>\n",
       "  </thead>\n",
       "  <tbody>\n",
       "    <tr>\n",
       "      <th>0</th>\n",
       "      <td>44</td>\n",
       "      <td>47</td>\n",
       "      <td>64</td>\n",
       "      <td>67</td>\n",
       "    </tr>\n",
       "    <tr>\n",
       "      <th>1</th>\n",
       "      <td>67</td>\n",
       "      <td>9</td>\n",
       "      <td>83</td>\n",
       "      <td>21</td>\n",
       "    </tr>\n",
       "    <tr>\n",
       "      <th>2</th>\n",
       "      <td>36</td>\n",
       "      <td>87</td>\n",
       "      <td>70</td>\n",
       "      <td>88</td>\n",
       "    </tr>\n",
       "    <tr>\n",
       "      <th>3</th>\n",
       "      <td>88</td>\n",
       "      <td>12</td>\n",
       "      <td>58</td>\n",
       "      <td>65</td>\n",
       "    </tr>\n",
       "    <tr>\n",
       "      <th>4</th>\n",
       "      <td>39</td>\n",
       "      <td>87</td>\n",
       "      <td>46</td>\n",
       "      <td>88</td>\n",
       "    </tr>\n",
       "    <tr>\n",
       "      <th>5</th>\n",
       "      <td>81</td>\n",
       "      <td>37</td>\n",
       "      <td>25</td>\n",
       "      <td>77</td>\n",
       "    </tr>\n",
       "    <tr>\n",
       "      <th>6</th>\n",
       "      <td>72</td>\n",
       "      <td>9</td>\n",
       "      <td>20</td>\n",
       "      <td>80</td>\n",
       "    </tr>\n",
       "    <tr>\n",
       "      <th>7</th>\n",
       "      <td>69</td>\n",
       "      <td>79</td>\n",
       "      <td>47</td>\n",
       "      <td>64</td>\n",
       "    </tr>\n",
       "    <tr>\n",
       "      <th>8</th>\n",
       "      <td>82</td>\n",
       "      <td>99</td>\n",
       "      <td>88</td>\n",
       "      <td>49</td>\n",
       "    </tr>\n",
       "    <tr>\n",
       "      <th>9</th>\n",
       "      <td>29</td>\n",
       "      <td>19</td>\n",
       "      <td>19</td>\n",
       "      <td>14</td>\n",
       "    </tr>\n",
       "  </tbody>\n",
       "</table>\n",
       "</div>"
      ]
     },
     "execution_count": 22,
     "metadata": {},
     "output_type": "execute_result"
    }
   ],
   "execution_count": 22
  },
  {
   "metadata": {},
   "cell_type": "markdown",
   "source": "# Split the DataFrame using .iloc[] by rows",
   "id": "c47cd3af84723595"
  },
  {
   "metadata": {
    "ExecuteTime": {
     "end_time": "2024-08-17T14:00:32.352645Z",
     "start_time": "2024-08-17T14:00:32.344942Z"
    }
   },
   "cell_type": "code",
   "source": [
    "df1 = df.iloc[:5, :] # :5 means splitting rows from index 0 to 4\n",
    "df1"
   ],
   "id": "eb328bf626e95bed",
   "outputs": [
    {
     "data": {
      "text/plain": [
       "    a   b   c   d\n",
       "0  44  47  64  67\n",
       "1  67   9  83  21\n",
       "2  36  87  70  88\n",
       "3  88  12  58  65\n",
       "4  39  87  46  88"
      ],
      "text/html": [
       "<div>\n",
       "<style scoped>\n",
       "    .dataframe tbody tr th:only-of-type {\n",
       "        vertical-align: middle;\n",
       "    }\n",
       "\n",
       "    .dataframe tbody tr th {\n",
       "        vertical-align: top;\n",
       "    }\n",
       "\n",
       "    .dataframe thead th {\n",
       "        text-align: right;\n",
       "    }\n",
       "</style>\n",
       "<table border=\"1\" class=\"dataframe\">\n",
       "  <thead>\n",
       "    <tr style=\"text-align: right;\">\n",
       "      <th></th>\n",
       "      <th>a</th>\n",
       "      <th>b</th>\n",
       "      <th>c</th>\n",
       "      <th>d</th>\n",
       "    </tr>\n",
       "  </thead>\n",
       "  <tbody>\n",
       "    <tr>\n",
       "      <th>0</th>\n",
       "      <td>44</td>\n",
       "      <td>47</td>\n",
       "      <td>64</td>\n",
       "      <td>67</td>\n",
       "    </tr>\n",
       "    <tr>\n",
       "      <th>1</th>\n",
       "      <td>67</td>\n",
       "      <td>9</td>\n",
       "      <td>83</td>\n",
       "      <td>21</td>\n",
       "    </tr>\n",
       "    <tr>\n",
       "      <th>2</th>\n",
       "      <td>36</td>\n",
       "      <td>87</td>\n",
       "      <td>70</td>\n",
       "      <td>88</td>\n",
       "    </tr>\n",
       "    <tr>\n",
       "      <th>3</th>\n",
       "      <td>88</td>\n",
       "      <td>12</td>\n",
       "      <td>58</td>\n",
       "      <td>65</td>\n",
       "    </tr>\n",
       "    <tr>\n",
       "      <th>4</th>\n",
       "      <td>39</td>\n",
       "      <td>87</td>\n",
       "      <td>46</td>\n",
       "      <td>88</td>\n",
       "    </tr>\n",
       "  </tbody>\n",
       "</table>\n",
       "</div>"
      ]
     },
     "execution_count": 23,
     "metadata": {},
     "output_type": "execute_result"
    }
   ],
   "execution_count": 23
  },
  {
   "metadata": {
    "ExecuteTime": {
     "end_time": "2024-08-17T14:00:32.796014Z",
     "start_time": "2024-08-17T14:00:32.788015Z"
    }
   },
   "cell_type": "code",
   "source": [
    "df2 = df.iloc[5:, :] # 5: means splitting rows from index 5 to the end\n",
    "df2"
   ],
   "id": "4ec6ca663d756363",
   "outputs": [
    {
     "data": {
      "text/plain": [
       "    a   b   c   d\n",
       "5  81  37  25  77\n",
       "6  72   9  20  80\n",
       "7  69  79  47  64\n",
       "8  82  99  88  49\n",
       "9  29  19  19  14"
      ],
      "text/html": [
       "<div>\n",
       "<style scoped>\n",
       "    .dataframe tbody tr th:only-of-type {\n",
       "        vertical-align: middle;\n",
       "    }\n",
       "\n",
       "    .dataframe tbody tr th {\n",
       "        vertical-align: top;\n",
       "    }\n",
       "\n",
       "    .dataframe thead th {\n",
       "        text-align: right;\n",
       "    }\n",
       "</style>\n",
       "<table border=\"1\" class=\"dataframe\">\n",
       "  <thead>\n",
       "    <tr style=\"text-align: right;\">\n",
       "      <th></th>\n",
       "      <th>a</th>\n",
       "      <th>b</th>\n",
       "      <th>c</th>\n",
       "      <th>d</th>\n",
       "    </tr>\n",
       "  </thead>\n",
       "  <tbody>\n",
       "    <tr>\n",
       "      <th>5</th>\n",
       "      <td>81</td>\n",
       "      <td>37</td>\n",
       "      <td>25</td>\n",
       "      <td>77</td>\n",
       "    </tr>\n",
       "    <tr>\n",
       "      <th>6</th>\n",
       "      <td>72</td>\n",
       "      <td>9</td>\n",
       "      <td>20</td>\n",
       "      <td>80</td>\n",
       "    </tr>\n",
       "    <tr>\n",
       "      <th>7</th>\n",
       "      <td>69</td>\n",
       "      <td>79</td>\n",
       "      <td>47</td>\n",
       "      <td>64</td>\n",
       "    </tr>\n",
       "    <tr>\n",
       "      <th>8</th>\n",
       "      <td>82</td>\n",
       "      <td>99</td>\n",
       "      <td>88</td>\n",
       "      <td>49</td>\n",
       "    </tr>\n",
       "    <tr>\n",
       "      <th>9</th>\n",
       "      <td>29</td>\n",
       "      <td>19</td>\n",
       "      <td>19</td>\n",
       "      <td>14</td>\n",
       "    </tr>\n",
       "  </tbody>\n",
       "</table>\n",
       "</div>"
      ]
     },
     "execution_count": 24,
     "metadata": {},
     "output_type": "execute_result"
    }
   ],
   "execution_count": 24
  },
  {
   "metadata": {},
   "cell_type": "markdown",
   "source": "# Split the DataFrame using .iloc[] by columns",
   "id": "baffe12b758ac2df"
  },
  {
   "metadata": {
    "ExecuteTime": {
     "end_time": "2024-08-17T14:00:33.351262Z",
     "start_time": "2024-08-17T14:00:33.339354Z"
    }
   },
   "cell_type": "code",
   "source": [
    "df3 = df.iloc[:, :2] # :2 means splitting columns from index 0 to 2\n",
    "df3"
   ],
   "id": "2440a46687da5e21",
   "outputs": [
    {
     "data": {
      "text/plain": [
       "    a   b\n",
       "0  44  47\n",
       "1  67   9\n",
       "2  36  87\n",
       "3  88  12\n",
       "4  39  87\n",
       "5  81  37\n",
       "6  72   9\n",
       "7  69  79\n",
       "8  82  99\n",
       "9  29  19"
      ],
      "text/html": [
       "<div>\n",
       "<style scoped>\n",
       "    .dataframe tbody tr th:only-of-type {\n",
       "        vertical-align: middle;\n",
       "    }\n",
       "\n",
       "    .dataframe tbody tr th {\n",
       "        vertical-align: top;\n",
       "    }\n",
       "\n",
       "    .dataframe thead th {\n",
       "        text-align: right;\n",
       "    }\n",
       "</style>\n",
       "<table border=\"1\" class=\"dataframe\">\n",
       "  <thead>\n",
       "    <tr style=\"text-align: right;\">\n",
       "      <th></th>\n",
       "      <th>a</th>\n",
       "      <th>b</th>\n",
       "    </tr>\n",
       "  </thead>\n",
       "  <tbody>\n",
       "    <tr>\n",
       "      <th>0</th>\n",
       "      <td>44</td>\n",
       "      <td>47</td>\n",
       "    </tr>\n",
       "    <tr>\n",
       "      <th>1</th>\n",
       "      <td>67</td>\n",
       "      <td>9</td>\n",
       "    </tr>\n",
       "    <tr>\n",
       "      <th>2</th>\n",
       "      <td>36</td>\n",
       "      <td>87</td>\n",
       "    </tr>\n",
       "    <tr>\n",
       "      <th>3</th>\n",
       "      <td>88</td>\n",
       "      <td>12</td>\n",
       "    </tr>\n",
       "    <tr>\n",
       "      <th>4</th>\n",
       "      <td>39</td>\n",
       "      <td>87</td>\n",
       "    </tr>\n",
       "    <tr>\n",
       "      <th>5</th>\n",
       "      <td>81</td>\n",
       "      <td>37</td>\n",
       "    </tr>\n",
       "    <tr>\n",
       "      <th>6</th>\n",
       "      <td>72</td>\n",
       "      <td>9</td>\n",
       "    </tr>\n",
       "    <tr>\n",
       "      <th>7</th>\n",
       "      <td>69</td>\n",
       "      <td>79</td>\n",
       "    </tr>\n",
       "    <tr>\n",
       "      <th>8</th>\n",
       "      <td>82</td>\n",
       "      <td>99</td>\n",
       "    </tr>\n",
       "    <tr>\n",
       "      <th>9</th>\n",
       "      <td>29</td>\n",
       "      <td>19</td>\n",
       "    </tr>\n",
       "  </tbody>\n",
       "</table>\n",
       "</div>"
      ]
     },
     "execution_count": 25,
     "metadata": {},
     "output_type": "execute_result"
    }
   ],
   "execution_count": 25
  },
  {
   "metadata": {
    "ExecuteTime": {
     "end_time": "2024-08-17T14:00:34.469512Z",
     "start_time": "2024-08-17T14:00:34.460885Z"
    }
   },
   "cell_type": "code",
   "source": [
    "df4 = df.iloc[:, 2:] # 2: means splitting columns from index 2 to the end\n",
    "df4"
   ],
   "id": "9f0d28b7ce94bd16",
   "outputs": [
    {
     "data": {
      "text/plain": [
       "    c   d\n",
       "0  64  67\n",
       "1  83  21\n",
       "2  70  88\n",
       "3  58  65\n",
       "4  46  88\n",
       "5  25  77\n",
       "6  20  80\n",
       "7  47  64\n",
       "8  88  49\n",
       "9  19  14"
      ],
      "text/html": [
       "<div>\n",
       "<style scoped>\n",
       "    .dataframe tbody tr th:only-of-type {\n",
       "        vertical-align: middle;\n",
       "    }\n",
       "\n",
       "    .dataframe tbody tr th {\n",
       "        vertical-align: top;\n",
       "    }\n",
       "\n",
       "    .dataframe thead th {\n",
       "        text-align: right;\n",
       "    }\n",
       "</style>\n",
       "<table border=\"1\" class=\"dataframe\">\n",
       "  <thead>\n",
       "    <tr style=\"text-align: right;\">\n",
       "      <th></th>\n",
       "      <th>c</th>\n",
       "      <th>d</th>\n",
       "    </tr>\n",
       "  </thead>\n",
       "  <tbody>\n",
       "    <tr>\n",
       "      <th>0</th>\n",
       "      <td>64</td>\n",
       "      <td>67</td>\n",
       "    </tr>\n",
       "    <tr>\n",
       "      <th>1</th>\n",
       "      <td>83</td>\n",
       "      <td>21</td>\n",
       "    </tr>\n",
       "    <tr>\n",
       "      <th>2</th>\n",
       "      <td>70</td>\n",
       "      <td>88</td>\n",
       "    </tr>\n",
       "    <tr>\n",
       "      <th>3</th>\n",
       "      <td>58</td>\n",
       "      <td>65</td>\n",
       "    </tr>\n",
       "    <tr>\n",
       "      <th>4</th>\n",
       "      <td>46</td>\n",
       "      <td>88</td>\n",
       "    </tr>\n",
       "    <tr>\n",
       "      <th>5</th>\n",
       "      <td>25</td>\n",
       "      <td>77</td>\n",
       "    </tr>\n",
       "    <tr>\n",
       "      <th>6</th>\n",
       "      <td>20</td>\n",
       "      <td>80</td>\n",
       "    </tr>\n",
       "    <tr>\n",
       "      <th>7</th>\n",
       "      <td>47</td>\n",
       "      <td>64</td>\n",
       "    </tr>\n",
       "    <tr>\n",
       "      <th>8</th>\n",
       "      <td>88</td>\n",
       "      <td>49</td>\n",
       "    </tr>\n",
       "    <tr>\n",
       "      <th>9</th>\n",
       "      <td>19</td>\n",
       "      <td>14</td>\n",
       "    </tr>\n",
       "  </tbody>\n",
       "</table>\n",
       "</div>"
      ]
     },
     "execution_count": 26,
     "metadata": {},
     "output_type": "execute_result"
    }
   ],
   "execution_count": 26
  },
  {
   "metadata": {},
   "cell_type": "markdown",
   "source": "## # split the dictionary data",
   "id": "24900618a06f5c16"
  },
  {
   "metadata": {
    "ExecuteTime": {
     "end_time": "2024-08-17T14:00:35.173459Z",
     "start_time": "2024-08-17T14:00:35.165792Z"
    }
   },
   "cell_type": "code",
   "source": [
    "tech_companies = {\n",
    "    'brand': ['Apple', 'Google', 'Microsoft', 'Amazon', 'Facebook', 'Twitter', 'Alibaba', 'Tencent'],\n",
    "    'founded': [1976, 1998, 1975, 1994, 2004, 2006, 1999, 1998],\n",
    "    'ceo': ['Tim Cook', 'Sundar Pichai', 'Satya Nadella', 'Jeff Bezos', 'Mark Zuckerberg', 'Jack Dorsey', 'Daniel Zhang', 'Ma Huateng'],\n",
    "    'industry': ['Hardware', 'Search Engine', 'Software', 'E-commerce', 'Social Media', 'Social Media', 'E-commerce', 'Social Media']\n",
    "}\n",
    "\n",
    "df = pd.DataFrame(tech_companies)\n",
    "df"
   ],
   "id": "6180cdf5ddc134c8",
   "outputs": [
    {
     "data": {
      "text/plain": [
       "       brand  founded              ceo       industry\n",
       "0      Apple     1976         Tim Cook       Hardware\n",
       "1     Google     1998    Sundar Pichai  Search Engine\n",
       "2  Microsoft     1975    Satya Nadella       Software\n",
       "3     Amazon     1994       Jeff Bezos     E-commerce\n",
       "4   Facebook     2004  Mark Zuckerberg   Social Media\n",
       "5    Twitter     2006      Jack Dorsey   Social Media\n",
       "6    Alibaba     1999     Daniel Zhang     E-commerce\n",
       "7    Tencent     1998       Ma Huateng   Social Media"
      ],
      "text/html": [
       "<div>\n",
       "<style scoped>\n",
       "    .dataframe tbody tr th:only-of-type {\n",
       "        vertical-align: middle;\n",
       "    }\n",
       "\n",
       "    .dataframe tbody tr th {\n",
       "        vertical-align: top;\n",
       "    }\n",
       "\n",
       "    .dataframe thead th {\n",
       "        text-align: right;\n",
       "    }\n",
       "</style>\n",
       "<table border=\"1\" class=\"dataframe\">\n",
       "  <thead>\n",
       "    <tr style=\"text-align: right;\">\n",
       "      <th></th>\n",
       "      <th>brand</th>\n",
       "      <th>founded</th>\n",
       "      <th>ceo</th>\n",
       "      <th>industry</th>\n",
       "    </tr>\n",
       "  </thead>\n",
       "  <tbody>\n",
       "    <tr>\n",
       "      <th>0</th>\n",
       "      <td>Apple</td>\n",
       "      <td>1976</td>\n",
       "      <td>Tim Cook</td>\n",
       "      <td>Hardware</td>\n",
       "    </tr>\n",
       "    <tr>\n",
       "      <th>1</th>\n",
       "      <td>Google</td>\n",
       "      <td>1998</td>\n",
       "      <td>Sundar Pichai</td>\n",
       "      <td>Search Engine</td>\n",
       "    </tr>\n",
       "    <tr>\n",
       "      <th>2</th>\n",
       "      <td>Microsoft</td>\n",
       "      <td>1975</td>\n",
       "      <td>Satya Nadella</td>\n",
       "      <td>Software</td>\n",
       "    </tr>\n",
       "    <tr>\n",
       "      <th>3</th>\n",
       "      <td>Amazon</td>\n",
       "      <td>1994</td>\n",
       "      <td>Jeff Bezos</td>\n",
       "      <td>E-commerce</td>\n",
       "    </tr>\n",
       "    <tr>\n",
       "      <th>4</th>\n",
       "      <td>Facebook</td>\n",
       "      <td>2004</td>\n",
       "      <td>Mark Zuckerberg</td>\n",
       "      <td>Social Media</td>\n",
       "    </tr>\n",
       "    <tr>\n",
       "      <th>5</th>\n",
       "      <td>Twitter</td>\n",
       "      <td>2006</td>\n",
       "      <td>Jack Dorsey</td>\n",
       "      <td>Social Media</td>\n",
       "    </tr>\n",
       "    <tr>\n",
       "      <th>6</th>\n",
       "      <td>Alibaba</td>\n",
       "      <td>1999</td>\n",
       "      <td>Daniel Zhang</td>\n",
       "      <td>E-commerce</td>\n",
       "    </tr>\n",
       "    <tr>\n",
       "      <th>7</th>\n",
       "      <td>Tencent</td>\n",
       "      <td>1998</td>\n",
       "      <td>Ma Huateng</td>\n",
       "      <td>Social Media</td>\n",
       "    </tr>\n",
       "  </tbody>\n",
       "</table>\n",
       "</div>"
      ]
     },
     "execution_count": 27,
     "metadata": {},
     "output_type": "execute_result"
    }
   ],
   "execution_count": 27
  },
  {
   "metadata": {
    "ExecuteTime": {
     "end_time": "2024-08-17T14:00:35.968018Z",
     "start_time": "2024-08-17T14:00:35.961054Z"
    }
   },
   "cell_type": "code",
   "source": [
    "# Split the DataFrame using .iloc[] by rows\n",
    "df1 = df.iloc[:2, :] # :3 means splitting rows from index 0 to 2\n",
    "df1"
   ],
   "id": "724c5dbd68fdca4a",
   "outputs": [
    {
     "data": {
      "text/plain": [
       "    brand  founded            ceo       industry\n",
       "0   Apple     1976       Tim Cook       Hardware\n",
       "1  Google     1998  Sundar Pichai  Search Engine"
      ],
      "text/html": [
       "<div>\n",
       "<style scoped>\n",
       "    .dataframe tbody tr th:only-of-type {\n",
       "        vertical-align: middle;\n",
       "    }\n",
       "\n",
       "    .dataframe tbody tr th {\n",
       "        vertical-align: top;\n",
       "    }\n",
       "\n",
       "    .dataframe thead th {\n",
       "        text-align: right;\n",
       "    }\n",
       "</style>\n",
       "<table border=\"1\" class=\"dataframe\">\n",
       "  <thead>\n",
       "    <tr style=\"text-align: right;\">\n",
       "      <th></th>\n",
       "      <th>brand</th>\n",
       "      <th>founded</th>\n",
       "      <th>ceo</th>\n",
       "      <th>industry</th>\n",
       "    </tr>\n",
       "  </thead>\n",
       "  <tbody>\n",
       "    <tr>\n",
       "      <th>0</th>\n",
       "      <td>Apple</td>\n",
       "      <td>1976</td>\n",
       "      <td>Tim Cook</td>\n",
       "      <td>Hardware</td>\n",
       "    </tr>\n",
       "    <tr>\n",
       "      <th>1</th>\n",
       "      <td>Google</td>\n",
       "      <td>1998</td>\n",
       "      <td>Sundar Pichai</td>\n",
       "      <td>Search Engine</td>\n",
       "    </tr>\n",
       "  </tbody>\n",
       "</table>\n",
       "</div>"
      ]
     },
     "execution_count": 28,
     "metadata": {},
     "output_type": "execute_result"
    }
   ],
   "execution_count": 28
  },
  {
   "metadata": {
    "ExecuteTime": {
     "end_time": "2024-08-17T14:00:36.475992Z",
     "start_time": "2024-08-17T14:00:36.468430Z"
    }
   },
   "cell_type": "code",
   "source": [
    "df2 = df.iloc[2:, :] # 3: means splitting rows from index 3 to the end\n",
    "df2"
   ],
   "id": "6fbcec71a6233870",
   "outputs": [
    {
     "data": {
      "text/plain": [
       "       brand  founded              ceo      industry\n",
       "2  Microsoft     1975    Satya Nadella      Software\n",
       "3     Amazon     1994       Jeff Bezos    E-commerce\n",
       "4   Facebook     2004  Mark Zuckerberg  Social Media\n",
       "5    Twitter     2006      Jack Dorsey  Social Media\n",
       "6    Alibaba     1999     Daniel Zhang    E-commerce\n",
       "7    Tencent     1998       Ma Huateng  Social Media"
      ],
      "text/html": [
       "<div>\n",
       "<style scoped>\n",
       "    .dataframe tbody tr th:only-of-type {\n",
       "        vertical-align: middle;\n",
       "    }\n",
       "\n",
       "    .dataframe tbody tr th {\n",
       "        vertical-align: top;\n",
       "    }\n",
       "\n",
       "    .dataframe thead th {\n",
       "        text-align: right;\n",
       "    }\n",
       "</style>\n",
       "<table border=\"1\" class=\"dataframe\">\n",
       "  <thead>\n",
       "    <tr style=\"text-align: right;\">\n",
       "      <th></th>\n",
       "      <th>brand</th>\n",
       "      <th>founded</th>\n",
       "      <th>ceo</th>\n",
       "      <th>industry</th>\n",
       "    </tr>\n",
       "  </thead>\n",
       "  <tbody>\n",
       "    <tr>\n",
       "      <th>2</th>\n",
       "      <td>Microsoft</td>\n",
       "      <td>1975</td>\n",
       "      <td>Satya Nadella</td>\n",
       "      <td>Software</td>\n",
       "    </tr>\n",
       "    <tr>\n",
       "      <th>3</th>\n",
       "      <td>Amazon</td>\n",
       "      <td>1994</td>\n",
       "      <td>Jeff Bezos</td>\n",
       "      <td>E-commerce</td>\n",
       "    </tr>\n",
       "    <tr>\n",
       "      <th>4</th>\n",
       "      <td>Facebook</td>\n",
       "      <td>2004</td>\n",
       "      <td>Mark Zuckerberg</td>\n",
       "      <td>Social Media</td>\n",
       "    </tr>\n",
       "    <tr>\n",
       "      <th>5</th>\n",
       "      <td>Twitter</td>\n",
       "      <td>2006</td>\n",
       "      <td>Jack Dorsey</td>\n",
       "      <td>Social Media</td>\n",
       "    </tr>\n",
       "    <tr>\n",
       "      <th>6</th>\n",
       "      <td>Alibaba</td>\n",
       "      <td>1999</td>\n",
       "      <td>Daniel Zhang</td>\n",
       "      <td>E-commerce</td>\n",
       "    </tr>\n",
       "    <tr>\n",
       "      <th>7</th>\n",
       "      <td>Tencent</td>\n",
       "      <td>1998</td>\n",
       "      <td>Ma Huateng</td>\n",
       "      <td>Social Media</td>\n",
       "    </tr>\n",
       "  </tbody>\n",
       "</table>\n",
       "</div>"
      ]
     },
     "execution_count": 29,
     "metadata": {},
     "output_type": "execute_result"
    }
   ],
   "execution_count": 29
  },
  {
   "metadata": {
    "ExecuteTime": {
     "end_time": "2024-08-17T14:00:37.085763Z",
     "start_time": "2024-08-17T14:00:37.076762Z"
    }
   },
   "cell_type": "code",
   "source": [
    "# Split the DataFrame using .iloc[] by columns\n",
    "df3 = df.iloc[:, :2] # :2 means splitting columns from index 0 to 2\n",
    "df3"
   ],
   "id": "161faab4b7c390f1",
   "outputs": [
    {
     "data": {
      "text/plain": [
       "       brand  founded\n",
       "0      Apple     1976\n",
       "1     Google     1998\n",
       "2  Microsoft     1975\n",
       "3     Amazon     1994\n",
       "4   Facebook     2004\n",
       "5    Twitter     2006\n",
       "6    Alibaba     1999\n",
       "7    Tencent     1998"
      ],
      "text/html": [
       "<div>\n",
       "<style scoped>\n",
       "    .dataframe tbody tr th:only-of-type {\n",
       "        vertical-align: middle;\n",
       "    }\n",
       "\n",
       "    .dataframe tbody tr th {\n",
       "        vertical-align: top;\n",
       "    }\n",
       "\n",
       "    .dataframe thead th {\n",
       "        text-align: right;\n",
       "    }\n",
       "</style>\n",
       "<table border=\"1\" class=\"dataframe\">\n",
       "  <thead>\n",
       "    <tr style=\"text-align: right;\">\n",
       "      <th></th>\n",
       "      <th>brand</th>\n",
       "      <th>founded</th>\n",
       "    </tr>\n",
       "  </thead>\n",
       "  <tbody>\n",
       "    <tr>\n",
       "      <th>0</th>\n",
       "      <td>Apple</td>\n",
       "      <td>1976</td>\n",
       "    </tr>\n",
       "    <tr>\n",
       "      <th>1</th>\n",
       "      <td>Google</td>\n",
       "      <td>1998</td>\n",
       "    </tr>\n",
       "    <tr>\n",
       "      <th>2</th>\n",
       "      <td>Microsoft</td>\n",
       "      <td>1975</td>\n",
       "    </tr>\n",
       "    <tr>\n",
       "      <th>3</th>\n",
       "      <td>Amazon</td>\n",
       "      <td>1994</td>\n",
       "    </tr>\n",
       "    <tr>\n",
       "      <th>4</th>\n",
       "      <td>Facebook</td>\n",
       "      <td>2004</td>\n",
       "    </tr>\n",
       "    <tr>\n",
       "      <th>5</th>\n",
       "      <td>Twitter</td>\n",
       "      <td>2006</td>\n",
       "    </tr>\n",
       "    <tr>\n",
       "      <th>6</th>\n",
       "      <td>Alibaba</td>\n",
       "      <td>1999</td>\n",
       "    </tr>\n",
       "    <tr>\n",
       "      <th>7</th>\n",
       "      <td>Tencent</td>\n",
       "      <td>1998</td>\n",
       "    </tr>\n",
       "  </tbody>\n",
       "</table>\n",
       "</div>"
      ]
     },
     "execution_count": 30,
     "metadata": {},
     "output_type": "execute_result"
    }
   ],
   "execution_count": 30
  },
  {
   "metadata": {
    "ExecuteTime": {
     "end_time": "2024-08-17T14:00:37.755400Z",
     "start_time": "2024-08-17T14:00:37.747403Z"
    }
   },
   "cell_type": "code",
   "source": [
    "df4 = df.iloc[:, 2:] # 2: means splitting columns from index 2 to the end\n",
    "df4"
   ],
   "id": "d322766bdd8a4075",
   "outputs": [
    {
     "data": {
      "text/plain": [
       "               ceo       industry\n",
       "0         Tim Cook       Hardware\n",
       "1    Sundar Pichai  Search Engine\n",
       "2    Satya Nadella       Software\n",
       "3       Jeff Bezos     E-commerce\n",
       "4  Mark Zuckerberg   Social Media\n",
       "5      Jack Dorsey   Social Media\n",
       "6     Daniel Zhang     E-commerce\n",
       "7       Ma Huateng   Social Media"
      ],
      "text/html": [
       "<div>\n",
       "<style scoped>\n",
       "    .dataframe tbody tr th:only-of-type {\n",
       "        vertical-align: middle;\n",
       "    }\n",
       "\n",
       "    .dataframe tbody tr th {\n",
       "        vertical-align: top;\n",
       "    }\n",
       "\n",
       "    .dataframe thead th {\n",
       "        text-align: right;\n",
       "    }\n",
       "</style>\n",
       "<table border=\"1\" class=\"dataframe\">\n",
       "  <thead>\n",
       "    <tr style=\"text-align: right;\">\n",
       "      <th></th>\n",
       "      <th>ceo</th>\n",
       "      <th>industry</th>\n",
       "    </tr>\n",
       "  </thead>\n",
       "  <tbody>\n",
       "    <tr>\n",
       "      <th>0</th>\n",
       "      <td>Tim Cook</td>\n",
       "      <td>Hardware</td>\n",
       "    </tr>\n",
       "    <tr>\n",
       "      <th>1</th>\n",
       "      <td>Sundar Pichai</td>\n",
       "      <td>Search Engine</td>\n",
       "    </tr>\n",
       "    <tr>\n",
       "      <th>2</th>\n",
       "      <td>Satya Nadella</td>\n",
       "      <td>Software</td>\n",
       "    </tr>\n",
       "    <tr>\n",
       "      <th>3</th>\n",
       "      <td>Jeff Bezos</td>\n",
       "      <td>E-commerce</td>\n",
       "    </tr>\n",
       "    <tr>\n",
       "      <th>4</th>\n",
       "      <td>Mark Zuckerberg</td>\n",
       "      <td>Social Media</td>\n",
       "    </tr>\n",
       "    <tr>\n",
       "      <th>5</th>\n",
       "      <td>Jack Dorsey</td>\n",
       "      <td>Social Media</td>\n",
       "    </tr>\n",
       "    <tr>\n",
       "      <th>6</th>\n",
       "      <td>Daniel Zhang</td>\n",
       "      <td>E-commerce</td>\n",
       "    </tr>\n",
       "    <tr>\n",
       "      <th>7</th>\n",
       "      <td>Ma Huateng</td>\n",
       "      <td>Social Media</td>\n",
       "    </tr>\n",
       "  </tbody>\n",
       "</table>\n",
       "</div>"
      ]
     },
     "execution_count": 31,
     "metadata": {},
     "output_type": "execute_result"
    }
   ],
   "execution_count": 31
  },
  {
   "metadata": {},
   "cell_type": "markdown",
   "source": "## split DataFrame using .groupby()",
   "id": "fc69ab0169d72d1e"
  },
  {
   "metadata": {
    "ExecuteTime": {
     "end_time": "2024-08-17T14:00:38.141903Z",
     "start_time": "2024-08-17T14:00:38.136408Z"
    }
   },
   "cell_type": "code",
   "source": [
    "grouped = df.groupby('industry')\n",
    "grouped.groups"
   ],
   "id": "6c0ac0734d4ddb3d",
   "outputs": [
    {
     "data": {
      "text/plain": [
       "{'E-commerce': [3, 6], 'Hardware': [0], 'Search Engine': [1], 'Social Media': [4, 5, 7], 'Software': [2]}"
      ]
     },
     "execution_count": 32,
     "metadata": {},
     "output_type": "execute_result"
    }
   ],
   "execution_count": 32
  },
  {
   "metadata": {},
   "cell_type": "markdown",
   "source": "",
   "id": "432ebe80dc3307c"
  },
  {
   "metadata": {
    "ExecuteTime": {
     "end_time": "2024-08-17T14:00:38.961776Z",
     "start_time": "2024-08-17T14:00:38.954014Z"
    }
   },
   "cell_type": "code",
   "source": "grouped.get_group('E-commerce')",
   "id": "36fec32de5737b72",
   "outputs": [
    {
     "data": {
      "text/plain": [
       "     brand  founded           ceo    industry\n",
       "3   Amazon     1994    Jeff Bezos  E-commerce\n",
       "6  Alibaba     1999  Daniel Zhang  E-commerce"
      ],
      "text/html": [
       "<div>\n",
       "<style scoped>\n",
       "    .dataframe tbody tr th:only-of-type {\n",
       "        vertical-align: middle;\n",
       "    }\n",
       "\n",
       "    .dataframe tbody tr th {\n",
       "        vertical-align: top;\n",
       "    }\n",
       "\n",
       "    .dataframe thead th {\n",
       "        text-align: right;\n",
       "    }\n",
       "</style>\n",
       "<table border=\"1\" class=\"dataframe\">\n",
       "  <thead>\n",
       "    <tr style=\"text-align: right;\">\n",
       "      <th></th>\n",
       "      <th>brand</th>\n",
       "      <th>founded</th>\n",
       "      <th>ceo</th>\n",
       "      <th>industry</th>\n",
       "    </tr>\n",
       "  </thead>\n",
       "  <tbody>\n",
       "    <tr>\n",
       "      <th>3</th>\n",
       "      <td>Amazon</td>\n",
       "      <td>1994</td>\n",
       "      <td>Jeff Bezos</td>\n",
       "      <td>E-commerce</td>\n",
       "    </tr>\n",
       "    <tr>\n",
       "      <th>6</th>\n",
       "      <td>Alibaba</td>\n",
       "      <td>1999</td>\n",
       "      <td>Daniel Zhang</td>\n",
       "      <td>E-commerce</td>\n",
       "    </tr>\n",
       "  </tbody>\n",
       "</table>\n",
       "</div>"
      ]
     },
     "execution_count": 33,
     "metadata": {},
     "output_type": "execute_result"
    }
   ],
   "execution_count": 33
  },
  {
   "metadata": {
    "ExecuteTime": {
     "end_time": "2024-08-17T14:00:39.406717Z",
     "start_time": "2024-08-17T14:00:39.397722Z"
    }
   },
   "cell_type": "code",
   "source": "grouped.get_group('Social Media')",
   "id": "2e3b5b0082b3449b",
   "outputs": [
    {
     "data": {
      "text/plain": [
       "      brand  founded              ceo      industry\n",
       "4  Facebook     2004  Mark Zuckerberg  Social Media\n",
       "5   Twitter     2006      Jack Dorsey  Social Media\n",
       "7   Tencent     1998       Ma Huateng  Social Media"
      ],
      "text/html": [
       "<div>\n",
       "<style scoped>\n",
       "    .dataframe tbody tr th:only-of-type {\n",
       "        vertical-align: middle;\n",
       "    }\n",
       "\n",
       "    .dataframe tbody tr th {\n",
       "        vertical-align: top;\n",
       "    }\n",
       "\n",
       "    .dataframe thead th {\n",
       "        text-align: right;\n",
       "    }\n",
       "</style>\n",
       "<table border=\"1\" class=\"dataframe\">\n",
       "  <thead>\n",
       "    <tr style=\"text-align: right;\">\n",
       "      <th></th>\n",
       "      <th>brand</th>\n",
       "      <th>founded</th>\n",
       "      <th>ceo</th>\n",
       "      <th>industry</th>\n",
       "    </tr>\n",
       "  </thead>\n",
       "  <tbody>\n",
       "    <tr>\n",
       "      <th>4</th>\n",
       "      <td>Facebook</td>\n",
       "      <td>2004</td>\n",
       "      <td>Mark Zuckerberg</td>\n",
       "      <td>Social Media</td>\n",
       "    </tr>\n",
       "    <tr>\n",
       "      <th>5</th>\n",
       "      <td>Twitter</td>\n",
       "      <td>2006</td>\n",
       "      <td>Jack Dorsey</td>\n",
       "      <td>Social Media</td>\n",
       "    </tr>\n",
       "    <tr>\n",
       "      <th>7</th>\n",
       "      <td>Tencent</td>\n",
       "      <td>1998</td>\n",
       "      <td>Ma Huateng</td>\n",
       "      <td>Social Media</td>\n",
       "    </tr>\n",
       "  </tbody>\n",
       "</table>\n",
       "</div>"
      ]
     },
     "execution_count": 34,
     "metadata": {},
     "output_type": "execute_result"
    }
   ],
   "execution_count": 34
  },
  {
   "metadata": {},
   "cell_type": "markdown",
   "source": "## Split the DataFrame using .sample() (shuffle rows)",
   "id": "b2c5a1d665854942"
  },
  {
   "metadata": {
    "ExecuteTime": {
     "end_time": "2024-08-17T14:00:40.548014Z",
     "start_time": "2024-08-17T14:00:40.539719Z"
    }
   },
   "cell_type": "code",
   "source": [
    "# n = number of rows to return\n",
    "df6 = df.sample(n=2)\n",
    "df6"
   ],
   "id": "415cfb61010e63bd",
   "outputs": [
    {
     "data": {
      "text/plain": [
       "       brand  founded            ceo    industry\n",
       "2  Microsoft     1975  Satya Nadella    Software\n",
       "3     Amazon     1994     Jeff Bezos  E-commerce"
      ],
      "text/html": [
       "<div>\n",
       "<style scoped>\n",
       "    .dataframe tbody tr th:only-of-type {\n",
       "        vertical-align: middle;\n",
       "    }\n",
       "\n",
       "    .dataframe tbody tr th {\n",
       "        vertical-align: top;\n",
       "    }\n",
       "\n",
       "    .dataframe thead th {\n",
       "        text-align: right;\n",
       "    }\n",
       "</style>\n",
       "<table border=\"1\" class=\"dataframe\">\n",
       "  <thead>\n",
       "    <tr style=\"text-align: right;\">\n",
       "      <th></th>\n",
       "      <th>brand</th>\n",
       "      <th>founded</th>\n",
       "      <th>ceo</th>\n",
       "      <th>industry</th>\n",
       "    </tr>\n",
       "  </thead>\n",
       "  <tbody>\n",
       "    <tr>\n",
       "      <th>2</th>\n",
       "      <td>Microsoft</td>\n",
       "      <td>1975</td>\n",
       "      <td>Satya Nadella</td>\n",
       "      <td>Software</td>\n",
       "    </tr>\n",
       "    <tr>\n",
       "      <th>3</th>\n",
       "      <td>Amazon</td>\n",
       "      <td>1994</td>\n",
       "      <td>Jeff Bezos</td>\n",
       "      <td>E-commerce</td>\n",
       "    </tr>\n",
       "  </tbody>\n",
       "</table>\n",
       "</div>"
      ]
     },
     "execution_count": 35,
     "metadata": {},
     "output_type": "execute_result"
    }
   ],
   "execution_count": 35
  },
  {
   "metadata": {
    "ExecuteTime": {
     "end_time": "2024-08-17T14:00:40.955813Z",
     "start_time": "2024-08-17T14:00:40.946813Z"
    }
   },
   "cell_type": "code",
   "source": [
    "# frac means the fraction of rows to return\n",
    "df7 = df.sample(frac=0.5)\n",
    "df7"
   ],
   "id": "e37bdf16279a4c73",
   "outputs": [
    {
     "data": {
      "text/plain": [
       "     brand  founded            ceo       industry\n",
       "1   Google     1998  Sundar Pichai  Search Engine\n",
       "6  Alibaba     1999   Daniel Zhang     E-commerce\n",
       "0    Apple     1976       Tim Cook       Hardware\n",
       "7  Tencent     1998     Ma Huateng   Social Media"
      ],
      "text/html": [
       "<div>\n",
       "<style scoped>\n",
       "    .dataframe tbody tr th:only-of-type {\n",
       "        vertical-align: middle;\n",
       "    }\n",
       "\n",
       "    .dataframe tbody tr th {\n",
       "        vertical-align: top;\n",
       "    }\n",
       "\n",
       "    .dataframe thead th {\n",
       "        text-align: right;\n",
       "    }\n",
       "</style>\n",
       "<table border=\"1\" class=\"dataframe\">\n",
       "  <thead>\n",
       "    <tr style=\"text-align: right;\">\n",
       "      <th></th>\n",
       "      <th>brand</th>\n",
       "      <th>founded</th>\n",
       "      <th>ceo</th>\n",
       "      <th>industry</th>\n",
       "    </tr>\n",
       "  </thead>\n",
       "  <tbody>\n",
       "    <tr>\n",
       "      <th>1</th>\n",
       "      <td>Google</td>\n",
       "      <td>1998</td>\n",
       "      <td>Sundar Pichai</td>\n",
       "      <td>Search Engine</td>\n",
       "    </tr>\n",
       "    <tr>\n",
       "      <th>6</th>\n",
       "      <td>Alibaba</td>\n",
       "      <td>1999</td>\n",
       "      <td>Daniel Zhang</td>\n",
       "      <td>E-commerce</td>\n",
       "    </tr>\n",
       "    <tr>\n",
       "      <th>0</th>\n",
       "      <td>Apple</td>\n",
       "      <td>1976</td>\n",
       "      <td>Tim Cook</td>\n",
       "      <td>Hardware</td>\n",
       "    </tr>\n",
       "    <tr>\n",
       "      <th>7</th>\n",
       "      <td>Tencent</td>\n",
       "      <td>1998</td>\n",
       "      <td>Ma Huateng</td>\n",
       "      <td>Social Media</td>\n",
       "    </tr>\n",
       "  </tbody>\n",
       "</table>\n",
       "</div>"
      ]
     },
     "execution_count": 36,
     "metadata": {},
     "output_type": "execute_result"
    }
   ],
   "execution_count": 36
  },
  {
   "metadata": {},
   "cell_type": "markdown",
   "source": "# Merge data",
   "id": "338caab2543e7c90"
  },
  {
   "metadata": {},
   "cell_type": "markdown",
   "source": [
    "Use .concat() in pandas works by combining Dataframes across rows\n",
    "or columns. We can concat two or more data frames either along\n",
    "rows (axis=0) or along columns (axis=1)"
   ],
   "id": "5a209b1cadac6f58"
  },
  {
   "metadata": {
    "ExecuteTime": {
     "end_time": "2024-08-17T14:00:41.458899Z",
     "start_time": "2024-08-17T14:00:41.447641Z"
    }
   },
   "cell_type": "code",
   "source": [
    "# DataFrame Left\n",
    "left = pd.DataFrame({\n",
    "    \"A\": [\"A0\", \"A1\", \"A2\"],\n",
    "    \"B\": [\"B0\", \"B1\", \"B2\"]\n",
    "}, index=[\"K0\", \"K1\", \"K2\"])\n",
    "\n",
    "# DataFrame right\n",
    "right = pd.DataFrame({\n",
    "    \"C\": [\"C0\", \"C2\", \"C3\"],\n",
    "    \"D\": [\"D0\", \"D2\", \"D3\"]\n",
    "}, index=[\"K0\", \"K2\", \"K3\"])\n",
    "\n",
    "# no axis specified, so it will concatenate vertically\n",
    "concat = pd.concat([left, right])\n",
    "concat"
   ],
   "id": "968889b3a38ba580",
   "outputs": [
    {
     "data": {
      "text/plain": [
       "      A    B    C    D\n",
       "K0   A0   B0  NaN  NaN\n",
       "K1   A1   B1  NaN  NaN\n",
       "K2   A2   B2  NaN  NaN\n",
       "K0  NaN  NaN   C0   D0\n",
       "K2  NaN  NaN   C2   D2\n",
       "K3  NaN  NaN   C3   D3"
      ],
      "text/html": [
       "<div>\n",
       "<style scoped>\n",
       "    .dataframe tbody tr th:only-of-type {\n",
       "        vertical-align: middle;\n",
       "    }\n",
       "\n",
       "    .dataframe tbody tr th {\n",
       "        vertical-align: top;\n",
       "    }\n",
       "\n",
       "    .dataframe thead th {\n",
       "        text-align: right;\n",
       "    }\n",
       "</style>\n",
       "<table border=\"1\" class=\"dataframe\">\n",
       "  <thead>\n",
       "    <tr style=\"text-align: right;\">\n",
       "      <th></th>\n",
       "      <th>A</th>\n",
       "      <th>B</th>\n",
       "      <th>C</th>\n",
       "      <th>D</th>\n",
       "    </tr>\n",
       "  </thead>\n",
       "  <tbody>\n",
       "    <tr>\n",
       "      <th>K0</th>\n",
       "      <td>A0</td>\n",
       "      <td>B0</td>\n",
       "      <td>NaN</td>\n",
       "      <td>NaN</td>\n",
       "    </tr>\n",
       "    <tr>\n",
       "      <th>K1</th>\n",
       "      <td>A1</td>\n",
       "      <td>B1</td>\n",
       "      <td>NaN</td>\n",
       "      <td>NaN</td>\n",
       "    </tr>\n",
       "    <tr>\n",
       "      <th>K2</th>\n",
       "      <td>A2</td>\n",
       "      <td>B2</td>\n",
       "      <td>NaN</td>\n",
       "      <td>NaN</td>\n",
       "    </tr>\n",
       "    <tr>\n",
       "      <th>K0</th>\n",
       "      <td>NaN</td>\n",
       "      <td>NaN</td>\n",
       "      <td>C0</td>\n",
       "      <td>D0</td>\n",
       "    </tr>\n",
       "    <tr>\n",
       "      <th>K2</th>\n",
       "      <td>NaN</td>\n",
       "      <td>NaN</td>\n",
       "      <td>C2</td>\n",
       "      <td>D2</td>\n",
       "    </tr>\n",
       "    <tr>\n",
       "      <th>K3</th>\n",
       "      <td>NaN</td>\n",
       "      <td>NaN</td>\n",
       "      <td>C3</td>\n",
       "      <td>D3</td>\n",
       "    </tr>\n",
       "  </tbody>\n",
       "</table>\n",
       "</div>"
      ]
     },
     "execution_count": 37,
     "metadata": {},
     "output_type": "execute_result"
    }
   ],
   "execution_count": 37
  },
  {
   "metadata": {
    "ExecuteTime": {
     "end_time": "2024-08-17T14:00:42.022360Z",
     "start_time": "2024-08-17T14:00:42.011828Z"
    }
   },
   "cell_type": "code",
   "source": [
    "# Axis=0 means concatenate vertically\n",
    "concat1 = pd.concat([left, right], axis=0)\n",
    "concat1"
   ],
   "id": "108e470fcc01203e",
   "outputs": [
    {
     "data": {
      "text/plain": [
       "      A    B    C    D\n",
       "K0   A0   B0  NaN  NaN\n",
       "K1   A1   B1  NaN  NaN\n",
       "K2   A2   B2  NaN  NaN\n",
       "K0  NaN  NaN   C0   D0\n",
       "K2  NaN  NaN   C2   D2\n",
       "K3  NaN  NaN   C3   D3"
      ],
      "text/html": [
       "<div>\n",
       "<style scoped>\n",
       "    .dataframe tbody tr th:only-of-type {\n",
       "        vertical-align: middle;\n",
       "    }\n",
       "\n",
       "    .dataframe tbody tr th {\n",
       "        vertical-align: top;\n",
       "    }\n",
       "\n",
       "    .dataframe thead th {\n",
       "        text-align: right;\n",
       "    }\n",
       "</style>\n",
       "<table border=\"1\" class=\"dataframe\">\n",
       "  <thead>\n",
       "    <tr style=\"text-align: right;\">\n",
       "      <th></th>\n",
       "      <th>A</th>\n",
       "      <th>B</th>\n",
       "      <th>C</th>\n",
       "      <th>D</th>\n",
       "    </tr>\n",
       "  </thead>\n",
       "  <tbody>\n",
       "    <tr>\n",
       "      <th>K0</th>\n",
       "      <td>A0</td>\n",
       "      <td>B0</td>\n",
       "      <td>NaN</td>\n",
       "      <td>NaN</td>\n",
       "    </tr>\n",
       "    <tr>\n",
       "      <th>K1</th>\n",
       "      <td>A1</td>\n",
       "      <td>B1</td>\n",
       "      <td>NaN</td>\n",
       "      <td>NaN</td>\n",
       "    </tr>\n",
       "    <tr>\n",
       "      <th>K2</th>\n",
       "      <td>A2</td>\n",
       "      <td>B2</td>\n",
       "      <td>NaN</td>\n",
       "      <td>NaN</td>\n",
       "    </tr>\n",
       "    <tr>\n",
       "      <th>K0</th>\n",
       "      <td>NaN</td>\n",
       "      <td>NaN</td>\n",
       "      <td>C0</td>\n",
       "      <td>D0</td>\n",
       "    </tr>\n",
       "    <tr>\n",
       "      <th>K2</th>\n",
       "      <td>NaN</td>\n",
       "      <td>NaN</td>\n",
       "      <td>C2</td>\n",
       "      <td>D2</td>\n",
       "    </tr>\n",
       "    <tr>\n",
       "      <th>K3</th>\n",
       "      <td>NaN</td>\n",
       "      <td>NaN</td>\n",
       "      <td>C3</td>\n",
       "      <td>D3</td>\n",
       "    </tr>\n",
       "  </tbody>\n",
       "</table>\n",
       "</div>"
      ]
     },
     "execution_count": 38,
     "metadata": {},
     "output_type": "execute_result"
    }
   ],
   "execution_count": 38
  },
  {
   "metadata": {
    "ExecuteTime": {
     "end_time": "2024-08-17T14:00:42.418357Z",
     "start_time": "2024-08-17T14:00:42.410182Z"
    }
   },
   "cell_type": "code",
   "source": [
    "# Axis=1 means concatenate horizontally\n",
    "concat2 = pd.concat([left, right], axis=1)\n",
    "concat2"
   ],
   "id": "2f392ebca8ac1e6d",
   "outputs": [
    {
     "data": {
      "text/plain": [
       "      A    B    C    D\n",
       "K0   A0   B0   C0   D0\n",
       "K1   A1   B1  NaN  NaN\n",
       "K2   A2   B2   C2   D2\n",
       "K3  NaN  NaN   C3   D3"
      ],
      "text/html": [
       "<div>\n",
       "<style scoped>\n",
       "    .dataframe tbody tr th:only-of-type {\n",
       "        vertical-align: middle;\n",
       "    }\n",
       "\n",
       "    .dataframe tbody tr th {\n",
       "        vertical-align: top;\n",
       "    }\n",
       "\n",
       "    .dataframe thead th {\n",
       "        text-align: right;\n",
       "    }\n",
       "</style>\n",
       "<table border=\"1\" class=\"dataframe\">\n",
       "  <thead>\n",
       "    <tr style=\"text-align: right;\">\n",
       "      <th></th>\n",
       "      <th>A</th>\n",
       "      <th>B</th>\n",
       "      <th>C</th>\n",
       "      <th>D</th>\n",
       "    </tr>\n",
       "  </thead>\n",
       "  <tbody>\n",
       "    <tr>\n",
       "      <th>K0</th>\n",
       "      <td>A0</td>\n",
       "      <td>B0</td>\n",
       "      <td>C0</td>\n",
       "      <td>D0</td>\n",
       "    </tr>\n",
       "    <tr>\n",
       "      <th>K1</th>\n",
       "      <td>A1</td>\n",
       "      <td>B1</td>\n",
       "      <td>NaN</td>\n",
       "      <td>NaN</td>\n",
       "    </tr>\n",
       "    <tr>\n",
       "      <th>K2</th>\n",
       "      <td>A2</td>\n",
       "      <td>B2</td>\n",
       "      <td>C2</td>\n",
       "      <td>D2</td>\n",
       "    </tr>\n",
       "    <tr>\n",
       "      <th>K3</th>\n",
       "      <td>NaN</td>\n",
       "      <td>NaN</td>\n",
       "      <td>C3</td>\n",
       "      <td>D3</td>\n",
       "    </tr>\n",
       "  </tbody>\n",
       "</table>\n",
       "</div>"
      ]
     },
     "execution_count": 39,
     "metadata": {},
     "output_type": "execute_result"
    }
   ],
   "execution_count": 39
  },
  {
   "metadata": {},
   "cell_type": "markdown",
   "source": "Merging two DataFrames on \"column\" using .merge()",
   "id": "34ea2fc9104c7d17"
  },
  {
   "metadata": {
    "ExecuteTime": {
     "end_time": "2024-08-17T14:00:42.800875Z",
     "start_time": "2024-08-17T14:00:42.784284Z"
    }
   },
   "cell_type": "code",
   "source": [
    "# Create a DataFrame for employees\n",
    "df_employees = pd.DataFrame({\n",
    "    'employee_id': [1, 2, 3, 4],\n",
    "    'name': ['Alice', 'Bob', 'Charlie', 'David'],\n",
    "    'department': ['HR', 'IT', 'Finance', 'Marketing']\n",
    "})\n",
    "\n",
    "# Create a DataFrame for salaries\n",
    "df_salaries = pd.DataFrame({\n",
    "    'employee_id': [1, 2, 3, 4],\n",
    "    'salary': [70000, 80000, 90000, 85000]\n",
    "})\n",
    "\n",
    "print('Employee DataFrame')\n",
    "print(df_employees)\n",
    "\n",
    "print('Salaries DataFrame')\n",
    "print(df_salaries)\n",
    "\n",
    "# Merge the DataFrames\n",
    "df_merged = pd.merge(df_employees, df_salaries, on='employee_id')\n",
    "df_merged"
   ],
   "id": "1e2ea1e28665052b",
   "outputs": [
    {
     "name": "stdout",
     "output_type": "stream",
     "text": [
      "Employee DataFrame\n",
      "   employee_id     name department\n",
      "0            1    Alice         HR\n",
      "1            2      Bob         IT\n",
      "2            3  Charlie    Finance\n",
      "3            4    David  Marketing\n",
      "Salaries DataFrame\n",
      "   employee_id  salary\n",
      "0            1   70000\n",
      "1            2   80000\n",
      "2            3   90000\n",
      "3            4   85000\n"
     ]
    },
    {
     "data": {
      "text/plain": [
       "   employee_id     name department  salary\n",
       "0            1    Alice         HR   70000\n",
       "1            2      Bob         IT   80000\n",
       "2            3  Charlie    Finance   90000\n",
       "3            4    David  Marketing   85000"
      ],
      "text/html": [
       "<div>\n",
       "<style scoped>\n",
       "    .dataframe tbody tr th:only-of-type {\n",
       "        vertical-align: middle;\n",
       "    }\n",
       "\n",
       "    .dataframe tbody tr th {\n",
       "        vertical-align: top;\n",
       "    }\n",
       "\n",
       "    .dataframe thead th {\n",
       "        text-align: right;\n",
       "    }\n",
       "</style>\n",
       "<table border=\"1\" class=\"dataframe\">\n",
       "  <thead>\n",
       "    <tr style=\"text-align: right;\">\n",
       "      <th></th>\n",
       "      <th>employee_id</th>\n",
       "      <th>name</th>\n",
       "      <th>department</th>\n",
       "      <th>salary</th>\n",
       "    </tr>\n",
       "  </thead>\n",
       "  <tbody>\n",
       "    <tr>\n",
       "      <th>0</th>\n",
       "      <td>1</td>\n",
       "      <td>Alice</td>\n",
       "      <td>HR</td>\n",
       "      <td>70000</td>\n",
       "    </tr>\n",
       "    <tr>\n",
       "      <th>1</th>\n",
       "      <td>2</td>\n",
       "      <td>Bob</td>\n",
       "      <td>IT</td>\n",
       "      <td>80000</td>\n",
       "    </tr>\n",
       "    <tr>\n",
       "      <th>2</th>\n",
       "      <td>3</td>\n",
       "      <td>Charlie</td>\n",
       "      <td>Finance</td>\n",
       "      <td>90000</td>\n",
       "    </tr>\n",
       "    <tr>\n",
       "      <th>3</th>\n",
       "      <td>4</td>\n",
       "      <td>David</td>\n",
       "      <td>Marketing</td>\n",
       "      <td>85000</td>\n",
       "    </tr>\n",
       "  </tbody>\n",
       "</table>\n",
       "</div>"
      ]
     },
     "execution_count": 40,
     "metadata": {},
     "output_type": "execute_result"
    }
   ],
   "execution_count": 40
  },
  {
   "metadata": {},
   "cell_type": "markdown",
   "source": [
    "Use .merge() to merge DataFrames by matching their\n",
    "index. The value of left_index and right_index\n",
    "parameters of .merge() should be True."
   ],
   "id": "bc3d5b7655be21f7"
  },
  {
   "metadata": {
    "ExecuteTime": {
     "end_time": "2024-08-17T14:00:43.163963Z",
     "start_time": "2024-08-17T14:00:43.150826Z"
    }
   },
   "cell_type": "code",
   "source": [
    "df1 = pd.DataFrame({'Courses': [\"Spark\", \"PySpark\", \"Python\", \"pandas\"],\n",
    "                    'Fee': [20000, 25000, 22000, 24000]},\n",
    "                   index=['r1', 'r2', 'r3', 'r4'])\n",
    "\n",
    "df2 = pd.DataFrame({'Duration': ['30day', '40days', '35days', '60days', '55days'],\n",
    "                    'Discount': [1000, 2300, 2500, 2000, 3000]},\n",
    "                   index=['r1', 'r2', 'r3', 'r5', 'r6'])\n",
    "\n",
    "print('DataFrame 1')\n",
    "print(df1)\n",
    "print()\n",
    "print('DataFrame 2')\n",
    "print(df2)\n",
    "\n",
    "# Merge two DataFrames by index using pandas.merge()\n",
    "result = pd.merge(df1, df2, left_index=True, right_index=True)\n",
    "result"
   ],
   "id": "38918787375737",
   "outputs": [
    {
     "name": "stdout",
     "output_type": "stream",
     "text": [
      "DataFrame 1\n",
      "    Courses    Fee\n",
      "r1    Spark  20000\n",
      "r2  PySpark  25000\n",
      "r3   Python  22000\n",
      "r4   pandas  24000\n",
      "\n",
      "DataFrame 2\n",
      "   Duration  Discount\n",
      "r1    30day      1000\n",
      "r2   40days      2300\n",
      "r3   35days      2500\n",
      "r5   60days      2000\n",
      "r6   55days      3000\n"
     ]
    },
    {
     "data": {
      "text/plain": [
       "    Courses    Fee Duration  Discount\n",
       "r1    Spark  20000    30day      1000\n",
       "r2  PySpark  25000   40days      2300\n",
       "r3   Python  22000   35days      2500"
      ],
      "text/html": [
       "<div>\n",
       "<style scoped>\n",
       "    .dataframe tbody tr th:only-of-type {\n",
       "        vertical-align: middle;\n",
       "    }\n",
       "\n",
       "    .dataframe tbody tr th {\n",
       "        vertical-align: top;\n",
       "    }\n",
       "\n",
       "    .dataframe thead th {\n",
       "        text-align: right;\n",
       "    }\n",
       "</style>\n",
       "<table border=\"1\" class=\"dataframe\">\n",
       "  <thead>\n",
       "    <tr style=\"text-align: right;\">\n",
       "      <th></th>\n",
       "      <th>Courses</th>\n",
       "      <th>Fee</th>\n",
       "      <th>Duration</th>\n",
       "      <th>Discount</th>\n",
       "    </tr>\n",
       "  </thead>\n",
       "  <tbody>\n",
       "    <tr>\n",
       "      <th>r1</th>\n",
       "      <td>Spark</td>\n",
       "      <td>20000</td>\n",
       "      <td>30day</td>\n",
       "      <td>1000</td>\n",
       "    </tr>\n",
       "    <tr>\n",
       "      <th>r2</th>\n",
       "      <td>PySpark</td>\n",
       "      <td>25000</td>\n",
       "      <td>40days</td>\n",
       "      <td>2300</td>\n",
       "    </tr>\n",
       "    <tr>\n",
       "      <th>r3</th>\n",
       "      <td>Python</td>\n",
       "      <td>22000</td>\n",
       "      <td>35days</td>\n",
       "      <td>2500</td>\n",
       "    </tr>\n",
       "  </tbody>\n",
       "</table>\n",
       "</div>"
      ]
     },
     "execution_count": 41,
     "metadata": {},
     "output_type": "execute_result"
    }
   ],
   "execution_count": 41
  },
  {
   "metadata": {},
   "cell_type": "markdown",
   "source": [
    ".join(), is a convenient method for combining the columns of two potentially differently-indexed\n",
    "DataFrames into a single result DataFrame"
   ],
   "id": "83b4edb170c35c06"
  },
  {
   "metadata": {
    "ExecuteTime": {
     "end_time": "2024-08-17T14:00:43.490355Z",
     "start_time": "2024-08-17T14:00:43.473373Z"
    }
   },
   "cell_type": "code",
   "source": [
    "left = pd.DataFrame({\"A\": [\"A0\", \"A1\", \"A2\"], \"B\": [\"B0\", \"B1\", \"B2\"]}, index=[\"K0\", \"K1\", \"K2\"])\n",
    "right = pd.DataFrame({\"C\": [\"C0\", \"C2\", \"C3\"], \"D\": [\"D0\", \"D2\", \"D3\"]}, index=[\"K0\", \"K2\", \"K3\"])\n",
    "\n",
    "print('left')\n",
    "print(left)\n",
    "print()\n",
    "print('right')\n",
    "print(right)\n",
    "\n",
    "result = left.join(right)\n",
    "result"
   ],
   "id": "60684dc5ac10e86b",
   "outputs": [
    {
     "name": "stdout",
     "output_type": "stream",
     "text": [
      "left\n",
      "     A   B\n",
      "K0  A0  B0\n",
      "K1  A1  B1\n",
      "K2  A2  B2\n",
      "\n",
      "right\n",
      "     C   D\n",
      "K0  C0  D0\n",
      "K2  C2  D2\n",
      "K3  C3  D3\n"
     ]
    },
    {
     "data": {
      "text/plain": [
       "     A   B    C    D\n",
       "K0  A0  B0   C0   D0\n",
       "K1  A1  B1  NaN  NaN\n",
       "K2  A2  B2   C2   D2"
      ],
      "text/html": [
       "<div>\n",
       "<style scoped>\n",
       "    .dataframe tbody tr th:only-of-type {\n",
       "        vertical-align: middle;\n",
       "    }\n",
       "\n",
       "    .dataframe tbody tr th {\n",
       "        vertical-align: top;\n",
       "    }\n",
       "\n",
       "    .dataframe thead th {\n",
       "        text-align: right;\n",
       "    }\n",
       "</style>\n",
       "<table border=\"1\" class=\"dataframe\">\n",
       "  <thead>\n",
       "    <tr style=\"text-align: right;\">\n",
       "      <th></th>\n",
       "      <th>A</th>\n",
       "      <th>B</th>\n",
       "      <th>C</th>\n",
       "      <th>D</th>\n",
       "    </tr>\n",
       "  </thead>\n",
       "  <tbody>\n",
       "    <tr>\n",
       "      <th>K0</th>\n",
       "      <td>A0</td>\n",
       "      <td>B0</td>\n",
       "      <td>C0</td>\n",
       "      <td>D0</td>\n",
       "    </tr>\n",
       "    <tr>\n",
       "      <th>K1</th>\n",
       "      <td>A1</td>\n",
       "      <td>B1</td>\n",
       "      <td>NaN</td>\n",
       "      <td>NaN</td>\n",
       "    </tr>\n",
       "    <tr>\n",
       "      <th>K2</th>\n",
       "      <td>A2</td>\n",
       "      <td>B2</td>\n",
       "      <td>C2</td>\n",
       "      <td>D2</td>\n",
       "    </tr>\n",
       "  </tbody>\n",
       "</table>\n",
       "</div>"
      ]
     },
     "execution_count": 42,
     "metadata": {},
     "output_type": "execute_result"
    }
   ],
   "execution_count": 42
  },
  {
   "metadata": {},
   "cell_type": "markdown",
   "source": [
    "join() takes an optional on argument which may be a column or multiple column names, which\n",
    "specifies that the passed DataFrame is to be aligned on that column in the DataFrame"
   ],
   "id": "3c5db529ac79d0fd"
  },
  {
   "metadata": {
    "ExecuteTime": {
     "end_time": "2024-08-17T14:00:44.058192Z",
     "start_time": "2024-08-17T14:00:44.043074Z"
    }
   },
   "cell_type": "code",
   "source": [
    "left = pd.DataFrame(\n",
    " { \"A\": [\"A0\", \"A1\", \"A2\", \"A3\"],\n",
    "   \"B\": [\"B0\", \"B1\", \"B2\", \"B3\"],\n",
    "   \"key\": [\"K0\", \"K1\", \"K0\", \"K1\"], })\n",
    "right = pd.DataFrame({\"C\": [\"C0\", \"C1\"], \"D\": [\"D0\", \"D1\"]}, index=[\"K0\", \"K1\"])\n",
    "\n",
    "print('left')\n",
    "print(left)\n",
    "print()\n",
    "print('right')\n",
    "print(right)\n",
    "\n",
    "result = left.join(right, on=\"key\")\n",
    "result"
   ],
   "id": "af5eeeec78372a94",
   "outputs": [
    {
     "name": "stdout",
     "output_type": "stream",
     "text": [
      "left\n",
      "    A   B key\n",
      "0  A0  B0  K0\n",
      "1  A1  B1  K1\n",
      "2  A2  B2  K0\n",
      "3  A3  B3  K1\n",
      "\n",
      "right\n",
      "     C   D\n",
      "K0  C0  D0\n",
      "K1  C1  D1\n"
     ]
    },
    {
     "data": {
      "text/plain": [
       "    A   B key   C   D\n",
       "0  A0  B0  K0  C0  D0\n",
       "1  A1  B1  K1  C1  D1\n",
       "2  A2  B2  K0  C0  D0\n",
       "3  A3  B3  K1  C1  D1"
      ],
      "text/html": [
       "<div>\n",
       "<style scoped>\n",
       "    .dataframe tbody tr th:only-of-type {\n",
       "        vertical-align: middle;\n",
       "    }\n",
       "\n",
       "    .dataframe tbody tr th {\n",
       "        vertical-align: top;\n",
       "    }\n",
       "\n",
       "    .dataframe thead th {\n",
       "        text-align: right;\n",
       "    }\n",
       "</style>\n",
       "<table border=\"1\" class=\"dataframe\">\n",
       "  <thead>\n",
       "    <tr style=\"text-align: right;\">\n",
       "      <th></th>\n",
       "      <th>A</th>\n",
       "      <th>B</th>\n",
       "      <th>key</th>\n",
       "      <th>C</th>\n",
       "      <th>D</th>\n",
       "    </tr>\n",
       "  </thead>\n",
       "  <tbody>\n",
       "    <tr>\n",
       "      <th>0</th>\n",
       "      <td>A0</td>\n",
       "      <td>B0</td>\n",
       "      <td>K0</td>\n",
       "      <td>C0</td>\n",
       "      <td>D0</td>\n",
       "    </tr>\n",
       "    <tr>\n",
       "      <th>1</th>\n",
       "      <td>A1</td>\n",
       "      <td>B1</td>\n",
       "      <td>K1</td>\n",
       "      <td>C1</td>\n",
       "      <td>D1</td>\n",
       "    </tr>\n",
       "    <tr>\n",
       "      <th>2</th>\n",
       "      <td>A2</td>\n",
       "      <td>B2</td>\n",
       "      <td>K0</td>\n",
       "      <td>C0</td>\n",
       "      <td>D0</td>\n",
       "    </tr>\n",
       "    <tr>\n",
       "      <th>3</th>\n",
       "      <td>A3</td>\n",
       "      <td>B3</td>\n",
       "      <td>K1</td>\n",
       "      <td>C1</td>\n",
       "      <td>D1</td>\n",
       "    </tr>\n",
       "  </tbody>\n",
       "</table>\n",
       "</div>"
      ]
     },
     "execution_count": 43,
     "metadata": {},
     "output_type": "execute_result"
    }
   ],
   "execution_count": 43
  },
  {
   "metadata": {},
   "cell_type": "markdown",
   "source": "# Missing values handling",
   "id": "56cee46449f9c18c"
  },
  {
   "metadata": {
    "ExecuteTime": {
     "end_time": "2024-08-17T14:00:44.512870Z",
     "start_time": "2024-08-17T14:00:44.504893Z"
    }
   },
   "cell_type": "code",
   "source": [
    "# Original data with missing values\n",
    "data = {\n",
    "    'time': ['10:00', '11:00', '12:00', '13:00', '14:00', '15:00', '16:00', '17:00', '18:00', '19:00'],\n",
    "    'temperature': [20, 21, 22, np.nan, 24, 25, np.nan, 27, 28, np.nan],\n",
    "    'humidity': [56, 57, 58, 59, np.nan, 61, 62, np.nan, 64, 65],\n",
    "}\n",
    "\n",
    "df = pd.DataFrame(data)"
   ],
   "id": "ca195a3c0eec1132",
   "outputs": [],
   "execution_count": 44
  },
  {
   "metadata": {
    "ExecuteTime": {
     "end_time": "2024-08-17T14:00:45.038925Z",
     "start_time": "2024-08-17T14:00:45.028196Z"
    }
   },
   "cell_type": "code",
   "source": [
    "print(\"Original Orders DataFrame:\")\n",
    "df"
   ],
   "id": "c81ddcf0820bda4f",
   "outputs": [
    {
     "name": "stdout",
     "output_type": "stream",
     "text": [
      "Original Orders DataFrame:\n"
     ]
    },
    {
     "data": {
      "text/plain": [
       "    time  temperature  humidity\n",
       "0  10:00         20.0      56.0\n",
       "1  11:00         21.0      57.0\n",
       "2  12:00         22.0      58.0\n",
       "3  13:00          NaN      59.0\n",
       "4  14:00         24.0       NaN\n",
       "5  15:00         25.0      61.0\n",
       "6  16:00          NaN      62.0\n",
       "7  17:00         27.0       NaN\n",
       "8  18:00         28.0      64.0\n",
       "9  19:00          NaN      65.0"
      ],
      "text/html": [
       "<div>\n",
       "<style scoped>\n",
       "    .dataframe tbody tr th:only-of-type {\n",
       "        vertical-align: middle;\n",
       "    }\n",
       "\n",
       "    .dataframe tbody tr th {\n",
       "        vertical-align: top;\n",
       "    }\n",
       "\n",
       "    .dataframe thead th {\n",
       "        text-align: right;\n",
       "    }\n",
       "</style>\n",
       "<table border=\"1\" class=\"dataframe\">\n",
       "  <thead>\n",
       "    <tr style=\"text-align: right;\">\n",
       "      <th></th>\n",
       "      <th>time</th>\n",
       "      <th>temperature</th>\n",
       "      <th>humidity</th>\n",
       "    </tr>\n",
       "  </thead>\n",
       "  <tbody>\n",
       "    <tr>\n",
       "      <th>0</th>\n",
       "      <td>10:00</td>\n",
       "      <td>20.0</td>\n",
       "      <td>56.0</td>\n",
       "    </tr>\n",
       "    <tr>\n",
       "      <th>1</th>\n",
       "      <td>11:00</td>\n",
       "      <td>21.0</td>\n",
       "      <td>57.0</td>\n",
       "    </tr>\n",
       "    <tr>\n",
       "      <th>2</th>\n",
       "      <td>12:00</td>\n",
       "      <td>22.0</td>\n",
       "      <td>58.0</td>\n",
       "    </tr>\n",
       "    <tr>\n",
       "      <th>3</th>\n",
       "      <td>13:00</td>\n",
       "      <td>NaN</td>\n",
       "      <td>59.0</td>\n",
       "    </tr>\n",
       "    <tr>\n",
       "      <th>4</th>\n",
       "      <td>14:00</td>\n",
       "      <td>24.0</td>\n",
       "      <td>NaN</td>\n",
       "    </tr>\n",
       "    <tr>\n",
       "      <th>5</th>\n",
       "      <td>15:00</td>\n",
       "      <td>25.0</td>\n",
       "      <td>61.0</td>\n",
       "    </tr>\n",
       "    <tr>\n",
       "      <th>6</th>\n",
       "      <td>16:00</td>\n",
       "      <td>NaN</td>\n",
       "      <td>62.0</td>\n",
       "    </tr>\n",
       "    <tr>\n",
       "      <th>7</th>\n",
       "      <td>17:00</td>\n",
       "      <td>27.0</td>\n",
       "      <td>NaN</td>\n",
       "    </tr>\n",
       "    <tr>\n",
       "      <th>8</th>\n",
       "      <td>18:00</td>\n",
       "      <td>28.0</td>\n",
       "      <td>64.0</td>\n",
       "    </tr>\n",
       "    <tr>\n",
       "      <th>9</th>\n",
       "      <td>19:00</td>\n",
       "      <td>NaN</td>\n",
       "      <td>65.0</td>\n",
       "    </tr>\n",
       "  </tbody>\n",
       "</table>\n",
       "</div>"
      ]
     },
     "execution_count": 45,
     "metadata": {},
     "output_type": "execute_result"
    }
   ],
   "execution_count": 45
  },
  {
   "metadata": {
    "ExecuteTime": {
     "end_time": "2024-08-17T14:00:45.533464Z",
     "start_time": "2024-08-17T14:00:45.526098Z"
    }
   },
   "cell_type": "code",
   "source": [
    "# Check for missing values\n",
    "df.isnull()"
   ],
   "id": "66efad9545c02384",
   "outputs": [
    {
     "data": {
      "text/plain": [
       "    time  temperature  humidity\n",
       "0  False        False     False\n",
       "1  False        False     False\n",
       "2  False        False     False\n",
       "3  False         True     False\n",
       "4  False        False      True\n",
       "5  False        False     False\n",
       "6  False         True     False\n",
       "7  False        False      True\n",
       "8  False        False     False\n",
       "9  False         True     False"
      ],
      "text/html": [
       "<div>\n",
       "<style scoped>\n",
       "    .dataframe tbody tr th:only-of-type {\n",
       "        vertical-align: middle;\n",
       "    }\n",
       "\n",
       "    .dataframe tbody tr th {\n",
       "        vertical-align: top;\n",
       "    }\n",
       "\n",
       "    .dataframe thead th {\n",
       "        text-align: right;\n",
       "    }\n",
       "</style>\n",
       "<table border=\"1\" class=\"dataframe\">\n",
       "  <thead>\n",
       "    <tr style=\"text-align: right;\">\n",
       "      <th></th>\n",
       "      <th>time</th>\n",
       "      <th>temperature</th>\n",
       "      <th>humidity</th>\n",
       "    </tr>\n",
       "  </thead>\n",
       "  <tbody>\n",
       "    <tr>\n",
       "      <th>0</th>\n",
       "      <td>False</td>\n",
       "      <td>False</td>\n",
       "      <td>False</td>\n",
       "    </tr>\n",
       "    <tr>\n",
       "      <th>1</th>\n",
       "      <td>False</td>\n",
       "      <td>False</td>\n",
       "      <td>False</td>\n",
       "    </tr>\n",
       "    <tr>\n",
       "      <th>2</th>\n",
       "      <td>False</td>\n",
       "      <td>False</td>\n",
       "      <td>False</td>\n",
       "    </tr>\n",
       "    <tr>\n",
       "      <th>3</th>\n",
       "      <td>False</td>\n",
       "      <td>True</td>\n",
       "      <td>False</td>\n",
       "    </tr>\n",
       "    <tr>\n",
       "      <th>4</th>\n",
       "      <td>False</td>\n",
       "      <td>False</td>\n",
       "      <td>True</td>\n",
       "    </tr>\n",
       "    <tr>\n",
       "      <th>5</th>\n",
       "      <td>False</td>\n",
       "      <td>False</td>\n",
       "      <td>False</td>\n",
       "    </tr>\n",
       "    <tr>\n",
       "      <th>6</th>\n",
       "      <td>False</td>\n",
       "      <td>True</td>\n",
       "      <td>False</td>\n",
       "    </tr>\n",
       "    <tr>\n",
       "      <th>7</th>\n",
       "      <td>False</td>\n",
       "      <td>False</td>\n",
       "      <td>True</td>\n",
       "    </tr>\n",
       "    <tr>\n",
       "      <th>8</th>\n",
       "      <td>False</td>\n",
       "      <td>False</td>\n",
       "      <td>False</td>\n",
       "    </tr>\n",
       "    <tr>\n",
       "      <th>9</th>\n",
       "      <td>False</td>\n",
       "      <td>True</td>\n",
       "      <td>False</td>\n",
       "    </tr>\n",
       "  </tbody>\n",
       "</table>\n",
       "</div>"
      ]
     },
     "execution_count": 46,
     "metadata": {},
     "output_type": "execute_result"
    }
   ],
   "execution_count": 46
  },
  {
   "metadata": {
    "ExecuteTime": {
     "end_time": "2024-08-17T14:00:45.855848Z",
     "start_time": "2024-08-17T14:00:45.849849Z"
    }
   },
   "cell_type": "code",
   "source": [
    "# Check for missing values in a specific column\n",
    "df.isnull().sum()"
   ],
   "id": "95cf9caac5b4a637",
   "outputs": [
    {
     "data": {
      "text/plain": [
       "time           0\n",
       "temperature    3\n",
       "humidity       2\n",
       "dtype: int64"
      ]
     },
     "execution_count": 47,
     "metadata": {},
     "output_type": "execute_result"
    }
   ],
   "execution_count": 47
  },
  {
   "metadata": {
    "ExecuteTime": {
     "end_time": "2024-08-17T14:00:46.194027Z",
     "start_time": "2024-08-17T14:00:46.182598Z"
    }
   },
   "cell_type": "code",
   "source": [
    "# Removing the data with missing values\n",
    "df1 = df.dropna()\n",
    "df1"
   ],
   "id": "a3b820d3a492bbe9",
   "outputs": [
    {
     "data": {
      "text/plain": [
       "    time  temperature  humidity\n",
       "0  10:00         20.0      56.0\n",
       "1  11:00         21.0      57.0\n",
       "2  12:00         22.0      58.0\n",
       "5  15:00         25.0      61.0\n",
       "8  18:00         28.0      64.0"
      ],
      "text/html": [
       "<div>\n",
       "<style scoped>\n",
       "    .dataframe tbody tr th:only-of-type {\n",
       "        vertical-align: middle;\n",
       "    }\n",
       "\n",
       "    .dataframe tbody tr th {\n",
       "        vertical-align: top;\n",
       "    }\n",
       "\n",
       "    .dataframe thead th {\n",
       "        text-align: right;\n",
       "    }\n",
       "</style>\n",
       "<table border=\"1\" class=\"dataframe\">\n",
       "  <thead>\n",
       "    <tr style=\"text-align: right;\">\n",
       "      <th></th>\n",
       "      <th>time</th>\n",
       "      <th>temperature</th>\n",
       "      <th>humidity</th>\n",
       "    </tr>\n",
       "  </thead>\n",
       "  <tbody>\n",
       "    <tr>\n",
       "      <th>0</th>\n",
       "      <td>10:00</td>\n",
       "      <td>20.0</td>\n",
       "      <td>56.0</td>\n",
       "    </tr>\n",
       "    <tr>\n",
       "      <th>1</th>\n",
       "      <td>11:00</td>\n",
       "      <td>21.0</td>\n",
       "      <td>57.0</td>\n",
       "    </tr>\n",
       "    <tr>\n",
       "      <th>2</th>\n",
       "      <td>12:00</td>\n",
       "      <td>22.0</td>\n",
       "      <td>58.0</td>\n",
       "    </tr>\n",
       "    <tr>\n",
       "      <th>5</th>\n",
       "      <td>15:00</td>\n",
       "      <td>25.0</td>\n",
       "      <td>61.0</td>\n",
       "    </tr>\n",
       "    <tr>\n",
       "      <th>8</th>\n",
       "      <td>18:00</td>\n",
       "      <td>28.0</td>\n",
       "      <td>64.0</td>\n",
       "    </tr>\n",
       "  </tbody>\n",
       "</table>\n",
       "</div>"
      ]
     },
     "execution_count": 48,
     "metadata": {},
     "output_type": "execute_result"
    }
   ],
   "execution_count": 48
  },
  {
   "metadata": {
    "ExecuteTime": {
     "end_time": "2024-08-17T14:00:46.551230Z",
     "start_time": "2024-08-17T14:00:46.539132Z"
    }
   },
   "cell_type": "code",
   "source": [
    "# Replace missing values with a specific value\n",
    "df2 = df.fillna(0)\n",
    "df2"
   ],
   "id": "14eb32c93ff0252a",
   "outputs": [
    {
     "data": {
      "text/plain": [
       "    time  temperature  humidity\n",
       "0  10:00         20.0      56.0\n",
       "1  11:00         21.0      57.0\n",
       "2  12:00         22.0      58.0\n",
       "3  13:00          0.0      59.0\n",
       "4  14:00         24.0       0.0\n",
       "5  15:00         25.0      61.0\n",
       "6  16:00          0.0      62.0\n",
       "7  17:00         27.0       0.0\n",
       "8  18:00         28.0      64.0\n",
       "9  19:00          0.0      65.0"
      ],
      "text/html": [
       "<div>\n",
       "<style scoped>\n",
       "    .dataframe tbody tr th:only-of-type {\n",
       "        vertical-align: middle;\n",
       "    }\n",
       "\n",
       "    .dataframe tbody tr th {\n",
       "        vertical-align: top;\n",
       "    }\n",
       "\n",
       "    .dataframe thead th {\n",
       "        text-align: right;\n",
       "    }\n",
       "</style>\n",
       "<table border=\"1\" class=\"dataframe\">\n",
       "  <thead>\n",
       "    <tr style=\"text-align: right;\">\n",
       "      <th></th>\n",
       "      <th>time</th>\n",
       "      <th>temperature</th>\n",
       "      <th>humidity</th>\n",
       "    </tr>\n",
       "  </thead>\n",
       "  <tbody>\n",
       "    <tr>\n",
       "      <th>0</th>\n",
       "      <td>10:00</td>\n",
       "      <td>20.0</td>\n",
       "      <td>56.0</td>\n",
       "    </tr>\n",
       "    <tr>\n",
       "      <th>1</th>\n",
       "      <td>11:00</td>\n",
       "      <td>21.0</td>\n",
       "      <td>57.0</td>\n",
       "    </tr>\n",
       "    <tr>\n",
       "      <th>2</th>\n",
       "      <td>12:00</td>\n",
       "      <td>22.0</td>\n",
       "      <td>58.0</td>\n",
       "    </tr>\n",
       "    <tr>\n",
       "      <th>3</th>\n",
       "      <td>13:00</td>\n",
       "      <td>0.0</td>\n",
       "      <td>59.0</td>\n",
       "    </tr>\n",
       "    <tr>\n",
       "      <th>4</th>\n",
       "      <td>14:00</td>\n",
       "      <td>24.0</td>\n",
       "      <td>0.0</td>\n",
       "    </tr>\n",
       "    <tr>\n",
       "      <th>5</th>\n",
       "      <td>15:00</td>\n",
       "      <td>25.0</td>\n",
       "      <td>61.0</td>\n",
       "    </tr>\n",
       "    <tr>\n",
       "      <th>6</th>\n",
       "      <td>16:00</td>\n",
       "      <td>0.0</td>\n",
       "      <td>62.0</td>\n",
       "    </tr>\n",
       "    <tr>\n",
       "      <th>7</th>\n",
       "      <td>17:00</td>\n",
       "      <td>27.0</td>\n",
       "      <td>0.0</td>\n",
       "    </tr>\n",
       "    <tr>\n",
       "      <th>8</th>\n",
       "      <td>18:00</td>\n",
       "      <td>28.0</td>\n",
       "      <td>64.0</td>\n",
       "    </tr>\n",
       "    <tr>\n",
       "      <th>9</th>\n",
       "      <td>19:00</td>\n",
       "      <td>0.0</td>\n",
       "      <td>65.0</td>\n",
       "    </tr>\n",
       "  </tbody>\n",
       "</table>\n",
       "</div>"
      ]
     },
     "execution_count": 49,
     "metadata": {},
     "output_type": "execute_result"
    }
   ],
   "execution_count": 49
  },
  {
   "metadata": {
    "ExecuteTime": {
     "end_time": "2024-08-17T14:00:46.914102Z",
     "start_time": "2024-08-17T14:00:46.903111Z"
    }
   },
   "cell_type": "code",
   "source": [
    "# Replace missing values with the mean of the column\n",
    "df3 = df\n",
    "df3['temperature'] = df3['temperature'].fillna(df3['temperature'].mean())\n",
    "df3['humidity'] = df3['humidity'].fillna(df3['humidity'].mean())\n",
    "df3"
   ],
   "id": "1f6d171b95484452",
   "outputs": [
    {
     "data": {
      "text/plain": [
       "    time  temperature  humidity\n",
       "0  10:00    20.000000     56.00\n",
       "1  11:00    21.000000     57.00\n",
       "2  12:00    22.000000     58.00\n",
       "3  13:00    23.857143     59.00\n",
       "4  14:00    24.000000     60.25\n",
       "5  15:00    25.000000     61.00\n",
       "6  16:00    23.857143     62.00\n",
       "7  17:00    27.000000     60.25\n",
       "8  18:00    28.000000     64.00\n",
       "9  19:00    23.857143     65.00"
      ],
      "text/html": [
       "<div>\n",
       "<style scoped>\n",
       "    .dataframe tbody tr th:only-of-type {\n",
       "        vertical-align: middle;\n",
       "    }\n",
       "\n",
       "    .dataframe tbody tr th {\n",
       "        vertical-align: top;\n",
       "    }\n",
       "\n",
       "    .dataframe thead th {\n",
       "        text-align: right;\n",
       "    }\n",
       "</style>\n",
       "<table border=\"1\" class=\"dataframe\">\n",
       "  <thead>\n",
       "    <tr style=\"text-align: right;\">\n",
       "      <th></th>\n",
       "      <th>time</th>\n",
       "      <th>temperature</th>\n",
       "      <th>humidity</th>\n",
       "    </tr>\n",
       "  </thead>\n",
       "  <tbody>\n",
       "    <tr>\n",
       "      <th>0</th>\n",
       "      <td>10:00</td>\n",
       "      <td>20.000000</td>\n",
       "      <td>56.00</td>\n",
       "    </tr>\n",
       "    <tr>\n",
       "      <th>1</th>\n",
       "      <td>11:00</td>\n",
       "      <td>21.000000</td>\n",
       "      <td>57.00</td>\n",
       "    </tr>\n",
       "    <tr>\n",
       "      <th>2</th>\n",
       "      <td>12:00</td>\n",
       "      <td>22.000000</td>\n",
       "      <td>58.00</td>\n",
       "    </tr>\n",
       "    <tr>\n",
       "      <th>3</th>\n",
       "      <td>13:00</td>\n",
       "      <td>23.857143</td>\n",
       "      <td>59.00</td>\n",
       "    </tr>\n",
       "    <tr>\n",
       "      <th>4</th>\n",
       "      <td>14:00</td>\n",
       "      <td>24.000000</td>\n",
       "      <td>60.25</td>\n",
       "    </tr>\n",
       "    <tr>\n",
       "      <th>5</th>\n",
       "      <td>15:00</td>\n",
       "      <td>25.000000</td>\n",
       "      <td>61.00</td>\n",
       "    </tr>\n",
       "    <tr>\n",
       "      <th>6</th>\n",
       "      <td>16:00</td>\n",
       "      <td>23.857143</td>\n",
       "      <td>62.00</td>\n",
       "    </tr>\n",
       "    <tr>\n",
       "      <th>7</th>\n",
       "      <td>17:00</td>\n",
       "      <td>27.000000</td>\n",
       "      <td>60.25</td>\n",
       "    </tr>\n",
       "    <tr>\n",
       "      <th>8</th>\n",
       "      <td>18:00</td>\n",
       "      <td>28.000000</td>\n",
       "      <td>64.00</td>\n",
       "    </tr>\n",
       "    <tr>\n",
       "      <th>9</th>\n",
       "      <td>19:00</td>\n",
       "      <td>23.857143</td>\n",
       "      <td>65.00</td>\n",
       "    </tr>\n",
       "  </tbody>\n",
       "</table>\n",
       "</div>"
      ]
     },
     "execution_count": 50,
     "metadata": {},
     "output_type": "execute_result"
    }
   ],
   "execution_count": 50
  },
  {
   "metadata": {
    "ExecuteTime": {
     "end_time": "2024-08-17T14:00:47.404339Z",
     "start_time": "2024-08-17T14:00:47.390636Z"
    }
   },
   "cell_type": "code",
   "source": [
    "# Replace missing values with the median of the column\n",
    "df4 = df\n",
    "df4['temperature'] = df4['temperature'].fillna(df4['temperature'].median())\n",
    "df4['humidity'] = df4['humidity'].fillna(df4['humidity'].median())\n",
    "df4"
   ],
   "id": "35654e4c7f145c08",
   "outputs": [
    {
     "data": {
      "text/plain": [
       "    time  temperature  humidity\n",
       "0  10:00    20.000000     56.00\n",
       "1  11:00    21.000000     57.00\n",
       "2  12:00    22.000000     58.00\n",
       "3  13:00    23.857143     59.00\n",
       "4  14:00    24.000000     60.25\n",
       "5  15:00    25.000000     61.00\n",
       "6  16:00    23.857143     62.00\n",
       "7  17:00    27.000000     60.25\n",
       "8  18:00    28.000000     64.00\n",
       "9  19:00    23.857143     65.00"
      ],
      "text/html": [
       "<div>\n",
       "<style scoped>\n",
       "    .dataframe tbody tr th:only-of-type {\n",
       "        vertical-align: middle;\n",
       "    }\n",
       "\n",
       "    .dataframe tbody tr th {\n",
       "        vertical-align: top;\n",
       "    }\n",
       "\n",
       "    .dataframe thead th {\n",
       "        text-align: right;\n",
       "    }\n",
       "</style>\n",
       "<table border=\"1\" class=\"dataframe\">\n",
       "  <thead>\n",
       "    <tr style=\"text-align: right;\">\n",
       "      <th></th>\n",
       "      <th>time</th>\n",
       "      <th>temperature</th>\n",
       "      <th>humidity</th>\n",
       "    </tr>\n",
       "  </thead>\n",
       "  <tbody>\n",
       "    <tr>\n",
       "      <th>0</th>\n",
       "      <td>10:00</td>\n",
       "      <td>20.000000</td>\n",
       "      <td>56.00</td>\n",
       "    </tr>\n",
       "    <tr>\n",
       "      <th>1</th>\n",
       "      <td>11:00</td>\n",
       "      <td>21.000000</td>\n",
       "      <td>57.00</td>\n",
       "    </tr>\n",
       "    <tr>\n",
       "      <th>2</th>\n",
       "      <td>12:00</td>\n",
       "      <td>22.000000</td>\n",
       "      <td>58.00</td>\n",
       "    </tr>\n",
       "    <tr>\n",
       "      <th>3</th>\n",
       "      <td>13:00</td>\n",
       "      <td>23.857143</td>\n",
       "      <td>59.00</td>\n",
       "    </tr>\n",
       "    <tr>\n",
       "      <th>4</th>\n",
       "      <td>14:00</td>\n",
       "      <td>24.000000</td>\n",
       "      <td>60.25</td>\n",
       "    </tr>\n",
       "    <tr>\n",
       "      <th>5</th>\n",
       "      <td>15:00</td>\n",
       "      <td>25.000000</td>\n",
       "      <td>61.00</td>\n",
       "    </tr>\n",
       "    <tr>\n",
       "      <th>6</th>\n",
       "      <td>16:00</td>\n",
       "      <td>23.857143</td>\n",
       "      <td>62.00</td>\n",
       "    </tr>\n",
       "    <tr>\n",
       "      <th>7</th>\n",
       "      <td>17:00</td>\n",
       "      <td>27.000000</td>\n",
       "      <td>60.25</td>\n",
       "    </tr>\n",
       "    <tr>\n",
       "      <th>8</th>\n",
       "      <td>18:00</td>\n",
       "      <td>28.000000</td>\n",
       "      <td>64.00</td>\n",
       "    </tr>\n",
       "    <tr>\n",
       "      <th>9</th>\n",
       "      <td>19:00</td>\n",
       "      <td>23.857143</td>\n",
       "      <td>65.00</td>\n",
       "    </tr>\n",
       "  </tbody>\n",
       "</table>\n",
       "</div>"
      ]
     },
     "execution_count": 51,
     "metadata": {},
     "output_type": "execute_result"
    }
   ],
   "execution_count": 51
  },
  {
   "metadata": {
    "ExecuteTime": {
     "end_time": "2024-08-17T14:00:47.751651Z",
     "start_time": "2024-08-17T14:00:47.740004Z"
    }
   },
   "cell_type": "code",
   "source": [
    "# Replace missing values with the mode of the column\n",
    "df5 = df\n",
    "df5['temperature'] = df5['temperature'].fillna(df5['temperature'].mode()[0])\n",
    "df5['humidity'] = df5['humidity'].fillna(df5['humidity'].mode()[0])\n",
    "df5"
   ],
   "id": "878ef7e43d6d963",
   "outputs": [
    {
     "data": {
      "text/plain": [
       "    time  temperature  humidity\n",
       "0  10:00    20.000000     56.00\n",
       "1  11:00    21.000000     57.00\n",
       "2  12:00    22.000000     58.00\n",
       "3  13:00    23.857143     59.00\n",
       "4  14:00    24.000000     60.25\n",
       "5  15:00    25.000000     61.00\n",
       "6  16:00    23.857143     62.00\n",
       "7  17:00    27.000000     60.25\n",
       "8  18:00    28.000000     64.00\n",
       "9  19:00    23.857143     65.00"
      ],
      "text/html": [
       "<div>\n",
       "<style scoped>\n",
       "    .dataframe tbody tr th:only-of-type {\n",
       "        vertical-align: middle;\n",
       "    }\n",
       "\n",
       "    .dataframe tbody tr th {\n",
       "        vertical-align: top;\n",
       "    }\n",
       "\n",
       "    .dataframe thead th {\n",
       "        text-align: right;\n",
       "    }\n",
       "</style>\n",
       "<table border=\"1\" class=\"dataframe\">\n",
       "  <thead>\n",
       "    <tr style=\"text-align: right;\">\n",
       "      <th></th>\n",
       "      <th>time</th>\n",
       "      <th>temperature</th>\n",
       "      <th>humidity</th>\n",
       "    </tr>\n",
       "  </thead>\n",
       "  <tbody>\n",
       "    <tr>\n",
       "      <th>0</th>\n",
       "      <td>10:00</td>\n",
       "      <td>20.000000</td>\n",
       "      <td>56.00</td>\n",
       "    </tr>\n",
       "    <tr>\n",
       "      <th>1</th>\n",
       "      <td>11:00</td>\n",
       "      <td>21.000000</td>\n",
       "      <td>57.00</td>\n",
       "    </tr>\n",
       "    <tr>\n",
       "      <th>2</th>\n",
       "      <td>12:00</td>\n",
       "      <td>22.000000</td>\n",
       "      <td>58.00</td>\n",
       "    </tr>\n",
       "    <tr>\n",
       "      <th>3</th>\n",
       "      <td>13:00</td>\n",
       "      <td>23.857143</td>\n",
       "      <td>59.00</td>\n",
       "    </tr>\n",
       "    <tr>\n",
       "      <th>4</th>\n",
       "      <td>14:00</td>\n",
       "      <td>24.000000</td>\n",
       "      <td>60.25</td>\n",
       "    </tr>\n",
       "    <tr>\n",
       "      <th>5</th>\n",
       "      <td>15:00</td>\n",
       "      <td>25.000000</td>\n",
       "      <td>61.00</td>\n",
       "    </tr>\n",
       "    <tr>\n",
       "      <th>6</th>\n",
       "      <td>16:00</td>\n",
       "      <td>23.857143</td>\n",
       "      <td>62.00</td>\n",
       "    </tr>\n",
       "    <tr>\n",
       "      <th>7</th>\n",
       "      <td>17:00</td>\n",
       "      <td>27.000000</td>\n",
       "      <td>60.25</td>\n",
       "    </tr>\n",
       "    <tr>\n",
       "      <th>8</th>\n",
       "      <td>18:00</td>\n",
       "      <td>28.000000</td>\n",
       "      <td>64.00</td>\n",
       "    </tr>\n",
       "    <tr>\n",
       "      <th>9</th>\n",
       "      <td>19:00</td>\n",
       "      <td>23.857143</td>\n",
       "      <td>65.00</td>\n",
       "    </tr>\n",
       "  </tbody>\n",
       "</table>\n",
       "</div>"
      ]
     },
     "execution_count": 52,
     "metadata": {},
     "output_type": "execute_result"
    }
   ],
   "execution_count": 52
  },
  {
   "metadata": {
    "ExecuteTime": {
     "end_time": "2024-08-17T14:03:27.963915Z",
     "start_time": "2024-08-17T14:03:27.953817Z"
    }
   },
   "cell_type": "code",
   "source": [
    "# lambda function to replace missing values with the mean of the column\n",
    "df6 = df\n",
    "df6['temperature'] = df6['temperature'].fillna(df6['temperature'].apply(lambda x: x if not np.isnan(x) else df6['temperature'].mean()))\n",
    "df6['humidity'] = df6['humidity'].fillna(df6['humidity'].apply(lambda x: x if not np.isnan(x) else df6['humidity'].mean()))\n",
    "df6"
   ],
   "id": "7bb9c440ff49b684",
   "outputs": [
    {
     "data": {
      "text/plain": [
       "    time  temperature  humidity\n",
       "0  10:00    20.000000     56.00\n",
       "1  11:00    21.000000     57.00\n",
       "2  12:00    22.000000     58.00\n",
       "3  13:00    23.857143     59.00\n",
       "4  14:00    24.000000     60.25\n",
       "5  15:00    25.000000     61.00\n",
       "6  16:00    23.857143     62.00\n",
       "7  17:00    27.000000     60.25\n",
       "8  18:00    28.000000     64.00\n",
       "9  19:00    23.857143     65.00"
      ],
      "text/html": [
       "<div>\n",
       "<style scoped>\n",
       "    .dataframe tbody tr th:only-of-type {\n",
       "        vertical-align: middle;\n",
       "    }\n",
       "\n",
       "    .dataframe tbody tr th {\n",
       "        vertical-align: top;\n",
       "    }\n",
       "\n",
       "    .dataframe thead th {\n",
       "        text-align: right;\n",
       "    }\n",
       "</style>\n",
       "<table border=\"1\" class=\"dataframe\">\n",
       "  <thead>\n",
       "    <tr style=\"text-align: right;\">\n",
       "      <th></th>\n",
       "      <th>time</th>\n",
       "      <th>temperature</th>\n",
       "      <th>humidity</th>\n",
       "    </tr>\n",
       "  </thead>\n",
       "  <tbody>\n",
       "    <tr>\n",
       "      <th>0</th>\n",
       "      <td>10:00</td>\n",
       "      <td>20.000000</td>\n",
       "      <td>56.00</td>\n",
       "    </tr>\n",
       "    <tr>\n",
       "      <th>1</th>\n",
       "      <td>11:00</td>\n",
       "      <td>21.000000</td>\n",
       "      <td>57.00</td>\n",
       "    </tr>\n",
       "    <tr>\n",
       "      <th>2</th>\n",
       "      <td>12:00</td>\n",
       "      <td>22.000000</td>\n",
       "      <td>58.00</td>\n",
       "    </tr>\n",
       "    <tr>\n",
       "      <th>3</th>\n",
       "      <td>13:00</td>\n",
       "      <td>23.857143</td>\n",
       "      <td>59.00</td>\n",
       "    </tr>\n",
       "    <tr>\n",
       "      <th>4</th>\n",
       "      <td>14:00</td>\n",
       "      <td>24.000000</td>\n",
       "      <td>60.25</td>\n",
       "    </tr>\n",
       "    <tr>\n",
       "      <th>5</th>\n",
       "      <td>15:00</td>\n",
       "      <td>25.000000</td>\n",
       "      <td>61.00</td>\n",
       "    </tr>\n",
       "    <tr>\n",
       "      <th>6</th>\n",
       "      <td>16:00</td>\n",
       "      <td>23.857143</td>\n",
       "      <td>62.00</td>\n",
       "    </tr>\n",
       "    <tr>\n",
       "      <th>7</th>\n",
       "      <td>17:00</td>\n",
       "      <td>27.000000</td>\n",
       "      <td>60.25</td>\n",
       "    </tr>\n",
       "    <tr>\n",
       "      <th>8</th>\n",
       "      <td>18:00</td>\n",
       "      <td>28.000000</td>\n",
       "      <td>64.00</td>\n",
       "    </tr>\n",
       "    <tr>\n",
       "      <th>9</th>\n",
       "      <td>19:00</td>\n",
       "      <td>23.857143</td>\n",
       "      <td>65.00</td>\n",
       "    </tr>\n",
       "  </tbody>\n",
       "</table>\n",
       "</div>"
      ]
     },
     "execution_count": 54,
     "metadata": {},
     "output_type": "execute_result"
    }
   ],
   "execution_count": 54
  }
 ],
 "metadata": {
  "kernelspec": {
   "display_name": "Python 3",
   "language": "python",
   "name": "python3"
  },
  "language_info": {
   "codemirror_mode": {
    "name": "ipython",
    "version": 2
   },
   "file_extension": ".py",
   "mimetype": "text/x-python",
   "name": "python",
   "nbconvert_exporter": "python",
   "pygments_lexer": "ipython2",
   "version": "2.7.6"
  }
 },
 "nbformat": 4,
 "nbformat_minor": 5
}
