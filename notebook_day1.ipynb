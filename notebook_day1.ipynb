{
 "cells": [
  {
   "metadata": {},
   "cell_type": "markdown",
   "source": [
    "# python basic syntax\n",
    "print() for printing variable or string to screen"
   ]
  },
  {
   "cell_type": "code",
   "metadata": {
    "ExecuteTime": {
     "end_time": "2024-07-30T05:19:04.246413Z",
     "start_time": "2024-07-30T05:19:04.236996Z"
    }
   },
   "source": [
    "print('hello world')"
   ],
   "outputs": [
    {
     "name": "stdout",
     "output_type": "stream",
     "text": [
      "hello world\n"
     ]
    }
   ],
   "execution_count": 44
  },
  {
   "metadata": {},
   "cell_type": "markdown",
   "source": [
    "---\n",
    "## variables name\n",
    "Variables are containers for storing data values.\n",
    "\n"
   ]
  },
  {
   "metadata": {
    "ExecuteTime": {
     "end_time": "2024-07-30T05:19:04.480806Z",
     "start_time": "2024-07-30T05:19:04.469806Z"
    }
   },
   "cell_type": "code",
   "source": "x = 5",
   "outputs": [],
   "execution_count": 45
  },
  {
   "metadata": {
    "ExecuteTime": {
     "end_time": "2024-07-30T05:19:04.512803Z",
     "start_time": "2024-07-30T05:19:04.505806Z"
    }
   },
   "cell_type": "code",
   "source": "print(x)",
   "outputs": [
    {
     "name": "stdout",
     "output_type": "stream",
     "text": [
      "5\n"
     ]
    }
   ],
   "execution_count": 46
  },
  {
   "metadata": {
    "ExecuteTime": {
     "end_time": "2024-07-30T05:19:04.592804Z",
     "start_time": "2024-07-30T05:19:04.586807Z"
    }
   },
   "cell_type": "code",
   "source": "name = 'Miquella'",
   "outputs": [],
   "execution_count": 47
  },
  {
   "metadata": {
    "ExecuteTime": {
     "end_time": "2024-07-30T05:19:04.639803Z",
     "start_time": "2024-07-30T05:19:04.625805Z"
    }
   },
   "cell_type": "code",
   "source": "print(name)",
   "outputs": [
    {
     "name": "stdout",
     "output_type": "stream",
     "text": [
      "Miquella\n"
     ]
    }
   ],
   "execution_count": 48
  },
  {
   "metadata": {
    "ExecuteTime": {
     "end_time": "2024-07-30T05:19:04.717805Z",
     "start_time": "2024-07-30T05:19:04.705805Z"
    }
   },
   "cell_type": "code",
   "source": [
    "x = 6\n",
    "x = \"Maliketh\"\n",
    "print(x)"
   ],
   "outputs": [
    {
     "name": "stdout",
     "output_type": "stream",
     "text": [
      "Maliketh\n"
     ]
    }
   ],
   "execution_count": 49
  },
  {
   "metadata": {
    "ExecuteTime": {
     "end_time": "2024-07-30T05:19:04.763807Z",
     "start_time": "2024-07-30T05:19:04.751806Z"
    }
   },
   "cell_type": "code",
   "source": [
    "# Question\n",
    "name = 'First'\n",
    "Name = 'Second'\n",
    "NAME = 'Third'\n",
    "\n",
    "print(Name)"
   ],
   "outputs": [
    {
     "name": "stdout",
     "output_type": "stream",
     "text": [
      "Second\n"
     ]
    }
   ],
   "execution_count": 50
  },
  {
   "metadata": {
    "ExecuteTime": {
     "end_time": "2024-07-30T05:19:04.825433Z",
     "start_time": "2024-07-30T05:19:04.819433Z"
    }
   },
   "cell_type": "code",
   "source": [
    "# 2myname = \"John\" # A variable name cannot start with a numeral.\n",
    "# print(myname) # Correct version"
   ],
   "outputs": [],
   "execution_count": 51
  },
  {
   "metadata": {
    "ExecuteTime": {
     "end_time": "2024-07-30T05:19:04.871432Z",
     "start_time": "2024-07-30T05:19:04.857435Z"
    }
   },
   "cell_type": "code",
   "source": [
    "# my-name = \"John\"  # Invalid: hyphens are not allowed in variable names.\n",
    "# print(my_name) # Correct version"
   ],
   "outputs": [],
   "execution_count": 52
  },
  {
   "metadata": {
    "ExecuteTime": {
     "end_time": "2024-07-30T05:19:04.934143Z",
     "start_time": "2024-07-30T05:19:04.924021Z"
    }
   },
   "cell_type": "code",
   "source": [
    "# my name = \"John\"  # Invalid: variable names cannot have spaces\n",
    "# print(myName) # Correct version"
   ],
   "outputs": [],
   "execution_count": 53
  },
  {
   "metadata": {
    "ExecuteTime": {
     "end_time": "2024-07-30T05:19:04.981131Z",
     "start_time": "2024-07-30T05:19:04.971624Z"
    }
   },
   "cell_type": "code",
   "source": "# and = \"john\"  # Invalid: variable names cannot be Python keywords",
   "outputs": [],
   "execution_count": 54
  },
  {
   "metadata": {},
   "cell_type": "markdown",
   "source": [
    "---\n",
    "# Data Types"
   ]
  },
  {
   "metadata": {
    "ExecuteTime": {
     "end_time": "2024-07-30T05:19:05.059151Z",
     "start_time": "2024-07-30T05:19:05.049153Z"
    }
   },
   "cell_type": "code",
   "source": [
    "# Text type\n",
    "x = \"Maliketh\"\n",
    "print(type(x))"
   ],
   "outputs": [
    {
     "name": "stdout",
     "output_type": "stream",
     "text": [
      "<class 'str'>\n"
     ]
    }
   ],
   "execution_count": 55
  },
  {
   "metadata": {
    "ExecuteTime": {
     "end_time": "2024-07-30T05:19:05.089150Z",
     "start_time": "2024-07-30T05:19:05.075152Z"
    }
   },
   "cell_type": "code",
   "source": [
    "# Numeric types\n",
    "x = 20 # int\n",
    "y = 20.25 # float\n",
    "z = 3j # complex\n",
    "\n",
    "print(type(x))\n",
    "print(type(y))\n",
    "print(type(z))"
   ],
   "outputs": [
    {
     "name": "stdout",
     "output_type": "stream",
     "text": [
      "<class 'int'>\n",
      "<class 'float'>\n",
      "<class 'complex'>\n"
     ]
    }
   ],
   "execution_count": 56
  },
  {
   "metadata": {
    "ExecuteTime": {
     "end_time": "2024-07-30T05:19:05.169150Z",
     "start_time": "2024-07-30T05:19:05.160151Z"
    }
   },
   "cell_type": "code",
   "source": [
    "# Boolean type\n",
    "x = True\n",
    "# y = False\n",
    "\n",
    "print(type(x))"
   ],
   "outputs": [
    {
     "name": "stdout",
     "output_type": "stream",
     "text": [
      "<class 'bool'>\n"
     ]
    }
   ],
   "execution_count": 57
  },
  {
   "metadata": {},
   "cell_type": "markdown",
   "source": "## Casting Data type"
  },
  {
   "metadata": {
    "ExecuteTime": {
     "end_time": "2024-07-30T05:19:05.201150Z",
     "start_time": "2024-07-30T05:19:05.186152Z"
    }
   },
   "cell_type": "code",
   "source": [
    "# Casting int()\n",
    "print(int(1))\n",
    "print(int(2.9))\n",
    "print(int('3'))"
   ],
   "outputs": [
    {
     "name": "stdout",
     "output_type": "stream",
     "text": [
      "1\n",
      "2\n",
      "3\n"
     ]
    }
   ],
   "execution_count": 58
  },
  {
   "metadata": {
    "ExecuteTime": {
     "end_time": "2024-07-30T05:19:05.262486Z",
     "start_time": "2024-07-30T05:19:05.256153Z"
    }
   },
   "cell_type": "code",
   "source": [
    "# Casting Float()\n",
    "print(float(1))\n",
    "print(float(2.8))\n",
    "print(float(\"3\"))\n",
    "print(float(\"4.2\"))"
   ],
   "outputs": [
    {
     "name": "stdout",
     "output_type": "stream",
     "text": [
      "1.0\n",
      "2.8\n",
      "3.0\n",
      "4.2\n"
     ]
    }
   ],
   "execution_count": 59
  },
  {
   "metadata": {
    "ExecuteTime": {
     "end_time": "2024-07-30T05:19:05.308151Z",
     "start_time": "2024-07-30T05:19:05.298151Z"
    }
   },
   "cell_type": "code",
   "source": [
    "# Casting String()\n",
    "print(str(\"s1\"))\n",
    "print(str(2))\n",
    "print(str(3.0))"
   ],
   "outputs": [
    {
     "name": "stdout",
     "output_type": "stream",
     "text": [
      "s1\n",
      "2\n",
      "3.0\n"
     ]
    }
   ],
   "execution_count": 60
  },
  {
   "metadata": {},
   "cell_type": "markdown",
   "source": "# Python Operators\n"
  },
  {
   "metadata": {
    "ExecuteTime": {
     "end_time": "2024-07-30T05:19:05.370150Z",
     "start_time": "2024-07-30T05:19:05.358151Z"
    }
   },
   "cell_type": "code",
   "source": [
    "# Arithmetic Operators\n",
    "print('Addition, ', 2 + 3)\n",
    "print('Subtraction, ', 9 - 5)\n",
    "print('Multiplication, ', 5 * 4)\n",
    "print('Modulus, ', 30 % 7)\n",
    "print('Exponentiation, ', 2 ** 6)\n",
    "print('Division, ', 10 / 4)\n",
    "print('Floor division, ', 10 // 4)"
   ],
   "outputs": [
    {
     "name": "stdout",
     "output_type": "stream",
     "text": [
      "Addition,  5\n",
      "Subtraction,  4\n",
      "Multiplication,  20\n",
      "Modulus,  2\n",
      "Exponentiation,  64\n",
      "Division,  2.5\n",
      "Floor division,  2\n"
     ]
    }
   ],
   "execution_count": 61
  },
  {
   "metadata": {
    "ExecuteTime": {
     "end_time": "2024-07-30T05:19:05.385151Z",
     "start_time": "2024-07-30T05:19:05.381151Z"
    }
   },
   "cell_type": "code",
   "source": [
    "# Python Comparison Operators\n",
    "x1 = 10\n",
    "y1 = 20\n",
    "print('Equal Operators, ', x1 == y1)\n",
    "print('Not equal, ', x1 != y1)\n",
    "print('Greater than\t, ', x1 > y1)\n",
    "print('Less than, ', x1 < y1)\n",
    "print('Greater than or equal to\t, ', x1 >= y1)\n",
    "print('Less than or equal to\t, ', x1 <= y1)"
   ],
   "outputs": [
    {
     "name": "stdout",
     "output_type": "stream",
     "text": [
      "Equal Operators,  False\n",
      "Not equal,  True\n",
      "Greater than\t,  False\n",
      "Less than,  True\n",
      "Greater than or equal to\t,  False\n",
      "Less than or equal to\t,  True\n"
     ]
    }
   ],
   "execution_count": 62
  },
  {
   "metadata": {
    "ExecuteTime": {
     "end_time": "2024-07-30T05:19:05.432151Z",
     "start_time": "2024-07-30T05:19:05.414150Z"
    }
   },
   "cell_type": "code",
   "source": [
    "# Python Logical Operators\n",
    "print('and => ', (5 > 6) and (6 < 5))\n",
    "print('or => ', (10 == 10) or (10 > 20))\n",
    "print('not => ', not(10 < 20) and (20 > 10))"
   ],
   "outputs": [
    {
     "name": "stdout",
     "output_type": "stream",
     "text": [
      "and =>  False\n",
      "or =>  True\n",
      "not =>  False\n"
     ]
    }
   ],
   "execution_count": 63
  },
  {
   "metadata": {},
   "cell_type": "markdown",
   "source": "# if...Else Conditions"
  },
  {
   "metadata": {
    "ExecuteTime": {
     "end_time": "2024-07-30T05:19:05.495152Z",
     "start_time": "2024-07-30T05:19:05.491150Z"
    }
   },
   "cell_type": "code",
   "source": [
    "# Python supports the usual logical conditions from mathematics:\n",
    "a = 100  # assigning value 100 to variable a\n",
    "b = 200  # assigning value 200 to variable b\n",
    "\n",
    "if a == b:  # checking if a is equal to b\n",
    "    print('a and b are equal')  # this line will execute if the condition is true\n",
    "else:\n",
    "    print(\"a and b are not equal\")  # this line will execute if the condition is false\n"
   ],
   "outputs": [
    {
     "name": "stdout",
     "output_type": "stream",
     "text": [
      "a and b are not equal\n"
     ]
    }
   ],
   "execution_count": 64
  },
  {
   "metadata": {
    "ExecuteTime": {
     "end_time": "2024-07-30T05:19:05.527150Z",
     "start_time": "2024-07-30T05:19:05.521151Z"
    }
   },
   "cell_type": "code",
   "source": [
    "# why this sector is error\n",
    "a = 50\n",
    "b = 100\n",
    "if a > b:\n",
    "print('a is greater than b')"
   ],
   "outputs": [
    {
     "ename": "IndentationError",
     "evalue": "expected an indented block (4261428962.py, line 5)",
     "output_type": "error",
     "traceback": [
      "\u001B[1;36m  Cell \u001B[1;32mIn[65], line 5\u001B[1;36m\u001B[0m\n\u001B[1;33m    print('a is greater than b')\u001B[0m\n\u001B[1;37m    ^\u001B[0m\n\u001B[1;31mIndentationError\u001B[0m\u001B[1;31m:\u001B[0m expected an indented block\n"
     ]
    }
   ],
   "execution_count": 65
  },
  {
   "metadata": {
    "ExecuteTime": {
     "end_time": "2024-07-30T05:19:05.620150Z",
     "start_time": "2024-07-30T05:19:05.606152Z"
    }
   },
   "cell_type": "code",
   "source": [
    "# elif \n",
    "a = 33\n",
    "b = 31\n",
    "\n",
    "if a > b:\n",
    "    print('a is greater than b')\n",
    "elif a < b:\n",
    "    print('a is less than b')\n",
    "else:\n",
    "    print('a and b are equal')\n"
   ],
   "outputs": [
    {
     "name": "stdout",
     "output_type": "stream",
     "text": [
      "a is greater than b\n"
     ]
    }
   ],
   "execution_count": 66
  },
  {
   "metadata": {
    "ExecuteTime": {
     "end_time": "2024-07-30T05:19:05.651150Z",
     "start_time": "2024-07-30T05:19:05.635152Z"
    }
   },
   "cell_type": "code",
   "source": [
    "# and condition\n",
    "a = 100\n",
    "b = 200\n",
    "c = 300\n",
    "\n",
    "if a < b and a < c:\n",
    "    print('a is the least')\n",
    "else:\n",
    "    print('a is not the least')"
   ],
   "outputs": [
    {
     "name": "stdout",
     "output_type": "stream",
     "text": [
      "a is the least\n"
     ]
    }
   ],
   "execution_count": 67
  },
  {
   "metadata": {
    "ExecuteTime": {
     "end_time": "2024-07-30T05:19:05.698698Z",
     "start_time": "2024-07-30T05:19:05.688151Z"
    }
   },
   "cell_type": "code",
   "source": [
    "# or condition\n",
    "a = 40\n",
    "b = 50\n",
    "c = 30\n",
    "\n",
    "if a > b or a > c:\n",
    "    print('a is greater than either b or c or both')\n",
    "else:\n",
    "    print('a is not greater than either b or c')\n"
   ],
   "outputs": [
    {
     "name": "stdout",
     "output_type": "stream",
     "text": [
      "a is greater than either b or c or both\n"
     ]
    }
   ],
   "execution_count": 68
  },
  {
   "metadata": {
    "ExecuteTime": {
     "end_time": "2024-07-30T05:19:05.778052Z",
     "start_time": "2024-07-30T05:19:05.770055Z"
    }
   },
   "cell_type": "code",
   "source": [
    "a = 33\n",
    "b = 200\n",
    "if not a > b:\n",
    "    print(\"a is NOT greater than b\")"
   ],
   "outputs": [
    {
     "name": "stdout",
     "output_type": "stream",
     "text": [
      "a is NOT greater than b\n"
     ]
    }
   ],
   "execution_count": 69
  },
  {
   "metadata": {},
   "cell_type": "markdown",
   "source": "# Python List and Array"
  },
  {
   "metadata": {
    "ExecuteTime": {
     "end_time": "2024-07-30T05:21:50.444883Z",
     "start_time": "2024-07-30T05:21:50.432637Z"
    }
   },
   "cell_type": "code",
   "source": [
    "wordlist = ['never', 'gonna', 'give', 'you', 'up']\n",
    "print(wordlist)"
   ],
   "outputs": [
    {
     "name": "stdout",
     "output_type": "stream",
     "text": [
      "['never', 'gonna', 'give', 'you', 'up']\n"
     ]
    }
   ],
   "execution_count": 1
  },
  {
   "metadata": {
    "ExecuteTime": {
     "end_time": "2024-07-30T05:24:29.893010Z",
     "start_time": "2024-07-30T05:24:29.890008Z"
    }
   },
   "cell_type": "code",
   "source": [
    "# length of the list\n",
    "print(len(wordlist))"
   ],
   "outputs": [
    {
     "name": "stdout",
     "output_type": "stream",
     "text": [
      "5\n"
     ]
    }
   ],
   "execution_count": 3
  },
  {
   "metadata": {
    "ExecuteTime": {
     "end_time": "2024-07-30T05:24:41.591565Z",
     "start_time": "2024-07-30T05:24:41.577568Z"
    }
   },
   "cell_type": "code",
   "source": [
    "# Print the third item of the list \n",
    "print(wordlist[2]) # Note: The first item has index 0."
   ],
   "outputs": [
    {
     "name": "stdout",
     "output_type": "stream",
     "text": [
      "give\n"
     ]
    }
   ],
   "execution_count": 6
  },
  {
   "metadata": {
    "ExecuteTime": {
     "end_time": "2024-07-30T05:25:32.597497Z",
     "start_time": "2024-07-30T05:25:32.591953Z"
    }
   },
   "cell_type": "code",
   "source": [
    "# Print last item of the list\n",
    "print(wordlist[-1])"
   ],
   "outputs": [
    {
     "name": "stdout",
     "output_type": "stream",
     "text": [
      "up\n"
     ]
    }
   ],
   "execution_count": 7
  },
  {
   "metadata": {
    "ExecuteTime": {
     "end_time": "2024-07-30T07:22:55.305539Z",
     "start_time": "2024-07-30T07:22:55.291326Z"
    }
   },
   "cell_type": "code",
   "source": [
    "# Range of Indexes \n",
    "# specify a range of indexes by specifying where to start and where to end the range\n",
    "fruits = [\"Apple\", \"Banana\", \"Cherry\", \"Date\", \"Elderberry\", \"Fig\", \"Grapes\", \"Elderberry\", \"Honeydew\", \"Kiwi\", \"Lemon\"]\n",
    "print(fruits)\n",
    "print(fruits[5:8])"
   ],
   "outputs": [
    {
     "name": "stdout",
     "output_type": "stream",
     "text": [
      "['Apple', 'Banana', 'Cherry', 'Date', 'Elderberry', 'Fig', 'Grapes', 'Elderberry', 'Honeydew', 'Kiwi', 'Lemon']\n",
      "['Fig', 'Grapes', 'Elderberry']\n"
     ]
    }
   ],
   "execution_count": 51
  },
  {
   "metadata": {
    "ExecuteTime": {
     "end_time": "2024-07-30T07:22:56.555599Z",
     "start_time": "2024-07-30T07:22:56.549601Z"
    }
   },
   "cell_type": "code",
   "source": [
    "# Adding item to the end of the list\n",
    "fruits.append('Blueberry')\n",
    "print('append => ', fruits)"
   ],
   "outputs": [
    {
     "name": "stdout",
     "output_type": "stream",
     "text": [
      "append =>  ['Apple', 'Banana', 'Cherry', 'Date', 'Elderberry', 'Fig', 'Grapes', 'Elderberry', 'Honeydew', 'Kiwi', 'Lemon', 'Blueberry']\n"
     ]
    }
   ],
   "execution_count": 52
  },
  {
   "metadata": {
    "ExecuteTime": {
     "end_time": "2024-07-30T07:23:00.502480Z",
     "start_time": "2024-07-30T07:23:00.488545Z"
    }
   },
   "cell_type": "code",
   "source": [
    "# Insert a list item at a specified index\n",
    "fruits.insert(0, 'Grape')\n",
    "print('insert => ', fruits)"
   ],
   "outputs": [
    {
     "name": "stdout",
     "output_type": "stream",
     "text": [
      "insert =>  ['Grape', 'Apple', 'Banana', 'Cherry', 'Date', 'Elderberry', 'Fig', 'Grapes', 'Elderberry', 'Honeydew', 'Kiwi', 'Lemon', 'Blueberry']\n"
     ]
    }
   ],
   "execution_count": 53
  },
  {
   "metadata": {
    "ExecuteTime": {
     "end_time": "2024-07-30T07:23:05.676960Z",
     "start_time": "2024-07-30T07:23:05.660030Z"
    }
   },
   "cell_type": "code",
   "source": [
    "# Remove List Items\n",
    "# Tips: If there are more than one item with the specified value, the remove() method removes the first occurrence:\n",
    "fruits.remove('Elderberry')\n",
    "print('remove => ', fruits)"
   ],
   "outputs": [
    {
     "name": "stdout",
     "output_type": "stream",
     "text": [
      "remove =>  ['Grape', 'Apple', 'Banana', 'Cherry', 'Date', 'Fig', 'Grapes', 'Elderberry', 'Honeydew', 'Kiwi', 'Lemon', 'Blueberry']\n"
     ]
    }
   ],
   "execution_count": 54
  },
  {
   "metadata": {
    "ExecuteTime": {
     "end_time": "2024-07-30T07:23:17.897Z",
     "start_time": "2024-07-30T07:23:17.882709Z"
    }
   },
   "cell_type": "code",
   "source": [
    "fruits.pop(1)\n",
    "print('pop => ', fruits)"
   ],
   "outputs": [
    {
     "name": "stdout",
     "output_type": "stream",
     "text": [
      "pop =>  ['Grape', 'Fig', 'Grapes', 'Elderberry', 'Honeydew', 'Kiwi', 'Lemon', 'Blueberry']\n"
     ]
    }
   ],
   "execution_count": 58
  },
  {
   "metadata": {
    "ExecuteTime": {
     "end_time": "2024-07-30T07:24:05.796026Z",
     "start_time": "2024-07-30T07:24:05.781736Z"
    }
   },
   "cell_type": "code",
   "source": [
    "# Clear all the items in the list\n",
    "fruits.clear()\n",
    "print(fruits)"
   ],
   "outputs": [
    {
     "name": "stdout",
     "output_type": "stream",
     "text": [
      "[]\n"
     ]
    }
   ],
   "execution_count": 60
  },
  {
   "metadata": {},
   "cell_type": "code",
   "outputs": [],
   "execution_count": null,
   "source": [
    "# Sorts the elements of a list. \n",
    "# It sorts in ascending order by default but can also sort values in descending order or in a custom manner using its parameters.\n",
    "\n",
    "numerical = [42, -7, 13.5, -29.2, 5, -88.1, 63.3, -21, 34, -55.5]\n",
    "print('before sort => ', numerical)"
   ]
  },
  {
   "metadata": {
    "ExecuteTime": {
     "end_time": "2024-07-30T08:09:38.336627Z",
     "start_time": "2024-07-30T08:09:38.329627Z"
    }
   },
   "cell_type": "code",
   "source": [
    "numerical.sort()\n",
    "print('after sort => ', numerical)"
   ],
   "outputs": [
    {
     "name": "stdout",
     "output_type": "stream",
     "text": [
      "after sort =>  [63.3, 42, 34, 13.5, 5, -7, -21, -29.2, -55.5, -88.1]\n"
     ]
    }
   ],
   "execution_count": 65
  },
  {
   "metadata": {},
   "cell_type": "markdown",
   "source": "# LOOPS "
  },
  {
   "metadata": {},
   "cell_type": "markdown",
   "source": "## while loop"
  },
  {
   "metadata": {
    "ExecuteTime": {
     "end_time": "2024-07-30T05:19:05.808643Z",
     "start_time": "2024-07-30T05:19:05.796056Z"
    }
   },
   "cell_type": "code",
   "source": [
    "i = 1\n",
    "while i < 6:\n",
    "    print(i)\n",
    "    i += 1"
   ],
   "outputs": [
    {
     "name": "stdout",
     "output_type": "stream",
     "text": [
      "1\n",
      "2\n",
      "3\n",
      "4\n",
      "5\n"
     ]
    }
   ],
   "execution_count": 70
  },
  {
   "metadata": {
    "ExecuteTime": {
     "end_time": "2024-07-30T05:19:05.872643Z",
     "start_time": "2024-07-30T05:19:05.867645Z"
    }
   },
   "cell_type": "code",
   "source": [
    "# break statement \n",
    "i = 1\n",
    "while i < 6:\n",
    "    print(i)\n",
    "    if i == 4:\n",
    "        break\n",
    "    i += 1"
   ],
   "outputs": [
    {
     "name": "stdout",
     "output_type": "stream",
     "text": [
      "1\n",
      "2\n",
      "3\n",
      "4\n"
     ]
    }
   ],
   "execution_count": 71
  },
  {
   "metadata": {
    "ExecuteTime": {
     "end_time": "2024-07-30T05:19:05.920097Z",
     "start_time": "2024-07-30T05:19:05.903643Z"
    }
   },
   "cell_type": "code",
   "source": [
    "# continue statement\n",
    "i = 0\n",
    "while i < 6:\n",
    "    i += 1\n",
    "    if i == 3:\n",
    "        continue\n",
    "    print(i)"
   ],
   "outputs": [
    {
     "name": "stdout",
     "output_type": "stream",
     "text": [
      "1\n",
      "2\n",
      "4\n",
      "5\n",
      "6\n"
     ]
    }
   ],
   "execution_count": 72
  },
  {
   "metadata": {
    "ExecuteTime": {
     "end_time": "2024-07-30T05:19:05.996470Z",
     "start_time": "2024-07-30T05:19:05.980037Z"
    }
   },
   "cell_type": "code",
   "source": [
    "i = 1\n",
    "while i < 6:\n",
    "    print(f'i = {i}')\n",
    "    i += 1\n",
    "else:\n",
    "    print('-'*50)\n",
    "    print(f'i = {i}')\n",
    "    print('i is no longer less than 6')"
   ],
   "outputs": [
    {
     "name": "stdout",
     "output_type": "stream",
     "text": [
      "i = 1\n",
      "i = 2\n",
      "i = 3\n",
      "i = 4\n",
      "i = 5\n",
      "--------------------------------------------------\n",
      "i = 6\n",
      "i is no longer less than 6\n"
     ]
    }
   ],
   "execution_count": 73
  },
  {
   "metadata": {},
   "cell_type": "markdown",
   "source": "## FOR LOOP"
  },
  {
   "metadata": {
    "ExecuteTime": {
     "end_time": "2024-07-30T07:24:30.286615Z",
     "start_time": "2024-07-30T07:24:30.271050Z"
    }
   },
   "cell_type": "code",
   "source": "fruits = [\"Apple\", \"Banana\", \"Cherry\", \"Date\", \"Elderberry\", \"Fig\", \"Grapes\", \"Elderberry\", \"Honeydew\", \"Kiwi\", \"Lemon\"]",
   "outputs": [],
   "execution_count": 61
  },
  {
   "metadata": {
    "ExecuteTime": {
     "end_time": "2024-07-30T08:11:36.078922Z",
     "start_time": "2024-07-30T08:11:36.060926Z"
    }
   },
   "cell_type": "code",
   "source": [
    "# looping through the list\n",
    "for x in fruits:\n",
    "    print(x)"
   ],
   "outputs": [
    {
     "name": "stdout",
     "output_type": "stream",
     "text": [
      "Apple\n",
      "Banana\n",
      "Cherry\n",
      "Date\n",
      "Elderberry\n",
      "Fig\n",
      "Grapes\n",
      "Elderberry\n",
      "Honeydew\n",
      "Kiwi\n",
      "Lemon\n"
     ]
    }
   ],
   "execution_count": 66
  },
  {
   "metadata": {
    "ExecuteTime": {
     "end_time": "2024-07-30T08:12:27.202269Z",
     "start_time": "2024-07-30T08:12:27.196269Z"
    }
   },
   "cell_type": "code",
   "source": [
    "# looping through a String\n",
    "for x in \"Elderberry\":\n",
    "    print(x)"
   ],
   "outputs": [
    {
     "name": "stdout",
     "output_type": "stream",
     "text": [
      "E\n",
      "l\n",
      "d\n",
      "e\n",
      "r\n",
      "b\n",
      "e\n",
      "r\n",
      "r\n",
      "y\n"
     ]
    }
   ],
   "execution_count": 67
  },
  {
   "metadata": {
    "ExecuteTime": {
     "end_time": "2024-07-30T08:13:37.979628Z",
     "start_time": "2024-07-30T08:13:37.965868Z"
    }
   },
   "cell_type": "code",
   "source": [
    "# break statement\n",
    "for x in fruits:\n",
    "    print(x)\n",
    "    if x == \"Honeydew\":\n",
    "        break"
   ],
   "outputs": [
    {
     "name": "stdout",
     "output_type": "stream",
     "text": [
      "Apple\n",
      "Banana\n",
      "Cherry\n",
      "Date\n",
      "Elderberry\n",
      "Fig\n",
      "Grapes\n",
      "Elderberry\n",
      "Honeydew\n"
     ]
    }
   ],
   "execution_count": 68
  },
  {
   "metadata": {
    "ExecuteTime": {
     "end_time": "2024-07-30T08:14:12.493043Z",
     "start_time": "2024-07-30T08:14:12.479044Z"
    }
   },
   "cell_type": "code",
   "source": [
    "# continue\n",
    "for x in fruits:\n",
    "    if x == \"Elderberry\":\n",
    "        continue\n",
    "    print(x)"
   ],
   "outputs": [
    {
     "name": "stdout",
     "output_type": "stream",
     "text": [
      "Apple\n",
      "Banana\n",
      "Cherry\n",
      "Date\n",
      "Fig\n",
      "Grapes\n",
      "Honeydew\n",
      "Kiwi\n",
      "Lemon\n"
     ]
    }
   ],
   "execution_count": 69
  },
  {
   "metadata": {
    "ExecuteTime": {
     "end_time": "2024-07-30T08:14:43.043046Z",
     "start_time": "2024-07-30T08:14:43.034047Z"
    }
   },
   "cell_type": "code",
   "source": [
    "# Range\n",
    "# To loop through a set of code a specified number of times, we can use the range() function,\n",
    "\n",
    "for x in range(10):\n",
    "    print(x)"
   ],
   "outputs": [
    {
     "name": "stdout",
     "output_type": "stream",
     "text": [
      "0\n",
      "1\n",
      "2\n",
      "3\n",
      "4\n",
      "5\n",
      "6\n",
      "7\n",
      "8\n",
      "9\n"
     ]
    }
   ],
   "execution_count": 71
  },
  {
   "metadata": {
    "ExecuteTime": {
     "end_time": "2024-07-30T08:15:43.213253Z",
     "start_time": "2024-07-30T08:15:43.194256Z"
    }
   },
   "cell_type": "code",
   "source": [
    "for x in range(3, 10):\n",
    "    print(x)"
   ],
   "outputs": [
    {
     "name": "stdout",
     "output_type": "stream",
     "text": [
      "3\n",
      "4\n",
      "5\n",
      "6\n",
      "7\n",
      "8\n",
      "9\n"
     ]
    }
   ],
   "execution_count": 73
  },
  {
   "metadata": {
    "ExecuteTime": {
     "end_time": "2024-07-30T08:16:21.860317Z",
     "start_time": "2024-07-30T08:16:21.842319Z"
    }
   },
   "cell_type": "code",
   "source": [
    "for x in range(0, 30, 3):\n",
    "    print(x)\n",
    "else:\n",
    "    print(\"Finally finished!\")"
   ],
   "outputs": [
    {
     "name": "stdout",
     "output_type": "stream",
     "text": [
      "0\n",
      "3\n",
      "6\n",
      "9\n",
      "12\n",
      "15\n",
      "18\n",
      "21\n",
      "24\n",
      "27\n",
      "Finally finished!\n"
     ]
    }
   ],
   "execution_count": 76
  },
  {
   "metadata": {},
   "cell_type": "code",
   "outputs": [],
   "execution_count": null,
   "source": ""
  }
 ],
 "metadata": {
  "kernelspec": {
   "display_name": "venv",
   "language": "python",
   "name": "python3"
  },
  "language_info": {
   "name": "python",
   "version": "3.9.10"
  }
 },
 "nbformat": 4,
 "nbformat_minor": 2
}
