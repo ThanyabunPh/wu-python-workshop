{
 "cells": [
  {
   "metadata": {},
   "cell_type": "markdown",
   "source": [
    "# python basic syntax\n",
    "print() for printing variable or string to screen"
   ]
  },
  {
   "cell_type": "code",
   "metadata": {
    "ExecuteTime": {
     "end_time": "2024-08-10T06:49:27.570320Z",
     "start_time": "2024-08-10T06:49:27.552001Z"
    }
   },
   "source": [
    "print('hello world')"
   ],
   "outputs": [
    {
     "name": "stdout",
     "output_type": "stream",
     "text": [
      "hello world\n"
     ]
    }
   ],
   "execution_count": 1
  },
  {
   "metadata": {},
   "cell_type": "markdown",
   "source": [
    "---\n",
    "## variables name\n",
    "Variables are containers for storing data values.\n",
    "\n"
   ]
  },
  {
   "metadata": {
    "ExecuteTime": {
     "end_time": "2024-08-10T06:49:27.585903Z",
     "start_time": "2024-08-10T06:49:27.578927Z"
    }
   },
   "cell_type": "code",
   "source": "x = 5",
   "outputs": [],
   "execution_count": 2
  },
  {
   "metadata": {
    "ExecuteTime": {
     "end_time": "2024-08-10T06:49:27.664320Z",
     "start_time": "2024-08-10T06:49:27.650723Z"
    }
   },
   "cell_type": "code",
   "source": "print(x)",
   "outputs": [
    {
     "name": "stdout",
     "output_type": "stream",
     "text": [
      "5\n"
     ]
    }
   ],
   "execution_count": 3
  },
  {
   "metadata": {
    "ExecuteTime": {
     "end_time": "2024-08-10T06:49:27.788581Z",
     "start_time": "2024-08-10T06:49:27.773060Z"
    }
   },
   "cell_type": "code",
   "source": [
    "name = 'tanabodee'\n",
    "name2 = \"limlong\""
   ],
   "outputs": [],
   "execution_count": 4
  },
  {
   "metadata": {
    "ExecuteTime": {
     "end_time": "2024-08-10T06:49:27.880839Z",
     "start_time": "2024-08-10T06:49:27.874154Z"
    }
   },
   "cell_type": "code",
   "source": "print(name, name2)",
   "outputs": [
    {
     "name": "stdout",
     "output_type": "stream",
     "text": [
      "tanabodee limlong\n"
     ]
    }
   ],
   "execution_count": 5
  },
  {
   "metadata": {
    "ExecuteTime": {
     "end_time": "2024-08-10T06:49:28.020197Z",
     "start_time": "2024-08-10T06:49:28.010214Z"
    }
   },
   "cell_type": "code",
   "source": [
    "x = 6\n",
    "x = \"paweena\"\n",
    "print(x)"
   ],
   "outputs": [
    {
     "name": "stdout",
     "output_type": "stream",
     "text": [
      "paweena\n"
     ]
    }
   ],
   "execution_count": 6
  },
  {
   "metadata": {
    "ExecuteTime": {
     "end_time": "2024-08-10T06:49:28.142345Z",
     "start_time": "2024-08-10T06:49:28.132820Z"
    }
   },
   "cell_type": "code",
   "source": [
    "# Question\n",
    "name = 'First'\n",
    "Name = 'Second'\n",
    "NAME = 'Third'\n",
    "\n",
    "print(Name)"
   ],
   "outputs": [
    {
     "name": "stdout",
     "output_type": "stream",
     "text": [
      "Second\n"
     ]
    }
   ],
   "execution_count": 7
  },
  {
   "metadata": {
    "ExecuteTime": {
     "end_time": "2024-08-10T06:49:28.283028Z",
     "start_time": "2024-08-10T06:49:28.277419Z"
    }
   },
   "cell_type": "code",
   "source": [
    "# 2myname = \"John\" # A variable name cannot start with a numeral.\n",
    "# print(myname) # Correct version"
   ],
   "outputs": [],
   "execution_count": 8
  },
  {
   "metadata": {
    "ExecuteTime": {
     "end_time": "2024-08-10T06:49:28.377699Z",
     "start_time": "2024-08-10T06:49:28.365786Z"
    }
   },
   "cell_type": "code",
   "source": [
    "# my-name = \"John\"  # Invalid: hyphens are not allowed in variable names.\n",
    "# print(my_name) # Correct version"
   ],
   "outputs": [],
   "execution_count": 9
  },
  {
   "metadata": {
    "ExecuteTime": {
     "end_time": "2024-08-10T06:49:28.533364Z",
     "start_time": "2024-08-10T06:49:28.524583Z"
    }
   },
   "cell_type": "code",
   "source": [
    "# my name = \"John\"  # Invalid: variable names cannot have spaces\n",
    "# print(myName) # Correct version"
   ],
   "outputs": [],
   "execution_count": 10
  },
  {
   "metadata": {
    "ExecuteTime": {
     "end_time": "2024-08-10T06:49:28.625122Z",
     "start_time": "2024-08-10T06:49:28.618564Z"
    }
   },
   "cell_type": "code",
   "source": "# and = \"john\"  # Invalid: variable names cannot be Python keywords",
   "outputs": [],
   "execution_count": 11
  },
  {
   "metadata": {},
   "cell_type": "markdown",
   "source": [
    "---\n",
    "# Data Types"
   ]
  },
  {
   "metadata": {
    "ExecuteTime": {
     "end_time": "2024-08-10T06:49:28.717205Z",
     "start_time": "2024-08-10T06:49:28.707683Z"
    }
   },
   "cell_type": "code",
   "source": [
    "# Text type\n",
    "x = \"Hello World\"\n",
    "print(type(x))"
   ],
   "outputs": [
    {
     "name": "stdout",
     "output_type": "stream",
     "text": [
      "<class 'str'>\n"
     ]
    }
   ],
   "execution_count": 12
  },
  {
   "metadata": {
    "ExecuteTime": {
     "end_time": "2024-08-10T06:49:28.763929Z",
     "start_time": "2024-08-10T06:49:28.758340Z"
    }
   },
   "cell_type": "code",
   "source": [
    "# Numeric types\n",
    "x = 20 # int\n",
    "y = 20.25 # float\n",
    "z = 3j # complex\n",
    "\n",
    "print(type(x))\n",
    "print(type(y))\n",
    "print(type(z))"
   ],
   "outputs": [
    {
     "name": "stdout",
     "output_type": "stream",
     "text": [
      "<class 'int'>\n",
      "<class 'float'>\n",
      "<class 'complex'>\n"
     ]
    }
   ],
   "execution_count": 13
  },
  {
   "metadata": {
    "ExecuteTime": {
     "end_time": "2024-08-10T06:49:28.871696Z",
     "start_time": "2024-08-10T06:49:28.852737Z"
    }
   },
   "cell_type": "code",
   "source": [
    "# Boolean type\n",
    "x = True\n",
    "# y = False\n",
    "\n",
    "print(type(x))"
   ],
   "outputs": [
    {
     "name": "stdout",
     "output_type": "stream",
     "text": [
      "<class 'bool'>\n"
     ]
    }
   ],
   "execution_count": 14
  },
  {
   "metadata": {},
   "cell_type": "markdown",
   "source": "## Casting Data type"
  },
  {
   "metadata": {
    "ExecuteTime": {
     "end_time": "2024-08-10T06:49:28.919030Z",
     "start_time": "2024-08-10T06:49:28.911510Z"
    }
   },
   "cell_type": "code",
   "source": [
    "# Casting int()\n",
    "print(int(1))\n",
    "print(int(2.9))\n",
    "print(int('3'))"
   ],
   "outputs": [
    {
     "name": "stdout",
     "output_type": "stream",
     "text": [
      "1\n",
      "2\n",
      "3\n"
     ]
    }
   ],
   "execution_count": 15
  },
  {
   "metadata": {
    "ExecuteTime": {
     "end_time": "2024-08-10T06:49:29.025804Z",
     "start_time": "2024-08-10T06:49:29.013603Z"
    }
   },
   "cell_type": "code",
   "source": [
    "# Casting Float()\n",
    "print(float(1))\n",
    "print(float(2.8))\n",
    "print(float(\"3\"))\n",
    "print(float(\"4.2\"))"
   ],
   "outputs": [
    {
     "name": "stdout",
     "output_type": "stream",
     "text": [
      "1.0\n",
      "2.8\n",
      "3.0\n",
      "4.2\n"
     ]
    }
   ],
   "execution_count": 16
  },
  {
   "metadata": {
    "ExecuteTime": {
     "end_time": "2024-08-10T06:49:29.147873Z",
     "start_time": "2024-08-10T06:49:29.128477Z"
    }
   },
   "cell_type": "code",
   "source": [
    "# Casting String()\n",
    "print(str(\"s1\"))\n",
    "print(str(2))\n",
    "print(str(3.0))"
   ],
   "outputs": [
    {
     "name": "stdout",
     "output_type": "stream",
     "text": [
      "s1\n",
      "2\n",
      "3.0\n"
     ]
    }
   ],
   "execution_count": 17
  },
  {
   "metadata": {},
   "cell_type": "markdown",
   "source": "# Python Input"
  },
  {
   "metadata": {
    "ExecuteTime": {
     "end_time": "2024-08-10T06:49:32.022514Z",
     "start_time": "2024-08-10T06:49:29.206335Z"
    }
   },
   "cell_type": "code",
   "source": [
    "# normally we use input() function to get input from the user\n",
    "x = input('Enter your name: ')\n",
    "print('Hello, ' + x)"
   ],
   "outputs": [
    {
     "name": "stdout",
     "output_type": "stream",
     "text": [
      "Hello, q\n"
     ]
    }
   ],
   "execution_count": 18
  },
  {
   "metadata": {
    "ExecuteTime": {
     "end_time": "2024-08-10T06:49:33.630955Z",
     "start_time": "2024-08-10T06:49:32.024120Z"
    }
   },
   "cell_type": "code",
   "source": [
    "# if we put input() function inside int() function, it will convert the input to integer \n",
    "y = int(input('Enter your age: '))\n",
    "print('Your age is ', y)"
   ],
   "outputs": [
    {
     "name": "stdout",
     "output_type": "stream",
     "text": [
      "Your age is  1\n"
     ]
    }
   ],
   "execution_count": 19
  },
  {
   "metadata": {},
   "cell_type": "markdown",
   "source": "# Python Operators\n"
  },
  {
   "metadata": {
    "ExecuteTime": {
     "end_time": "2024-08-10T06:49:33.646088Z",
     "start_time": "2024-08-10T06:49:33.632569Z"
    }
   },
   "cell_type": "code",
   "source": [
    "# Arithmetic Operators\n",
    "print('Addition, ', 2 + 3)\n",
    "print('Subtraction, ', 9 - 5)\n",
    "print('Multiplication, ', 5 * 4)\n",
    "print('Modulus, ', 30 % 7)\n",
    "print('Exponentiation, ', 2 ** 6)\n",
    "print('Division, ', 10 / 4)\n",
    "print('Floor division, ', 10 // 4)"
   ],
   "outputs": [
    {
     "name": "stdout",
     "output_type": "stream",
     "text": [
      "Addition,  5\n",
      "Subtraction,  4\n",
      "Multiplication,  20\n",
      "Modulus,  2\n",
      "Exponentiation,  64\n",
      "Division,  2.5\n",
      "Floor division,  2\n"
     ]
    }
   ],
   "execution_count": 20
  },
  {
   "metadata": {
    "ExecuteTime": {
     "end_time": "2024-08-10T06:49:33.692640Z",
     "start_time": "2024-08-10T06:49:33.688368Z"
    }
   },
   "cell_type": "code",
   "source": [
    "# Python Comparison Operators\n",
    "x1 = 10\n",
    "y1 = 20\n",
    "print('Equal Operators, ', x1 == y1)\n",
    "print('Not equal, ', x1 != y1)\n",
    "print('Greater than\t, ', x1 > y1)\n",
    "print('Less than, ', x1 < y1)\n",
    "print('Greater than or equal to\t, ', x1 >= y1)\n",
    "print('Less than or equal to , ', x1 <= y1)"
   ],
   "outputs": [
    {
     "name": "stdout",
     "output_type": "stream",
     "text": [
      "Equal Operators,  False\n",
      "Not equal,  True\n",
      "Greater than\t,  False\n",
      "Less than,  True\n",
      "Greater than or equal to\t,  False\n",
      "Less than or equal to ,  True\n"
     ]
    }
   ],
   "execution_count": 21
  },
  {
   "metadata": {
    "ExecuteTime": {
     "end_time": "2024-08-10T06:49:33.816745Z",
     "start_time": "2024-08-10T06:49:33.806747Z"
    }
   },
   "cell_type": "code",
   "source": [
    "# Python Logical Operators\n",
    "print('and => ', (5 > 6) and (6 < 5))\n",
    "print('or => ', (10 == 10) or (10 > 20))\n",
    "print('not => ', not(10 < 20) and (20 > 10))"
   ],
   "outputs": [
    {
     "name": "stdout",
     "output_type": "stream",
     "text": [
      "and =>  False\n",
      "or =>  True\n",
      "not =>  False\n"
     ]
    }
   ],
   "execution_count": 22
  },
  {
   "metadata": {},
   "cell_type": "markdown",
   "source": "# if...Else Conditions"
  },
  {
   "metadata": {
    "ExecuteTime": {
     "end_time": "2024-08-10T06:49:34.003479Z",
     "start_time": "2024-08-10T06:49:33.998293Z"
    }
   },
   "cell_type": "code",
   "source": [
    "# Python supports the usual logical conditions from mathematics:\n",
    "a = 100  # assigning value 100 to variable a\n",
    "b = 200  # assigning value 200 to variable b\n",
    "\n",
    "if a == b:  # checking if a is equal to b\n",
    "    print('a and b are equal')  # this line will execute if the condition is true\n",
    "else:\n",
    "    print(\"a and b are not equal\")  # this line will execute if the condition is false\n"
   ],
   "outputs": [
    {
     "name": "stdout",
     "output_type": "stream",
     "text": [
      "a and b are not equal\n"
     ]
    }
   ],
   "execution_count": 23
  },
  {
   "metadata": {
    "ExecuteTime": {
     "end_time": "2024-08-10T06:49:34.112124Z",
     "start_time": "2024-08-10T06:49:34.107605Z"
    }
   },
   "cell_type": "code",
   "source": [
    "# why this sector is error\n",
    "a = 50\n",
    "b = 100\n",
    "if a > b:\n",
    "print('a is greater than b')"
   ],
   "outputs": [
    {
     "ename": "IndentationError",
     "evalue": "expected an indented block (4261428962.py, line 5)",
     "output_type": "error",
     "traceback": [
      "\u001B[1;36m  Cell \u001B[1;32mIn[24], line 5\u001B[1;36m\u001B[0m\n\u001B[1;33m    print('a is greater than b')\u001B[0m\n\u001B[1;37m    ^\u001B[0m\n\u001B[1;31mIndentationError\u001B[0m\u001B[1;31m:\u001B[0m expected an indented block\n"
     ]
    }
   ],
   "execution_count": 24
  },
  {
   "metadata": {
    "ExecuteTime": {
     "end_time": "2024-08-10T06:49:34.220692Z",
     "start_time": "2024-08-10T06:49:34.215822Z"
    }
   },
   "cell_type": "code",
   "source": [
    "# elif \n",
    "a = 33\n",
    "b = 31\n",
    "\n",
    "if a > b:\n",
    "    print('a is greater than b')\n",
    "elif a < b:\n",
    "    print('a is less than b')\n",
    "else:\n",
    "    print('a and b are equal')\n"
   ],
   "outputs": [
    {
     "name": "stdout",
     "output_type": "stream",
     "text": [
      "a is greater than b\n"
     ]
    }
   ],
   "execution_count": 25
  },
  {
   "metadata": {
    "ExecuteTime": {
     "end_time": "2024-08-10T06:49:34.297635Z",
     "start_time": "2024-08-10T06:49:34.292979Z"
    }
   },
   "cell_type": "code",
   "source": [
    "# and condition\n",
    "a = 100\n",
    "b = 200\n",
    "c = 300\n",
    "\n",
    "if a < b and a < c:\n",
    "    print('a is the least')\n",
    "else:\n",
    "    print('a is not the least')"
   ],
   "outputs": [
    {
     "name": "stdout",
     "output_type": "stream",
     "text": [
      "a is the least\n"
     ]
    }
   ],
   "execution_count": 26
  },
  {
   "metadata": {
    "ExecuteTime": {
     "end_time": "2024-08-10T06:49:35.059617Z",
     "start_time": "2024-08-10T06:49:35.040426Z"
    }
   },
   "cell_type": "code",
   "source": [
    "# or condition\n",
    "a = 40\n",
    "b = 50\n",
    "c = 30\n",
    "\n",
    "if a > b or a > c:\n",
    "    print('a is greater than either b or c or both')\n",
    "else:\n",
    "    print('a is not greater than either b or c')\n"
   ],
   "outputs": [
    {
     "name": "stdout",
     "output_type": "stream",
     "text": [
      "a is greater than either b or c or both\n"
     ]
    }
   ],
   "execution_count": 27
  },
  {
   "metadata": {
    "ExecuteTime": {
     "end_time": "2024-08-10T06:49:35.152545Z",
     "start_time": "2024-08-10T06:49:35.137293Z"
    }
   },
   "cell_type": "code",
   "source": [
    "a = 33\n",
    "b = 200\n",
    "if not a > b:\n",
    "    print(\"a is NOT greater than b\")"
   ],
   "outputs": [
    {
     "name": "stdout",
     "output_type": "stream",
     "text": [
      "a is NOT greater than b\n"
     ]
    }
   ],
   "execution_count": 28
  },
  {
   "metadata": {},
   "cell_type": "markdown",
   "source": "# Python List and Array"
  },
  {
   "metadata": {
    "ExecuteTime": {
     "end_time": "2024-08-10T06:49:35.245386Z",
     "start_time": "2024-08-10T06:49:35.240236Z"
    }
   },
   "cell_type": "code",
   "source": [
    "wordlist = ['never', 'gonna', 'give', 'you', 'up']\n",
    "print(wordlist)"
   ],
   "outputs": [
    {
     "name": "stdout",
     "output_type": "stream",
     "text": [
      "['never', 'gonna', 'give', 'you', 'up']\n"
     ]
    }
   ],
   "execution_count": 29
  },
  {
   "metadata": {
    "ExecuteTime": {
     "end_time": "2024-08-10T06:49:35.477232Z",
     "start_time": "2024-08-10T06:49:35.459191Z"
    }
   },
   "cell_type": "code",
   "source": [
    "# length of the list\n",
    "print(len(wordlist))"
   ],
   "outputs": [
    {
     "name": "stdout",
     "output_type": "stream",
     "text": [
      "5\n"
     ]
    }
   ],
   "execution_count": 30
  },
  {
   "metadata": {
    "ExecuteTime": {
     "end_time": "2024-08-10T06:49:35.631420Z",
     "start_time": "2024-08-10T06:49:35.624260Z"
    }
   },
   "cell_type": "code",
   "source": [
    "# Print the third item of the list \n",
    "print(wordlist[2]) # Note: The first item has index 0."
   ],
   "outputs": [
    {
     "name": "stdout",
     "output_type": "stream",
     "text": [
      "give\n"
     ]
    }
   ],
   "execution_count": 31
  },
  {
   "metadata": {
    "ExecuteTime": {
     "end_time": "2024-08-10T06:49:35.724234Z",
     "start_time": "2024-08-10T06:49:35.719871Z"
    }
   },
   "cell_type": "code",
   "source": [
    "# Print last item of the list\n",
    "print(wordlist[-1])"
   ],
   "outputs": [
    {
     "name": "stdout",
     "output_type": "stream",
     "text": [
      "up\n"
     ]
    }
   ],
   "execution_count": 32
  },
  {
   "metadata": {
    "ExecuteTime": {
     "end_time": "2024-08-10T06:49:35.862067Z",
     "start_time": "2024-08-10T06:49:35.850405Z"
    }
   },
   "cell_type": "code",
   "source": [
    "# Range of Indexes \n",
    "# specify a range of indexes by specifying where to start and where to end the range\n",
    "fruits = [\"Apple\", \"Banana\", \"Cherry\", \"Date\", \"Elderberry\", \"Fig\", \"Grapes\", \"Elderberry\", \"Honeydew\", \"Kiwi\", \"Lemon\"]\n",
    "# print(fruits)\n",
    "print(fruits[2:5])\n",
    "print(fruits[-5: -3])"
   ],
   "outputs": [
    {
     "name": "stdout",
     "output_type": "stream",
     "text": [
      "['Cherry', 'Date', 'Elderberry']\n",
      "['Grapes', 'Elderberry']\n"
     ]
    }
   ],
   "execution_count": 33
  },
  {
   "metadata": {
    "ExecuteTime": {
     "end_time": "2024-08-10T06:49:35.893973Z",
     "start_time": "2024-08-10T06:49:35.878970Z"
    }
   },
   "cell_type": "code",
   "source": [
    "# Adding item to the end of the list\n",
    "fruits.append('Blueberry')\n",
    "print('append => ', fruits)"
   ],
   "outputs": [
    {
     "name": "stdout",
     "output_type": "stream",
     "text": [
      "append =>  ['Apple', 'Banana', 'Cherry', 'Date', 'Elderberry', 'Fig', 'Grapes', 'Elderberry', 'Honeydew', 'Kiwi', 'Lemon', 'Blueberry']\n"
     ]
    }
   ],
   "execution_count": 34
  },
  {
   "metadata": {
    "ExecuteTime": {
     "end_time": "2024-08-10T06:49:35.986544Z",
     "start_time": "2024-08-10T06:49:35.969073Z"
    }
   },
   "cell_type": "code",
   "source": [
    "# Insert a list item at a specified index\n",
    "fruits.insert(0, 'Grape')\n",
    "print('insert => ', fruits)"
   ],
   "outputs": [
    {
     "name": "stdout",
     "output_type": "stream",
     "text": [
      "insert =>  ['Grape', 'Apple', 'Banana', 'Cherry', 'Date', 'Elderberry', 'Fig', 'Grapes', 'Elderberry', 'Honeydew', 'Kiwi', 'Lemon', 'Blueberry']\n"
     ]
    }
   ],
   "execution_count": 35
  },
  {
   "metadata": {
    "ExecuteTime": {
     "end_time": "2024-08-10T06:49:36.033334Z",
     "start_time": "2024-08-10T06:49:36.018965Z"
    }
   },
   "cell_type": "code",
   "source": [
    "# Remove List Items\n",
    "# Tips: If there are more than one item with the specified value, the remove() method removes the first occurrence:\n",
    "fruits.remove('Elderberry')\n",
    "print('remove => ', fruits)"
   ],
   "outputs": [
    {
     "name": "stdout",
     "output_type": "stream",
     "text": [
      "remove =>  ['Grape', 'Apple', 'Banana', 'Cherry', 'Date', 'Fig', 'Grapes', 'Elderberry', 'Honeydew', 'Kiwi', 'Lemon', 'Blueberry']\n"
     ]
    }
   ],
   "execution_count": 36
  },
  {
   "metadata": {
    "ExecuteTime": {
     "end_time": "2024-08-10T06:49:36.125821Z",
     "start_time": "2024-08-10T06:49:36.121441Z"
    }
   },
   "cell_type": "code",
   "source": [
    "fruits.pop(1)\n",
    "print('pop => ', fruits)"
   ],
   "outputs": [
    {
     "name": "stdout",
     "output_type": "stream",
     "text": [
      "pop =>  ['Grape', 'Banana', 'Cherry', 'Date', 'Fig', 'Grapes', 'Elderberry', 'Honeydew', 'Kiwi', 'Lemon', 'Blueberry']\n"
     ]
    }
   ],
   "execution_count": 37
  },
  {
   "metadata": {
    "ExecuteTime": {
     "end_time": "2024-08-10T06:49:36.156311Z",
     "start_time": "2024-08-10T06:49:36.147740Z"
    }
   },
   "cell_type": "code",
   "source": [
    "# Clear all the items in the list\n",
    "fruits.clear()\n",
    "print(fruits)"
   ],
   "outputs": [
    {
     "name": "stdout",
     "output_type": "stream",
     "text": [
      "[]\n"
     ]
    }
   ],
   "execution_count": 38
  },
  {
   "metadata": {
    "ExecuteTime": {
     "end_time": "2024-08-10T06:49:36.264893Z",
     "start_time": "2024-08-10T06:49:36.252895Z"
    }
   },
   "cell_type": "code",
   "source": [
    "# Sorts the elements of a list. \n",
    "# It sorts in ascending order by default but can also sort values in descending order or in a custom manner using its parameters.\n",
    "\n",
    "numerical = [42, -7, 13.5, -29.2, 5, -88.1, 63.3, -21, 34, -55.5]\n",
    "print('before sort => ', numerical)"
   ],
   "outputs": [
    {
     "name": "stdout",
     "output_type": "stream",
     "text": [
      "before sort =>  [42, -7, 13.5, -29.2, 5, -88.1, 63.3, -21, 34, -55.5]\n"
     ]
    }
   ],
   "execution_count": 39
  },
  {
   "metadata": {
    "ExecuteTime": {
     "end_time": "2024-08-10T06:49:36.310824Z",
     "start_time": "2024-08-10T06:49:36.305823Z"
    }
   },
   "cell_type": "code",
   "source": [
    "numerical.sort()\n",
    "print('after sort => ', numerical)"
   ],
   "outputs": [
    {
     "name": "stdout",
     "output_type": "stream",
     "text": [
      "after sort =>  [-88.1, -55.5, -29.2, -21, -7, 5, 13.5, 34, 42, 63.3]\n"
     ]
    }
   ],
   "execution_count": 40
  },
  {
   "metadata": {},
   "cell_type": "markdown",
   "source": "# LOOPS "
  },
  {
   "metadata": {},
   "cell_type": "markdown",
   "source": "## while loop"
  },
  {
   "metadata": {
    "ExecuteTime": {
     "end_time": "2024-08-10T06:49:36.389183Z",
     "start_time": "2024-08-10T06:49:36.373182Z"
    }
   },
   "cell_type": "code",
   "source": [
    "i = 1\n",
    "while i < 6:\n",
    "    print(i)\n",
    "    i += 1"
   ],
   "outputs": [
    {
     "name": "stdout",
     "output_type": "stream",
     "text": [
      "1\n",
      "2\n",
      "3\n",
      "4\n",
      "5\n"
     ]
    }
   ],
   "execution_count": 41
  },
  {
   "metadata": {
    "ExecuteTime": {
     "end_time": "2024-08-10T06:49:36.436121Z",
     "start_time": "2024-08-10T06:49:36.420119Z"
    }
   },
   "cell_type": "code",
   "source": [
    "# break statement \n",
    "i = 1\n",
    "while i < 6:\n",
    "    print(i)\n",
    "    if i == 4:\n",
    "        break\n",
    "    i += 1"
   ],
   "outputs": [
    {
     "name": "stdout",
     "output_type": "stream",
     "text": [
      "1\n",
      "2\n",
      "3\n",
      "4\n"
     ]
    }
   ],
   "execution_count": 42
  },
  {
   "metadata": {
    "ExecuteTime": {
     "end_time": "2024-08-10T06:49:36.499124Z",
     "start_time": "2024-08-10T06:49:36.495061Z"
    }
   },
   "cell_type": "code",
   "source": [
    "# continue statement\n",
    "i = 0\n",
    "while i < 6:\n",
    "    i += 1\n",
    "    if i == 3:\n",
    "        continue\n",
    "    print(i)"
   ],
   "outputs": [
    {
     "name": "stdout",
     "output_type": "stream",
     "text": [
      "1\n",
      "2\n",
      "4\n",
      "5\n",
      "6\n"
     ]
    }
   ],
   "execution_count": 43
  },
  {
   "metadata": {
    "ExecuteTime": {
     "end_time": "2024-08-10T06:49:36.560417Z",
     "start_time": "2024-08-10T06:49:36.544019Z"
    }
   },
   "cell_type": "code",
   "source": [
    "i = 1\n",
    "while i < 6:\n",
    "    print(f'i = {i}')\n",
    "    i += 1\n",
    "else:\n",
    "    print('-'*50)\n",
    "    print(f'i = {i}')\n",
    "    print('i is no longer less than 6')"
   ],
   "outputs": [
    {
     "name": "stdout",
     "output_type": "stream",
     "text": [
      "i = 1\n",
      "i = 2\n",
      "i = 3\n",
      "i = 4\n",
      "i = 5\n",
      "--------------------------------------------------\n",
      "i = 6\n",
      "i is no longer less than 6\n"
     ]
    }
   ],
   "execution_count": 44
  },
  {
   "metadata": {},
   "cell_type": "markdown",
   "source": "## FOR LOOP"
  },
  {
   "metadata": {
    "ExecuteTime": {
     "end_time": "2024-08-10T06:49:36.684091Z",
     "start_time": "2024-08-10T06:49:36.673272Z"
    }
   },
   "cell_type": "code",
   "source": "fruits = [\"Apple\", \"Banana\", \"Cherry\", \"Date\", \"Elderberry\", \"Fig\", \"Grapes\", \"Elderberry\", \"Honeydew\", \"Kiwi\", \"Lemon\"]",
   "outputs": [],
   "execution_count": 45
  },
  {
   "metadata": {
    "ExecuteTime": {
     "end_time": "2024-08-10T06:49:36.731030Z",
     "start_time": "2024-08-10T06:49:36.720672Z"
    }
   },
   "cell_type": "code",
   "source": [
    "# looping through the list\n",
    "for x in fruits:\n",
    "    print(x)"
   ],
   "outputs": [
    {
     "name": "stdout",
     "output_type": "stream",
     "text": [
      "Apple\n",
      "Banana\n",
      "Cherry\n",
      "Date\n",
      "Elderberry\n",
      "Fig\n",
      "Grapes\n",
      "Elderberry\n",
      "Honeydew\n",
      "Kiwi\n",
      "Lemon\n"
     ]
    }
   ],
   "execution_count": 46
  },
  {
   "metadata": {
    "ExecuteTime": {
     "end_time": "2024-08-10T06:49:36.852525Z",
     "start_time": "2024-08-10T06:49:36.840135Z"
    }
   },
   "cell_type": "code",
   "source": [
    "# looping through a String\n",
    "for x in \"Elderberry\":\n",
    "    print(x)"
   ],
   "outputs": [
    {
     "name": "stdout",
     "output_type": "stream",
     "text": [
      "E\n",
      "l\n",
      "d\n",
      "e\n",
      "r\n",
      "b\n",
      "e\n",
      "r\n",
      "r\n",
      "y\n"
     ]
    }
   ],
   "execution_count": 47
  },
  {
   "metadata": {
    "ExecuteTime": {
     "end_time": "2024-08-10T06:49:36.883541Z",
     "start_time": "2024-08-10T06:49:36.874283Z"
    }
   },
   "cell_type": "code",
   "source": [
    "# break statement\n",
    "for x in fruits:\n",
    "    print(x)\n",
    "    if x == \"Honeydew\":\n",
    "        break"
   ],
   "outputs": [
    {
     "name": "stdout",
     "output_type": "stream",
     "text": [
      "Apple\n",
      "Banana\n",
      "Cherry\n",
      "Date\n",
      "Elderberry\n",
      "Fig\n",
      "Grapes\n",
      "Elderberry\n",
      "Honeydew\n"
     ]
    }
   ],
   "execution_count": 48
  },
  {
   "metadata": {
    "ExecuteTime": {
     "end_time": "2024-08-10T06:49:36.945653Z",
     "start_time": "2024-08-10T06:49:36.940654Z"
    }
   },
   "cell_type": "code",
   "source": [
    "# continue\n",
    "for x in fruits:\n",
    "    if x == \"Elderberry\":\n",
    "        continue\n",
    "    print(x)"
   ],
   "outputs": [
    {
     "name": "stdout",
     "output_type": "stream",
     "text": [
      "Apple\n",
      "Banana\n",
      "Cherry\n",
      "Date\n",
      "Fig\n",
      "Grapes\n",
      "Honeydew\n",
      "Kiwi\n",
      "Lemon\n"
     ]
    }
   ],
   "execution_count": 49
  },
  {
   "metadata": {
    "ExecuteTime": {
     "end_time": "2024-08-10T06:49:37.024791Z",
     "start_time": "2024-08-10T06:49:37.009674Z"
    }
   },
   "cell_type": "code",
   "source": [
    "# Range\n",
    "# To loop through a set of code a specified number of times, we can use the range() function,\n",
    "\n",
    "for x in range(10):\n",
    "    print(x)"
   ],
   "outputs": [
    {
     "name": "stdout",
     "output_type": "stream",
     "text": [
      "0\n",
      "1\n",
      "2\n",
      "3\n",
      "4\n",
      "5\n",
      "6\n",
      "7\n",
      "8\n",
      "9\n"
     ]
    }
   ],
   "execution_count": 50
  },
  {
   "metadata": {
    "ExecuteTime": {
     "end_time": "2024-08-10T06:49:37.118433Z",
     "start_time": "2024-08-10T06:49:37.110777Z"
    }
   },
   "cell_type": "code",
   "source": [
    "for x in range(3, 10):\n",
    "    print(x)"
   ],
   "outputs": [
    {
     "name": "stdout",
     "output_type": "stream",
     "text": [
      "3\n",
      "4\n",
      "5\n",
      "6\n",
      "7\n",
      "8\n",
      "9\n"
     ]
    }
   ],
   "execution_count": 51
  },
  {
   "metadata": {
    "ExecuteTime": {
     "end_time": "2024-08-10T06:49:37.180782Z",
     "start_time": "2024-08-10T06:49:37.168396Z"
    }
   },
   "cell_type": "code",
   "source": [
    "for x in range(0, 30, 3):\n",
    "    print(x)\n",
    "else:\n",
    "    print(\"Finally finished!\")"
   ],
   "outputs": [
    {
     "name": "stdout",
     "output_type": "stream",
     "text": [
      "0\n",
      "3\n",
      "6\n",
      "9\n",
      "12\n",
      "15\n",
      "18\n",
      "21\n",
      "24\n",
      "27\n",
      "Finally finished!\n"
     ]
    }
   ],
   "execution_count": 52
  },
  {
   "metadata": {},
   "cell_type": "markdown",
   "source": "# Function  "
  },
  {
   "metadata": {
    "ExecuteTime": {
     "end_time": "2024-08-10T06:49:37.242960Z",
     "start_time": "2024-08-10T06:49:37.237444Z"
    }
   },
   "cell_type": "code",
   "source": [
    "# A function is a block of code which only runs when it is called.\n",
    "def HelloFunction():\n",
    "    print('Hello from function :)')"
   ],
   "outputs": [],
   "execution_count": 53
  },
  {
   "metadata": {
    "ExecuteTime": {
     "end_time": "2024-08-10T06:49:37.319994Z",
     "start_time": "2024-08-10T06:49:37.303507Z"
    }
   },
   "cell_type": "code",
   "source": [
    "# Calling a function\n",
    "HelloFunction()"
   ],
   "outputs": [
    {
     "name": "stdout",
     "output_type": "stream",
     "text": [
      "Hello from function :)\n"
     ]
    }
   ],
   "execution_count": 54
  },
  {
   "metadata": {
    "ExecuteTime": {
     "end_time": "2024-08-10T06:49:37.396173Z",
     "start_time": "2024-08-10T06:49:37.381440Z"
    }
   },
   "cell_type": "code",
   "source": [
    "# Arguments \n",
    "# Information can be passed into functions as arguments.  \n",
    "# You can add as many arguments as you want, just separate them with a comma.\n",
    "def FirstFunction(first_name):\n",
    "    print(f'Hello {first_name} from the function :)')"
   ],
   "outputs": [],
   "execution_count": 55
  },
  {
   "metadata": {
    "ExecuteTime": {
     "end_time": "2024-08-10T06:49:37.426533Z",
     "start_time": "2024-08-10T06:49:37.412277Z"
    }
   },
   "cell_type": "code",
   "source": [
    "# Calling a function with arguments\n",
    "FirstFunction('little john')"
   ],
   "outputs": [
    {
     "name": "stdout",
     "output_type": "stream",
     "text": [
      "Hello little john from the function :)\n"
     ]
    }
   ],
   "execution_count": 56
  },
  {
   "metadata": {
    "ExecuteTime": {
     "end_time": "2024-08-10T06:49:37.504757Z",
     "start_time": "2024-08-10T06:49:37.487758Z"
    }
   },
   "cell_type": "code",
   "source": [
    "# Number of Arguments\n",
    "def FullNameFunction(first_name, last_name):\n",
    "    print(f'Hello {first_name} {last_name} from the function :)')\n",
    "    "
   ],
   "outputs": [],
   "execution_count": 57
  },
  {
   "metadata": {
    "ExecuteTime": {
     "end_time": "2024-08-10T06:49:37.552760Z",
     "start_time": "2024-08-10T06:49:37.536758Z"
    }
   },
   "cell_type": "code",
   "source": "FullNameFunction('little', 'john')",
   "outputs": [
    {
     "name": "stdout",
     "output_type": "stream",
     "text": [
      "Hello little john from the function :)\n"
     ]
    }
   ],
   "execution_count": 58
  },
  {
   "metadata": {
    "ExecuteTime": {
     "end_time": "2024-08-10T06:49:38.226903Z",
     "start_time": "2024-08-10T06:49:37.655935Z"
    }
   },
   "cell_type": "code",
   "source": [
    "# Why this sector is error ?\n",
    "FullNameFunction('little')"
   ],
   "outputs": [
    {
     "ename": "TypeError",
     "evalue": "FullNameFunction() missing 1 required positional argument: 'last_name'",
     "output_type": "error",
     "traceback": [
      "\u001B[1;31m---------------------------------------------------------------------------\u001B[0m",
      "\u001B[1;31mTypeError\u001B[0m                                 Traceback (most recent call last)",
      "Cell \u001B[1;32mIn[59], line 2\u001B[0m\n\u001B[0;32m      1\u001B[0m \u001B[38;5;66;03m# Why this sector is error ?\u001B[39;00m\n\u001B[1;32m----> 2\u001B[0m \u001B[43mFullNameFunction\u001B[49m\u001B[43m(\u001B[49m\u001B[38;5;124;43m'\u001B[39;49m\u001B[38;5;124;43mlittle\u001B[39;49m\u001B[38;5;124;43m'\u001B[39;49m\u001B[43m)\u001B[49m\n",
      "\u001B[1;31mTypeError\u001B[0m: FullNameFunction() missing 1 required positional argument: 'last_name'"
     ]
    }
   ],
   "execution_count": 59
  },
  {
   "metadata": {},
   "cell_type": "code",
   "source": [
    "# Return Values Function\n",
    "def ExampleSumFunction(x, y):\n",
    "    return x + y\n",
    "\n",
    "\n",
    "print(ExampleSumFunction(10, 20))\n",
    "\n",
    "sum_result = ExampleSumFunction(10, 20)\n",
    "print(sum_result)"
   ],
   "outputs": [],
   "execution_count": null
  },
  {
   "metadata": {},
   "cell_type": "code",
   "source": [
    "# Why print('Hello') is not executed ?\n",
    "def MinusFunction(x, y):\n",
    "    return x - y\n",
    "    print('Hello')\n",
    "    \n",
    "MinusFunction(5, 4)"
   ],
   "outputs": [],
   "execution_count": null
  },
  {
   "metadata": {},
   "cell_type": "code",
   "source": [
    "# Arbitrary Arguments, *args\n",
    "def AverageFunction(*x):\n",
    "    if not x:\n",
    "        return \"No numbers provided\"\n",
    "    else:\n",
    "        return sum(x) / len(x)\n",
    "    \n",
    "\n",
    "print(AverageFunction(1, 2, 3, 4, 5, 6, 7, 8, 9, 10))\n",
    "print(AverageFunction())"
   ],
   "outputs": [],
   "execution_count": null
  },
  {
   "metadata": {},
   "cell_type": "code",
   "source": [
    "# Arbitrary Keyword Arguments, **kwargs \n",
    "# If you do not know how many keyword arguments that will be passed into your function, add two asterisk: ** before the parameter name in the function definition.\n",
    "\n",
    "def my_book_function(**book):\n",
    "    print('The book title is ' + book['title'])\n",
    "    print('The book author is ' + book['author'])\n",
    "    print(f'The book year is {book[\"year\"]}')\n",
    "\n",
    "my_book_function(title='Python Programming', author='John Doe', year=2021)"
   ],
   "outputs": [],
   "execution_count": null
  },
  {
   "metadata": {},
   "cell_type": "code",
   "source": [
    "# Passing a List as an Argument\n",
    "def my_busket_function(busket):\n",
    "    for fruit in busket:\n",
    "        print(fruit)\n",
    "        \n",
    "fruits = [\"Apple\", \"Banana\", \"Cherry\", \"Date\", \"Elderberry\", \"Fig\", \"Grapes\", \"Elderberry\", \"Honeydew\", \"Kiwi\", \"Lemon\"]\n",
    "my_busket_function(fruits)"
   ],
   "outputs": [],
   "execution_count": null
  },
  {
   "metadata": {},
   "cell_type": "code",
   "source": [
    "# Default Parameter Value\n",
    "def my_country_function(country = \"Norway\"):\n",
    "    print(\"I am from \" + country)\n",
    "    \n",
    "my_country_function(\"Sweden\")\n",
    "my_country_function()"
   ],
   "outputs": [],
   "execution_count": null
  },
  {
   "metadata": {},
   "cell_type": "code",
   "source": [
    "# Recursion Function\n",
    "# Recursion is a common mathematical and programming concept. \n",
    "# It means that a function calls itself. This has the benefit of meaning that you can loop through data to reach a result.\n",
    "\n",
    "def my_factorial_function(n):\n",
    "    if n > 0:\n",
    "        return n * my_factorial_function(n - 1)\n",
    "    else:\n",
    "        return 1\n",
    "    \n",
    "print(my_factorial_function(5))"
   ],
   "outputs": [],
   "execution_count": null
  },
  {
   "metadata": {},
   "cell_type": "code",
   "source": [
    "# What if we call the function with a negative number?\n",
    "print(my_factorial_function(-1))"
   ],
   "outputs": [],
   "execution_count": null
  },
  {
   "metadata": {},
   "cell_type": "markdown",
   "source": "# Object Oriented Programming"
  },
  {
   "metadata": {},
   "cell_type": "code",
   "source": [
    "# Create a Class\n",
    "# Python is an object oriented programming language.\n",
    "# A Class is like a \"blueprint\" for creating objects.\n",
    "\n",
    "class MyClass:\n",
    "    # Class body\n",
    "    x = 5"
   ],
   "outputs": [],
   "execution_count": null
  },
  {
   "metadata": {},
   "cell_type": "code",
   "source": [
    "# Create an Object\n",
    "# Once we have a class, we can use it to create objects.\n",
    "# Object is an instance of a class.\n",
    "\n",
    "ob1 = MyClass()\n",
    "print(ob1.x)"
   ],
   "outputs": [],
   "execution_count": null
  },
  {
   "metadata": {
    "ExecuteTime": {
     "end_time": "2024-08-10T06:55:00.840469Z",
     "start_time": "2024-08-10T06:55:00.836468Z"
    }
   },
   "cell_type": "code",
   "source": [
    "# Create a class named Product, with properties name and price and 2 methods to get the total price and reduce the stock of the product.\n",
    "class Product:\n",
    "    def __init__(self, name, price, quantity):\n",
    "        self.name = name\n",
    "        self.price = price\n",
    "        self.quantity = quantity\n",
    "    \n",
    "    def get_total_price(self):\n",
    "        return self.price * self.quantity\n",
    "    \n",
    "    def reduce_stock(self, amount):\n",
    "        if amount <= self.quantity:\n",
    "            self.quantity -= amount\n",
    "        else:\n",
    "            print(f\"จำนวนสินค้าคงคลังไม่พอสำหรับ {self.name}.\")"
   ],
   "outputs": [],
   "execution_count": 80
  },
  {
   "metadata": {
    "ExecuteTime": {
     "end_time": "2024-08-10T06:54:54.084249Z",
     "start_time": "2024-08-10T06:54:54.066359Z"
    }
   },
   "cell_type": "code",
   "source": [
    "# Create a class named Store, with a property products and 2 methods to add a product and sell a product.\n",
    "class Store:\n",
    "    def __init__(self):\n",
    "        self.products = []\n",
    "        \n",
    "    def add_product(self, product):\n",
    "        self.products.append(product)\n",
    "        \n",
    "    def sell_product(self, product_name, quantity):\n",
    "        for product in self.products:\n",
    "            if product.name == product_name:\n",
    "                if product.quantity >= quantity:\n",
    "                    product.reduce_stock(quantity)\n",
    "                    total_price = product.price * quantity\n",
    "                    print(f\"ขายสินค้า {product.name} จำนวน {quantity} ชิ้น ราคา {total_price} บาท\")\n",
    "                else:\n",
    "                    print(f\"ไม่สามารถขายสินค้าได้ จำนวนสินค้าไม่พอ ({product.name})\")\n",
    "                return\n",
    "        print(f\"ไม่พบสินค้า {product_name} ในร้านค้า\")\n"
   ],
   "outputs": [],
   "execution_count": 77
  },
  {
   "metadata": {
    "ExecuteTime": {
     "end_time": "2024-08-10T06:54:55.546243Z",
     "start_time": "2024-08-10T06:54:55.539246Z"
    }
   },
   "cell_type": "code",
   "source": [
    "# Create an object of the Product class\n",
    "laptop = Product(\"Laptop\", 30000, 1)\n",
    "mouse = Product(\"Mouse\", 500, 20)"
   ],
   "outputs": [],
   "execution_count": 78
  },
  {
   "metadata": {
    "ExecuteTime": {
     "end_time": "2024-08-10T06:54:56.711799Z",
     "start_time": "2024-08-10T06:54:56.698800Z"
    }
   },
   "cell_type": "code",
   "source": [
    "# Create an object of the Store class\n",
    "store = Store()\n",
    "store.add_product(laptop)\n",
    "store.add_product(mouse)\n",
    "\n",
    "# Sell a product\n",
    "store.sell_product(\"Laptop\", 1)"
   ],
   "outputs": [
    {
     "name": "stdout",
     "output_type": "stream",
     "text": [
      "ขายสินค้า Laptop จำนวน 1 ชิ้น ราคา 30000 บาท\n"
     ]
    }
   ],
   "execution_count": 79
  },
  {
   "metadata": {},
   "cell_type": "markdown",
   "source": "# Python Packages Manager"
  },
  {
   "metadata": {},
   "cell_type": "code",
   "source": [
    "# pip is a package manager for Python packages, or modules if you like.\n",
    "# You can use pip to install packages from the Python Package Index and other indexes.\n",
    "\n",
    "# Install a package\n",
    "%pip install numpy"
   ],
   "outputs": [],
   "execution_count": null
  },
  {
   "metadata": {
    "ExecuteTime": {
     "end_time": "2024-08-10T06:49:38.723196Z",
     "start_time": "2024-08-10T06:49:38.290398Z"
    }
   },
   "cell_type": "code",
   "source": [
    "import numpy as np\n",
    "\n",
    "arr = np.array([1, 2, 3, 4, 5])\n",
    "print(arr)"
   ],
   "outputs": [
    {
     "name": "stdout",
     "output_type": "stream",
     "text": [
      "[1 2 3 4 5]\n"
     ]
    }
   ],
   "execution_count": 60
  },
  {
   "metadata": {
    "ExecuteTime": {
     "end_time": "2024-08-16T03:56:06.534806Z",
     "start_time": "2024-08-16T03:56:06.514809Z"
    }
   },
   "cell_type": "code",
   "source": [
    "class BankAccount:\n",
    "    def __init__(self, account_number, balance, date_of_opening, customer_name, account_name):\n",
    "        self.account_number = account_number\n",
    "        self.balance = balance\n",
    "        self.date_of_opening = date_of_opening\n",
    "        self.customer_name = customer_name\n",
    "        self.account_name = account_name\n",
    "    \n",
    "    def deposit(self, amount):\n",
    "        self.balance += amount\n",
    "        print(f\"Deposit {amount} to account {self.account_number}\")\n",
    "        \n",
    "    def withdraw(self, amount):\n",
    "        if amount <= self.balance:\n",
    "            self.balance -= amount\n",
    "            print(f\"Withdraw {amount} from account {self.account_number}\")\n",
    "        else:\n",
    "            print(f\"Cannot withdraw {amount} from account {self.account_number}. Not enough balance.\")\n",
    "            \n",
    "    def check_balance(self):\n",
    "        print(f\"Account {self.account_number} has balance {self.balance}\")\n",
    "        \n",
    "    def print_customer_details(self):\n",
    "        print(f\"Customer name: {self.customer_name}\")\n",
    "        print(f\"Account name: {self.account_name}\")\n",
    "        print(f\"Account number: {self.account_number}\")\n",
    "        print(f\"Date of opening: {self.date_of_opening}\")\n",
    "        print(f\"Balance: {self.balance}\")\n",
    "        \n",
    "    def transfer(self, amount, receiver):\n",
    "        if amount <= self.balance:\n",
    "            self.balance -= amount\n",
    "            receiver.balance += amount\n",
    "            print(f\"Transfer {amount} to account {receiver.account_number}\")\n",
    "        else:\n",
    "            print(f\"Cannot transfer {amount} to account {receiver.account_number}. Not enough balance.\")"
   ],
   "outputs": [],
   "execution_count": 21
  },
  {
   "metadata": {
    "ExecuteTime": {
     "end_time": "2024-08-16T04:02:19.879255Z",
     "start_time": "2024-08-16T04:02:19.864255Z"
    }
   },
   "cell_type": "code",
   "source": [
    "# Create an object of the BankAccount class\n",
    "account1 = BankAccount(\"1234567890\", 1000, \"2021-01-01\", \"John Doe\", \"Saving\")\n",
    "account2 = BankAccount(\"2345678901\", 2000, \"2021-01-01\", \"Jane Doe\", \"Saving\")"
   ],
   "outputs": [],
   "execution_count": 26
  },
  {
   "metadata": {
    "ExecuteTime": {
     "end_time": "2024-08-16T04:02:27.009884Z",
     "start_time": "2024-08-16T04:02:26.994885Z"
    }
   },
   "cell_type": "code",
   "source": [
    "# Deposit to account1\n",
    "account1.deposit(500)\n",
    "account1.check_balance()"
   ],
   "outputs": [
    {
     "name": "stdout",
     "output_type": "stream",
     "text": [
      "Deposit 500 to account 1234567890\n",
      "Account 1234567890 has balance 3000\n"
     ]
    }
   ],
   "execution_count": 30
  },
  {
   "metadata": {
    "ExecuteTime": {
     "end_time": "2024-08-16T04:02:39.311826Z",
     "start_time": "2024-08-16T04:02:39.296830Z"
    }
   },
   "cell_type": "code",
   "source": [
    "# Withdraw from account1\n",
    "account1.withdraw(200)\n",
    "account1.check_balance()"
   ],
   "outputs": [
    {
     "name": "stdout",
     "output_type": "stream",
     "text": [
      "Withdraw 200 from account 1234567890\n",
      "Account 1234567890 has balance 2800\n"
     ]
    }
   ],
   "execution_count": 31
  },
  {
   "metadata": {
    "ExecuteTime": {
     "end_time": "2024-08-16T04:03:03.139419Z",
     "start_time": "2024-08-16T04:03:03.131422Z"
    }
   },
   "cell_type": "code",
   "source": [
    "# Transfer from account1 to account2\n",
    "account1.transfer(300, account2)"
   ],
   "outputs": [
    {
     "name": "stdout",
     "output_type": "stream",
     "text": [
      "Transfer 300 to account 2345678901\n"
     ]
    }
   ],
   "execution_count": 36
  },
  {
   "metadata": {
    "ExecuteTime": {
     "end_time": "2024-08-16T11:29:10.109881Z",
     "start_time": "2024-08-16T11:29:09.686882Z"
    }
   },
   "cell_type": "code",
   "source": [
    "# Print customer details\n",
    "account1.print_customer_details()\n",
    "account2.print_customer_details()"
   ],
   "outputs": [
    {
     "ename": "NameError",
     "evalue": "name 'account1' is not defined",
     "output_type": "error",
     "traceback": [
      "\u001B[1;31m---------------------------------------------------------------------------\u001B[0m",
      "\u001B[1;31mNameError\u001B[0m                                 Traceback (most recent call last)",
      "Cell \u001B[1;32mIn[1], line 2\u001B[0m\n\u001B[0;32m      1\u001B[0m \u001B[38;5;66;03m# Print customer details\u001B[39;00m\n\u001B[1;32m----> 2\u001B[0m \u001B[43maccount1\u001B[49m\u001B[38;5;241m.\u001B[39mprint_customer_details()\n\u001B[0;32m      3\u001B[0m account2\u001B[38;5;241m.\u001B[39mprint_customer_details()\n",
      "\u001B[1;31mNameError\u001B[0m: name 'account1' is not defined"
     ]
    }
   ],
   "execution_count": 1
  }
 ],
 "metadata": {
  "kernelspec": {
   "display_name": "venv",
   "language": "python",
   "name": "python3"
  },
  "language_info": {
   "name": "python",
   "version": "3.9.10"
  }
 },
 "nbformat": 4,
 "nbformat_minor": 2
}
