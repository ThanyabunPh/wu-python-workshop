{
 "cells": [
  {
   "metadata": {},
   "cell_type": "markdown",
   "source": [
    "# python basic syntax\n",
    "print() for printing variable or string to screen"
   ]
  },
  {
   "cell_type": "code",
   "metadata": {
    "ExecuteTime": {
     "end_time": "2024-08-01T06:04:37.328088Z",
     "start_time": "2024-08-01T06:04:37.316512Z"
    }
   },
   "source": [
    "print('hello world')"
   ],
   "outputs": [
    {
     "name": "stdout",
     "output_type": "stream",
     "text": [
      "hello world\n"
     ]
    }
   ],
   "execution_count": 1
  },
  {
   "metadata": {},
   "cell_type": "markdown",
   "source": [
    "---\n",
    "## variables name\n",
    "Variables are containers for storing data values.\n",
    "\n"
   ]
  },
  {
   "metadata": {
    "ExecuteTime": {
     "end_time": "2024-08-01T06:04:37.343101Z",
     "start_time": "2024-08-01T06:04:37.329089Z"
    }
   },
   "cell_type": "code",
   "source": [
    "x = 5"
   ],
   "outputs": [],
   "execution_count": 2
  },
  {
   "metadata": {
    "ExecuteTime": {
     "end_time": "2024-08-01T06:04:37.358817Z",
     "start_time": "2024-08-01T06:04:37.344101Z"
    }
   },
   "cell_type": "code",
   "source": [
    "print(x)"
   ],
   "outputs": [
    {
     "name": "stdout",
     "output_type": "stream",
     "text": [
      "5\n"
     ]
    }
   ],
   "execution_count": 3
  },
  {
   "metadata": {
    "ExecuteTime": {
     "end_time": "2024-08-01T06:04:37.373817Z",
     "start_time": "2024-08-01T06:04:37.359819Z"
    }
   },
   "cell_type": "code",
   "source": [
    "name = 'Miquella'"
   ],
   "outputs": [],
   "execution_count": 4
  },
  {
   "metadata": {
    "ExecuteTime": {
     "end_time": "2024-08-01T06:04:37.389818Z",
     "start_time": "2024-08-01T06:04:37.374818Z"
    }
   },
   "cell_type": "code",
   "source": [
    "print(name)"
   ],
   "outputs": [
    {
     "name": "stdout",
     "output_type": "stream",
     "text": [
      "Miquella Miquella\n"
     ]
    }
   ],
   "execution_count": 5
  },
  {
   "metadata": {
    "ExecuteTime": {
     "end_time": "2024-08-01T06:04:37.405818Z",
     "start_time": "2024-08-01T06:04:37.391819Z"
    }
   },
   "cell_type": "code",
   "source": [
    "x = 6\n",
    "x = \"Maliketh\"\n",
    "print(x)"
   ],
   "outputs": [
    {
     "name": "stdout",
     "output_type": "stream",
     "text": [
      "Maliketh\n"
     ]
    }
   ],
   "execution_count": 6
  },
  {
   "metadata": {
    "ExecuteTime": {
     "end_time": "2024-08-01T06:04:37.421821Z",
     "start_time": "2024-08-01T06:04:37.414821Z"
    }
   },
   "cell_type": "code",
   "source": [
    "# Question\n",
    "name = 'First'\n",
    "Name = 'Second'\n",
    "NAME = 'Third'\n",
    "\n",
    "print(Name)"
   ],
   "outputs": [
    {
     "name": "stdout",
     "output_type": "stream",
     "text": [
      "Second\n"
     ]
    }
   ],
   "execution_count": 7
  },
  {
   "metadata": {
    "ExecuteTime": {
     "end_time": "2024-08-01T06:04:37.516174Z",
     "start_time": "2024-08-01T06:04:37.505746Z"
    }
   },
   "cell_type": "code",
   "source": [
    "# 2myname = \"John\" # A variable name cannot start with a numeral.\n",
    "# print(myname) # Correct version"
   ],
   "outputs": [],
   "execution_count": 8
  },
  {
   "metadata": {
    "ExecuteTime": {
     "end_time": "2024-08-01T06:04:37.608954Z",
     "start_time": "2024-08-01T06:04:37.605359Z"
    }
   },
   "cell_type": "code",
   "source": [
    "# my-name = \"John\"  # Invalid: hyphens are not allowed in variable names.\n",
    "# print(my_name) # Correct version"
   ],
   "outputs": [],
   "execution_count": 9
  },
  {
   "metadata": {
    "ExecuteTime": {
     "end_time": "2024-08-01T06:04:37.654894Z",
     "start_time": "2024-08-01T06:04:37.643896Z"
    }
   },
   "cell_type": "code",
   "source": [
    "# my name = \"John\"  # Invalid: variable names cannot have spaces\n",
    "# print(myName) # Correct version"
   ],
   "outputs": [],
   "execution_count": 10
  },
  {
   "metadata": {
    "ExecuteTime": {
     "end_time": "2024-08-01T06:04:37.701795Z",
     "start_time": "2024-08-01T06:04:37.686385Z"
    }
   },
   "cell_type": "code",
   "source": [
    "# and = \"john\"  # Invalid: variable names cannot be Python keywords"
   ],
   "outputs": [],
   "execution_count": 11
  },
  {
   "metadata": {},
   "cell_type": "markdown",
   "source": [
    "---\n",
    "# Data Types"
   ]
  },
  {
   "metadata": {
    "ExecuteTime": {
     "end_time": "2024-08-01T06:04:37.732430Z",
     "start_time": "2024-08-01T06:04:37.722001Z"
    }
   },
   "cell_type": "code",
   "source": [
    "# Text type\n",
    "x = \"Maliketh\"\n",
    "print(type(x))"
   ],
   "outputs": [
    {
     "name": "stdout",
     "output_type": "stream",
     "text": [
      "<class 'str'>\n"
     ]
    }
   ],
   "execution_count": 12
  },
  {
   "metadata": {
    "ExecuteTime": {
     "end_time": "2024-08-01T06:04:37.780424Z",
     "start_time": "2024-08-01T06:04:37.767460Z"
    }
   },
   "cell_type": "code",
   "source": [
    "# Numeric types\n",
    "x = 20 # int\n",
    "y = 20.25 # float\n",
    "z = 3j # complex\n",
    "\n",
    "print(type(x))\n",
    "print(type(y))\n",
    "print(type(z))"
   ],
   "outputs": [
    {
     "name": "stdout",
     "output_type": "stream",
     "text": [
      "<class 'int'>\n",
      "<class 'float'>\n",
      "<class 'complex'>\n"
     ]
    }
   ],
   "execution_count": 13
  },
  {
   "metadata": {
    "ExecuteTime": {
     "end_time": "2024-08-01T06:04:37.796427Z",
     "start_time": "2024-08-01T06:04:37.792426Z"
    }
   },
   "cell_type": "code",
   "source": [
    "# Boolean type\n",
    "x = True\n",
    "# y = False\n",
    "\n",
    "print(type(x))"
   ],
   "outputs": [
    {
     "name": "stdout",
     "output_type": "stream",
     "text": [
      "<class 'bool'>\n"
     ]
    }
   ],
   "execution_count": 14
  },
  {
   "metadata": {},
   "cell_type": "markdown",
   "source": [
    "## Casting Data type"
   ]
  },
  {
   "metadata": {
    "ExecuteTime": {
     "end_time": "2024-08-01T06:04:37.827414Z",
     "start_time": "2024-08-01T06:04:37.823411Z"
    }
   },
   "cell_type": "code",
   "source": [
    "# Casting int()\n",
    "print(int(1))\n",
    "print(int(2.9))\n",
    "print(int('3'))"
   ],
   "outputs": [
    {
     "name": "stdout",
     "output_type": "stream",
     "text": [
      "1\n",
      "2\n",
      "3\n"
     ]
    }
   ],
   "execution_count": 15
  },
  {
   "metadata": {
    "ExecuteTime": {
     "end_time": "2024-08-01T06:04:37.889809Z",
     "start_time": "2024-08-01T06:04:37.876363Z"
    }
   },
   "cell_type": "code",
   "source": [
    "# Casting Float()\n",
    "print(float(1))\n",
    "print(float(2.8))\n",
    "print(float(\"3\"))\n",
    "print(float(\"4.2\"))"
   ],
   "outputs": [
    {
     "name": "stdout",
     "output_type": "stream",
     "text": [
      "1.0\n",
      "2.8\n",
      "3.0\n",
      "4.2\n"
     ]
    }
   ],
   "execution_count": 16
  },
  {
   "metadata": {
    "ExecuteTime": {
     "end_time": "2024-08-01T06:04:37.920560Z",
     "start_time": "2024-08-01T06:04:37.916557Z"
    }
   },
   "cell_type": "code",
   "source": [
    "# Casting String()\n",
    "print(str(\"s1\"))\n",
    "print(str(2))\n",
    "print(str(3.0))"
   ],
   "outputs": [
    {
     "name": "stdout",
     "output_type": "stream",
     "text": [
      "s1\n",
      "2\n",
      "3.0\n"
     ]
    }
   ],
   "execution_count": 17
  },
  {
   "metadata": {},
   "cell_type": "markdown",
   "source": [
    "# Python Operators\n"
   ]
  },
  {
   "metadata": {
    "ExecuteTime": {
     "end_time": "2024-08-01T06:04:37.967717Z",
     "start_time": "2024-08-01T06:04:37.955592Z"
    }
   },
   "cell_type": "code",
   "source": [
    "# Arithmetic Operators\n",
    "print('Addition, ', 2 + 3)\n",
    "print('Subtraction, ', 9 - 5)\n",
    "print('Multiplication, ', 5 * 4)\n",
    "print('Modulus, ', 30 % 7)\n",
    "print('Exponentiation, ', 2 ** 6)\n",
    "print('Division, ', 10 / 4)\n",
    "print('Floor division, ', 10 // 4)"
   ],
   "outputs": [
    {
     "name": "stdout",
     "output_type": "stream",
     "text": [
      "Addition,  5\n",
      "Subtraction,  4\n",
      "Multiplication,  20\n",
      "Modulus,  2\n",
      "Exponentiation,  64\n",
      "Division,  2.5\n",
      "Floor division,  2\n"
     ]
    }
   ],
   "execution_count": 18
  },
  {
   "metadata": {
    "ExecuteTime": {
     "end_time": "2024-08-01T06:04:38.030249Z",
     "start_time": "2024-08-01T06:04:38.019740Z"
    }
   },
   "cell_type": "code",
   "source": [
    "# Python Comparison Operators\n",
    "x1 = 10\n",
    "y1 = 20\n",
    "print('Equal Operators, ', x1 == y1)\n",
    "print('Not equal, ', x1 != y1)\n",
    "print('Greater than\t, ', x1 > y1)\n",
    "print('Less than, ', x1 < y1)\n",
    "print('Greater than or equal to\t, ', x1 >= y1)\n",
    "print('Less than or equal to\t, ', x1 <= y1)"
   ],
   "outputs": [
    {
     "name": "stdout",
     "output_type": "stream",
     "text": [
      "Equal Operators,  False\n",
      "Not equal,  True\n",
      "Greater than\t,  False\n",
      "Less than,  True\n",
      "Greater than or equal to\t,  False\n",
      "Less than or equal to\t,  True\n"
     ]
    }
   ],
   "execution_count": 19
  },
  {
   "metadata": {
    "ExecuteTime": {
     "end_time": "2024-08-01T06:04:38.061679Z",
     "start_time": "2024-08-01T06:04:38.055427Z"
    }
   },
   "cell_type": "code",
   "source": [
    "# Python Logical Operators\n",
    "print('and => ', (5 > 6) and (6 < 5))\n",
    "print('or => ', (10 == 10) or (10 > 20))\n",
    "print('not => ', not(10 < 20) and (20 > 10))"
   ],
   "outputs": [
    {
     "name": "stdout",
     "output_type": "stream",
     "text": [
      "and =>  False\n",
      "or =>  True\n",
      "not =>  False\n"
     ]
    }
   ],
   "execution_count": 20
  },
  {
   "metadata": {},
   "cell_type": "markdown",
   "source": [
    "# if...Else Conditions"
   ]
  },
  {
   "metadata": {
    "ExecuteTime": {
     "end_time": "2024-08-01T06:04:38.124506Z",
     "start_time": "2024-08-01T06:04:38.105168Z"
    }
   },
   "cell_type": "code",
   "source": [
    "# Python supports the usual logical conditions from mathematics:\n",
    "a = 100  # assigning value 100 to variable a\n",
    "b = 200  # assigning value 200 to variable b\n",
    "\n",
    "if a == b:  # checking if a is equal to b\n",
    "    print('a and b are equal')  # this line will execute if the condition is true\n",
    "else:\n",
    "    print(\"a and b are not equal\")  # this line will execute if the condition is false\n"
   ],
   "outputs": [
    {
     "name": "stdout",
     "output_type": "stream",
     "text": [
      "a and b are not equal\n"
     ]
    }
   ],
   "execution_count": 21
  },
  {
   "metadata": {
    "ExecuteTime": {
     "end_time": "2024-08-01T06:04:38.140004Z",
     "start_time": "2024-08-01T06:04:38.125504Z"
    }
   },
   "cell_type": "code",
   "source": [
    "# why this sector is error\n",
    "a = 50\n",
    "b = 100\n",
    "if a > b:\n",
    "print('a is greater than b')"
   ],
   "outputs": [
    {
     "ename": "IndentationError",
     "evalue": "expected an indented block (4261428962.py, line 5)",
     "output_type": "error",
     "traceback": [
      "\u001B[1;36m  Cell \u001B[1;32mIn[22], line 5\u001B[1;36m\u001B[0m\n\u001B[1;33m    print('a is greater than b')\u001B[0m\n\u001B[1;37m    ^\u001B[0m\n\u001B[1;31mIndentationError\u001B[0m\u001B[1;31m:\u001B[0m expected an indented block\n"
     ]
    }
   ],
   "execution_count": 22
  },
  {
   "metadata": {
    "ExecuteTime": {
     "end_time": "2024-08-01T06:04:38.171487Z",
     "start_time": "2024-08-01T06:04:38.162468Z"
    }
   },
   "cell_type": "code",
   "source": [
    "# elif \n",
    "a = 33\n",
    "b = 31\n",
    "\n",
    "if a > b:\n",
    "    print('a is greater than b')\n",
    "elif a < b:\n",
    "    print('a is less than b')\n",
    "else:\n",
    "    print('a and b are equal')\n"
   ],
   "outputs": [
    {
     "name": "stdout",
     "output_type": "stream",
     "text": [
      "a is greater than b\n"
     ]
    }
   ],
   "execution_count": 23
  },
  {
   "metadata": {
    "ExecuteTime": {
     "end_time": "2024-08-01T06:04:38.233295Z",
     "start_time": "2024-08-01T06:04:38.223182Z"
    }
   },
   "cell_type": "code",
   "source": [
    "# and condition\n",
    "a = 100\n",
    "b = 200\n",
    "c = 300\n",
    "\n",
    "if a < b and a < c:\n",
    "    print('a is the least')\n",
    "else:\n",
    "    print('a is not the least')"
   ],
   "outputs": [
    {
     "name": "stdout",
     "output_type": "stream",
     "text": [
      "a is the least\n"
     ]
    }
   ],
   "execution_count": 24
  },
  {
   "metadata": {
    "ExecuteTime": {
     "end_time": "2024-08-01T06:04:38.562147Z",
     "start_time": "2024-08-01T06:04:38.550140Z"
    }
   },
   "cell_type": "code",
   "source": [
    "# or condition\n",
    "a = 40\n",
    "b = 50\n",
    "c = 30\n",
    "\n",
    "if a > b or a > c:\n",
    "    print('a is greater than either b or c or both')\n",
    "else:\n",
    "    print('a is not greater than either b or c')\n"
   ],
   "outputs": [
    {
     "name": "stdout",
     "output_type": "stream",
     "text": [
      "a is greater than either b or c or both\n"
     ]
    }
   ],
   "execution_count": 25
  },
  {
   "metadata": {
    "ExecuteTime": {
     "end_time": "2024-08-01T06:04:38.594049Z",
     "start_time": "2024-08-01T06:04:38.575184Z"
    }
   },
   "cell_type": "code",
   "source": [
    "a = 33\n",
    "b = 200\n",
    "if not a > b:\n",
    "    print(\"a is NOT greater than b\")"
   ],
   "outputs": [
    {
     "name": "stdout",
     "output_type": "stream",
     "text": [
      "a is NOT greater than b\n"
     ]
    }
   ],
   "execution_count": 26
  },
  {
   "metadata": {},
   "cell_type": "markdown",
   "source": [
    "# Python List and Array"
   ]
  },
  {
   "metadata": {
    "ExecuteTime": {
     "end_time": "2024-08-01T06:04:38.640923Z",
     "start_time": "2024-08-01T06:04:38.623433Z"
    }
   },
   "cell_type": "code",
   "source": [
    "wordlist = ['never', 'gonna', 'give', 'you', 'up']\n",
    "print(wordlist)"
   ],
   "outputs": [
    {
     "name": "stdout",
     "output_type": "stream",
     "text": [
      "['never', 'gonna', 'give', 'you', 'up']\n"
     ]
    }
   ],
   "execution_count": 27
  },
  {
   "metadata": {
    "ExecuteTime": {
     "end_time": "2024-08-01T06:04:38.656080Z",
     "start_time": "2024-08-01T06:04:38.643924Z"
    }
   },
   "cell_type": "code",
   "source": [
    "# length of the list\n",
    "print(len(wordlist))"
   ],
   "outputs": [
    {
     "name": "stdout",
     "output_type": "stream",
     "text": [
      "5\n"
     ]
    }
   ],
   "execution_count": 28
  },
  {
   "metadata": {
    "ExecuteTime": {
     "end_time": "2024-08-01T06:04:38.686516Z",
     "start_time": "2024-08-01T06:04:38.675292Z"
    }
   },
   "cell_type": "code",
   "source": [
    "# Print the third item of the list \n",
    "print(wordlist[2]) # Note: The first item has index 0."
   ],
   "outputs": [
    {
     "name": "stdout",
     "output_type": "stream",
     "text": [
      "give\n"
     ]
    }
   ],
   "execution_count": 29
  },
  {
   "metadata": {
    "ExecuteTime": {
     "end_time": "2024-08-01T06:04:38.763875Z",
     "start_time": "2024-08-01T06:04:38.747445Z"
    }
   },
   "cell_type": "code",
   "source": [
    "# Print last item of the list\n",
    "print(wordlist[-1])"
   ],
   "outputs": [
    {
     "name": "stdout",
     "output_type": "stream",
     "text": [
      "up\n"
     ]
    }
   ],
   "execution_count": 30
  },
  {
   "metadata": {
    "ExecuteTime": {
     "end_time": "2024-08-01T06:04:38.811488Z",
     "start_time": "2024-08-01T06:04:38.803240Z"
    }
   },
   "cell_type": "code",
   "source": [
    "# Range of Indexes \n",
    "# specify a range of indexes by specifying where to start and where to end the range\n",
    "fruits = [\"Apple\", \"Banana\", \"Cherry\", \"Date\", \"Elderberry\", \"Fig\", \"Grapes\", \"Elderberry\", \"Honeydew\", \"Kiwi\", \"Lemon\"]\n",
    "print(fruits)\n",
    "print(fruits[5:8])"
   ],
   "outputs": [
    {
     "name": "stdout",
     "output_type": "stream",
     "text": [
      "['Apple', 'Banana', 'Cherry', 'Date', 'Elderberry', 'Fig', 'Grapes', 'Elderberry', 'Honeydew', 'Kiwi', 'Lemon']\n",
      "['Fig', 'Grapes', 'Elderberry']\n"
     ]
    }
   ],
   "execution_count": 31
  },
  {
   "metadata": {
    "ExecuteTime": {
     "end_time": "2024-08-01T06:04:38.827491Z",
     "start_time": "2024-08-01T06:04:38.823491Z"
    }
   },
   "cell_type": "code",
   "source": [
    "# Adding item to the end of the list\n",
    "fruits.append('Blueberry')\n",
    "print('append => ', fruits)"
   ],
   "outputs": [
    {
     "name": "stdout",
     "output_type": "stream",
     "text": [
      "append =>  ['Apple', 'Banana', 'Cherry', 'Date', 'Elderberry', 'Fig', 'Grapes', 'Elderberry', 'Honeydew', 'Kiwi', 'Lemon', 'Blueberry']\n"
     ]
    }
   ],
   "execution_count": 32
  },
  {
   "metadata": {
    "ExecuteTime": {
     "end_time": "2024-08-01T06:04:38.858966Z",
     "start_time": "2024-08-01T06:04:38.855503Z"
    }
   },
   "cell_type": "code",
   "source": [
    "# Insert a list item at a specified index\n",
    "fruits.insert(0, 'Grape')\n",
    "print('insert => ', fruits)"
   ],
   "outputs": [
    {
     "name": "stdout",
     "output_type": "stream",
     "text": [
      "insert =>  ['Grape', 'Apple', 'Banana', 'Cherry', 'Date', 'Elderberry', 'Fig', 'Grapes', 'Elderberry', 'Honeydew', 'Kiwi', 'Lemon', 'Blueberry']\n"
     ]
    }
   ],
   "execution_count": 33
  },
  {
   "metadata": {
    "ExecuteTime": {
     "end_time": "2024-08-01T06:04:38.904924Z",
     "start_time": "2024-08-01T06:04:38.895925Z"
    }
   },
   "cell_type": "code",
   "source": [
    "# Remove List Items\n",
    "# Tips: If there are more than one item with the specified value, the remove() method removes the first occurrence:\n",
    "fruits.remove('Elderberry')\n",
    "print('remove => ', fruits)"
   ],
   "outputs": [
    {
     "name": "stdout",
     "output_type": "stream",
     "text": [
      "remove =>  ['Grape', 'Apple', 'Banana', 'Cherry', 'Date', 'Fig', 'Grapes', 'Elderberry', 'Honeydew', 'Kiwi', 'Lemon', 'Blueberry']\n"
     ]
    }
   ],
   "execution_count": 34
  },
  {
   "metadata": {
    "ExecuteTime": {
     "end_time": "2024-08-01T06:04:38.935433Z",
     "start_time": "2024-08-01T06:04:38.931434Z"
    }
   },
   "cell_type": "code",
   "source": [
    "fruits.pop(1)\n",
    "print('pop => ', fruits)"
   ],
   "outputs": [
    {
     "name": "stdout",
     "output_type": "stream",
     "text": [
      "pop =>  ['Grape', 'Banana', 'Cherry', 'Date', 'Fig', 'Grapes', 'Elderberry', 'Honeydew', 'Kiwi', 'Lemon', 'Blueberry']\n"
     ]
    }
   ],
   "execution_count": 35
  },
  {
   "metadata": {
    "ExecuteTime": {
     "end_time": "2024-08-01T06:04:38.996572Z",
     "start_time": "2024-08-01T06:04:38.983139Z"
    }
   },
   "cell_type": "code",
   "source": [
    "# Clear all the items in the list\n",
    "fruits.clear()\n",
    "print(fruits)"
   ],
   "outputs": [
    {
     "name": "stdout",
     "output_type": "stream",
     "text": [
      "[]\n"
     ]
    }
   ],
   "execution_count": 36
  },
  {
   "metadata": {
    "ExecuteTime": {
     "end_time": "2024-08-01T06:04:39.028127Z",
     "start_time": "2024-08-01T06:04:39.014130Z"
    }
   },
   "cell_type": "code",
   "source": [
    "# Sorts the elements of a list. \n",
    "# It sorts in ascending order by default but can also sort values in descending order or in a custom manner using its parameters.\n",
    "\n",
    "numerical = [42, -7, 13.5, -29.2, 5, -88.1, 63.3, -21, 34, -55.5]\n",
    "print('before sort => ', numerical)"
   ],
   "outputs": [
    {
     "name": "stdout",
     "output_type": "stream",
     "text": [
      "before sort =>  [42, -7, 13.5, -29.2, 5, -88.1, 63.3, -21, 34, -55.5]\n"
     ]
    }
   ],
   "execution_count": 37
  },
  {
   "metadata": {
    "ExecuteTime": {
     "end_time": "2024-08-01T06:04:39.090283Z",
     "start_time": "2024-08-01T06:04:39.072116Z"
    }
   },
   "cell_type": "code",
   "source": [
    "numerical.sort()\n",
    "print('after sort => ', numerical)"
   ],
   "outputs": [
    {
     "name": "stdout",
     "output_type": "stream",
     "text": [
      "after sort =>  [-88.1, -55.5, -29.2, -21, -7, 5, 13.5, 34, 42, 63.3]\n"
     ]
    }
   ],
   "execution_count": 38
  },
  {
   "metadata": {},
   "cell_type": "markdown",
   "source": [
    "# LOOPS "
   ]
  },
  {
   "metadata": {},
   "cell_type": "markdown",
   "source": [
    "## while loop"
   ]
  },
  {
   "metadata": {
    "ExecuteTime": {
     "end_time": "2024-08-01T06:04:39.121181Z",
     "start_time": "2024-08-01T06:04:39.108756Z"
    }
   },
   "cell_type": "code",
   "source": [
    "i = 1\n",
    "while i < 6:\n",
    "    print(i)\n",
    "    i += 1"
   ],
   "outputs": [
    {
     "name": "stdout",
     "output_type": "stream",
     "text": [
      "1\n",
      "2\n",
      "3\n",
      "4\n",
      "5\n"
     ]
    }
   ],
   "execution_count": 39
  },
  {
   "metadata": {
    "ExecuteTime": {
     "end_time": "2024-08-01T06:04:39.168251Z",
     "start_time": "2024-08-01T06:04:39.155906Z"
    }
   },
   "cell_type": "code",
   "source": [
    "# break statement \n",
    "i = 1\n",
    "while i < 6:\n",
    "    print(i)\n",
    "    if i == 4:\n",
    "        break\n",
    "    i += 1"
   ],
   "outputs": [
    {
     "name": "stdout",
     "output_type": "stream",
     "text": [
      "1\n",
      "2\n",
      "3\n",
      "4\n"
     ]
    }
   ],
   "execution_count": 40
  },
  {
   "metadata": {
    "ExecuteTime": {
     "end_time": "2024-08-01T06:04:39.215134Z",
     "start_time": "2024-08-01T06:04:39.205695Z"
    }
   },
   "cell_type": "code",
   "source": [
    "# continue statement\n",
    "i = 0\n",
    "while i < 6:\n",
    "    i += 1\n",
    "    if i == 3:\n",
    "        continue\n",
    "    print(i)"
   ],
   "outputs": [
    {
     "name": "stdout",
     "output_type": "stream",
     "text": [
      "1\n",
      "2\n",
      "4\n",
      "5\n",
      "6\n"
     ]
    }
   ],
   "execution_count": 41
  },
  {
   "metadata": {
    "ExecuteTime": {
     "end_time": "2024-08-01T06:04:39.278325Z",
     "start_time": "2024-08-01T06:04:39.264231Z"
    }
   },
   "cell_type": "code",
   "source": [
    "i = 1\n",
    "while i < 6:\n",
    "    print(f'i = {i}')\n",
    "    i += 1\n",
    "else:\n",
    "    print('-'*50)\n",
    "    print(f'i = {i}')\n",
    "    print('i is no longer less than 6')"
   ],
   "outputs": [
    {
     "name": "stdout",
     "output_type": "stream",
     "text": [
      "i = 1\n",
      "i = 2\n",
      "i = 3\n",
      "i = 4\n",
      "i = 5\n",
      "--------------------------------------------------\n",
      "i = 6\n",
      "i is no longer less than 6\n"
     ]
    }
   ],
   "execution_count": 42
  },
  {
   "metadata": {},
   "cell_type": "markdown",
   "source": [
    "## FOR LOOP"
   ]
  },
  {
   "metadata": {
    "ExecuteTime": {
     "end_time": "2024-08-01T06:04:39.308980Z",
     "start_time": "2024-08-01T06:04:39.291749Z"
    }
   },
   "cell_type": "code",
   "source": [
    "fruits = [\"Apple\", \"Banana\", \"Cherry\", \"Date\", \"Elderberry\", \"Fig\", \"Grapes\", \"Elderberry\", \"Honeydew\", \"Kiwi\", \"Lemon\"]"
   ],
   "outputs": [],
   "execution_count": 43
  },
  {
   "metadata": {
    "ExecuteTime": {
     "end_time": "2024-08-01T06:04:39.355126Z",
     "start_time": "2024-08-01T06:04:39.337372Z"
    }
   },
   "cell_type": "code",
   "source": [
    "# looping through the list\n",
    "for x in fruits:\n",
    "    print(x)"
   ],
   "outputs": [
    {
     "name": "stdout",
     "output_type": "stream",
     "text": [
      "Apple\n",
      "Banana\n",
      "Cherry\n",
      "Date\n",
      "Elderberry\n",
      "Fig\n",
      "Grapes\n",
      "Elderberry\n",
      "Honeydew\n",
      "Kiwi\n",
      "Lemon\n"
     ]
    }
   ],
   "execution_count": 44
  },
  {
   "metadata": {
    "ExecuteTime": {
     "end_time": "2024-08-01T06:04:39.386234Z",
     "start_time": "2024-08-01T06:04:39.372749Z"
    }
   },
   "cell_type": "code",
   "source": [
    "# looping through a String\n",
    "for x in \"Elderberry\":\n",
    "    print(x)"
   ],
   "outputs": [
    {
     "name": "stdout",
     "output_type": "stream",
     "text": [
      "E\n",
      "l\n",
      "d\n",
      "e\n",
      "r\n",
      "b\n",
      "e\n",
      "r\n",
      "r\n",
      "y\n"
     ]
    }
   ],
   "execution_count": 45
  },
  {
   "metadata": {
    "ExecuteTime": {
     "end_time": "2024-08-01T06:04:39.432518Z",
     "start_time": "2024-08-01T06:04:39.422068Z"
    }
   },
   "cell_type": "code",
   "source": [
    "# break statement\n",
    "for x in fruits:\n",
    "    print(x)\n",
    "    if x == \"Honeydew\":\n",
    "        break"
   ],
   "outputs": [
    {
     "name": "stdout",
     "output_type": "stream",
     "text": [
      "Apple\n",
      "Banana\n",
      "Cherry\n",
      "Date\n",
      "Elderberry\n",
      "Fig\n",
      "Grapes\n",
      "Elderberry\n",
      "Honeydew\n"
     ]
    }
   ],
   "execution_count": 46
  },
  {
   "metadata": {
    "ExecuteTime": {
     "end_time": "2024-08-01T06:04:39.494214Z",
     "start_time": "2024-08-01T06:04:39.484095Z"
    }
   },
   "cell_type": "code",
   "source": [
    "# continue\n",
    "for x in fruits:\n",
    "    if x == \"Elderberry\":\n",
    "        continue\n",
    "    print(x)"
   ],
   "outputs": [
    {
     "name": "stdout",
     "output_type": "stream",
     "text": [
      "Apple\n",
      "Banana\n",
      "Cherry\n",
      "Date\n",
      "Fig\n",
      "Grapes\n",
      "Honeydew\n",
      "Kiwi\n",
      "Lemon\n"
     ]
    }
   ],
   "execution_count": 47
  },
  {
   "metadata": {
    "ExecuteTime": {
     "end_time": "2024-08-01T06:04:39.525114Z",
     "start_time": "2024-08-01T06:04:39.511609Z"
    }
   },
   "cell_type": "code",
   "source": [
    "# Range\n",
    "# To loop through a set of code a specified number of times, we can use the range() function,\n",
    "\n",
    "for x in range(10):\n",
    "    print(x)"
   ],
   "outputs": [
    {
     "name": "stdout",
     "output_type": "stream",
     "text": [
      "0\n",
      "1\n",
      "2\n",
      "3\n",
      "4\n",
      "5\n",
      "6\n",
      "7\n",
      "8\n",
      "9\n"
     ]
    }
   ],
   "execution_count": 48
  },
  {
   "metadata": {
    "ExecuteTime": {
     "end_time": "2024-08-01T06:04:39.587272Z",
     "start_time": "2024-08-01T06:04:39.581275Z"
    }
   },
   "cell_type": "code",
   "source": [
    "for x in range(3, 10):\n",
    "    print(x)"
   ],
   "outputs": [
    {
     "name": "stdout",
     "output_type": "stream",
     "text": [
      "3\n",
      "4\n",
      "5\n",
      "6\n",
      "7\n",
      "8\n",
      "9\n"
     ]
    }
   ],
   "execution_count": 49
  },
  {
   "metadata": {
    "ExecuteTime": {
     "end_time": "2024-08-01T06:04:39.602403Z",
     "start_time": "2024-08-01T06:04:39.596902Z"
    }
   },
   "cell_type": "code",
   "source": [
    "for x in range(0, 30, 3):\n",
    "    print(x)\n",
    "else:\n",
    "    print(\"Finally finished!\")"
   ],
   "outputs": [
    {
     "name": "stdout",
     "output_type": "stream",
     "text": [
      "0\n",
      "3\n",
      "6\n",
      "9\n",
      "12\n",
      "15\n",
      "18\n",
      "21\n",
      "24\n",
      "27\n",
      "Finally finished!\n"
     ]
    }
   ],
   "execution_count": 50
  },
  {
   "metadata": {},
   "cell_type": "markdown",
   "source": [
    "# Function  "
   ]
  },
  {
   "metadata": {
    "ExecuteTime": {
     "end_time": "2024-08-01T06:04:39.633836Z",
     "start_time": "2024-08-01T06:04:39.620421Z"
    }
   },
   "cell_type": "code",
   "source": [
    "# A function is a block of code which only runs when it is called.\n",
    "def HelloFunction():\n",
    "    print('Hello from function :)')"
   ],
   "outputs": [],
   "execution_count": 51
  },
  {
   "metadata": {
    "ExecuteTime": {
     "end_time": "2024-08-01T06:04:39.679958Z",
     "start_time": "2024-08-01T06:04:39.675455Z"
    }
   },
   "cell_type": "code",
   "source": [
    "# Calling a function\n",
    "HelloFunction()"
   ],
   "outputs": [
    {
     "name": "stdout",
     "output_type": "stream",
     "text": [
      "Hello from function :)\n"
     ]
    }
   ],
   "execution_count": 52
  },
  {
   "metadata": {
    "ExecuteTime": {
     "end_time": "2024-08-01T06:04:39.742444Z",
     "start_time": "2024-08-01T06:04:39.732980Z"
    }
   },
   "cell_type": "code",
   "source": [
    "# Arguments \n",
    "# Information can be passed into functions as arguments.  \n",
    "# You can add as many arguments as you want, just separate them with a comma.\n",
    "def FirstFunction(first_name):\n",
    "    print(f'Hello {first_name} from the function :)')"
   ],
   "outputs": [],
   "execution_count": 53
  },
  {
   "metadata": {
    "ExecuteTime": {
     "end_time": "2024-08-01T06:04:39.772603Z",
     "start_time": "2024-08-01T06:04:39.761586Z"
    }
   },
   "cell_type": "code",
   "source": [
    "# Calling a function with arguments\n",
    "FirstFunction('Miquella')"
   ],
   "outputs": [
    {
     "name": "stdout",
     "output_type": "stream",
     "text": [
      "Hello Miquella from the function :)\n"
     ]
    }
   ],
   "execution_count": 54
  },
  {
   "metadata": {
    "ExecuteTime": {
     "end_time": "2024-08-01T06:04:39.819147Z",
     "start_time": "2024-08-01T06:04:39.800623Z"
    }
   },
   "cell_type": "code",
   "source": [
    "# Number of Arguments\n",
    "def FullNameFunction(first_name, last_name):\n",
    "    print(f'Hello {first_name} {last_name} from the function :)')\n",
    "    "
   ],
   "outputs": [],
   "execution_count": 55
  },
  {
   "metadata": {
    "ExecuteTime": {
     "end_time": "2024-08-01T06:04:39.849508Z",
     "start_time": "2024-08-01T06:04:39.835376Z"
    }
   },
   "cell_type": "code",
   "source": [
    "FullNameFunction('Miquella', 'Maliketh')"
   ],
   "outputs": [
    {
     "name": "stdout",
     "output_type": "stream",
     "text": [
      "Hello Miquella Maliketh from the function :)\n"
     ]
    }
   ],
   "execution_count": 56
  },
  {
   "metadata": {
    "ExecuteTime": {
     "end_time": "2024-08-01T06:04:40.250512Z",
     "start_time": "2024-08-01T06:04:39.881401Z"
    }
   },
   "cell_type": "code",
   "source": [
    "# Why this sector is error ?\n",
    "FullNameFunction('Miquella')"
   ],
   "outputs": [
    {
     "ename": "TypeError",
     "evalue": "FullNameFunction() missing 1 required positional argument: 'last_name'",
     "output_type": "error",
     "traceback": [
      "\u001B[1;31m---------------------------------------------------------------------------\u001B[0m",
      "\u001B[1;31mTypeError\u001B[0m                                 Traceback (most recent call last)",
      "Cell \u001B[1;32mIn[57], line 2\u001B[0m\n\u001B[0;32m      1\u001B[0m \u001B[38;5;66;03m# Why this sector is error ?\u001B[39;00m\n\u001B[1;32m----> 2\u001B[0m \u001B[43mFullNameFunction\u001B[49m\u001B[43m(\u001B[49m\u001B[38;5;124;43m'\u001B[39;49m\u001B[38;5;124;43mMiquella\u001B[39;49m\u001B[38;5;124;43m'\u001B[39;49m\u001B[43m)\u001B[49m\n",
      "\u001B[1;31mTypeError\u001B[0m: FullNameFunction() missing 1 required positional argument: 'last_name'"
     ]
    }
   ],
   "execution_count": 57
  },
  {
   "metadata": {},
   "cell_type": "code",
   "source": [
    "# Return Values Function\n",
    "def ExampleSumFunction(x, y):\n",
    "    return x + y\n",
    "\n",
    "\n",
    "print(ExampleSumFunction(10, 20))\n",
    "\n",
    "sum_result = ExampleSumFunction(10, 20)\n",
    "print(sum_result)"
   ],
   "outputs": [],
   "execution_count": null
  },
  {
   "metadata": {},
   "cell_type": "code",
   "source": [
    "# Why print('Hello') is not executed ?\n",
    "def MinusFunction(x, y):\n",
    "    return x - y\n",
    "    print('Hello')\n",
    "    \n",
    "MinusFunction(5, 4)"
   ],
   "outputs": [],
   "execution_count": null
  },
  {
   "metadata": {},
   "cell_type": "code",
   "source": [
    "# Arbitrary Arguments, *args\n",
    "def AverageFunction(*x):\n",
    "    if not x:\n",
    "        return \"No numbers provided\"\n",
    "    else:\n",
    "        return sum(x) / len(x)\n",
    "    \n",
    "\n",
    "print(AverageFunction(1, 2, 3, 4, 5, 6, 7, 8, 9, 10))\n",
    "print(AverageFunction())"
   ],
   "outputs": [],
   "execution_count": null
  },
  {
   "metadata": {},
   "cell_type": "code",
   "source": [
    "# Arbitrary Keyword Arguments, **kwargs \n",
    "# If you do not know how many keyword arguments that will be passed into your function, add two asterisk: ** before the parameter name in the function definition.\n",
    "\n",
    "def my_book_function(**book):\n",
    "    print('The book title is ' + book['title'])\n",
    "    print('The book author is ' + book['author'])\n",
    "    print(f'The book year is {book[\"year\"]}')\n",
    "\n",
    "my_book_function(title='Python Programming', author='John Doe', year=2021)"
   ],
   "outputs": [],
   "execution_count": null
  },
  {
   "metadata": {},
   "cell_type": "code",
   "source": [
    "# Passing a List as an Argument\n",
    "def my_busket_function(busket):\n",
    "    for fruit in busket:\n",
    "        print(fruit)\n",
    "        \n",
    "fruits = [\"Apple\", \"Banana\", \"Cherry\", \"Date\", \"Elderberry\", \"Fig\", \"Grapes\", \"Elderberry\", \"Honeydew\", \"Kiwi\", \"Lemon\"]\n",
    "my_busket_function(fruits)"
   ],
   "outputs": [],
   "execution_count": null
  },
  {
   "metadata": {},
   "cell_type": "code",
   "source": [
    "# Default Parameter Value\n",
    "def my_country_function(country = \"Norway\"):\n",
    "    print(\"I am from \" + country)\n",
    "    \n",
    "my_country_function(\"Sweden\")\n",
    "my_country_function()"
   ],
   "outputs": [],
   "execution_count": null
  },
  {
   "metadata": {
    "ExecuteTime": {
     "end_time": "2024-08-01T06:12:02.789102Z",
     "start_time": "2024-08-01T06:12:02.784434Z"
    }
   },
   "cell_type": "code",
   "source": [
    "# Recursion Function\n",
    "# Recursion is a common mathematical and programming concept. \n",
    "# It means that a function calls itself. This has the benefit of meaning that you can loop through data to reach a result.\n",
    "\n",
    "def my_factorial_function(n):\n",
    "    if n > 0:\n",
    "        return n * my_factorial_function(n - 1)\n",
    "    else:\n",
    "        return 1\n",
    "    \n",
    "print(my_factorial_function(5))"
   ],
   "outputs": [
    {
     "name": "stdout",
     "output_type": "stream",
     "text": [
      "120\n"
     ]
    }
   ],
   "execution_count": 6
  },
  {
   "metadata": {
    "ExecuteTime": {
     "end_time": "2024-08-01T06:12:10.277303Z",
     "start_time": "2024-08-01T06:12:10.262817Z"
    }
   },
   "cell_type": "code",
   "source": [
    "# What if we call the function with a negative number?\n",
    "print(my_factorial_function(-1))"
   ],
   "outputs": [
    {
     "name": "stdout",
     "output_type": "stream",
     "text": [
      "1\n"
     ]
    }
   ],
   "execution_count": 7
  },
  {
   "metadata": {},
   "cell_type": "markdown",
   "source": [
    "# Object Oriented Programming"
   ]
  },
  {
   "metadata": {
    "ExecuteTime": {
     "end_time": "2024-08-01T07:47:28.320268Z",
     "start_time": "2024-08-01T07:47:28.316078Z"
    }
   },
   "cell_type": "code",
   "source": [],
   "outputs": [],
   "execution_count": null
  }
 ],
 "metadata": {
  "kernelspec": {
   "display_name": "venv",
   "language": "python",
   "name": "python3"
  },
  "language_info": {
   "name": "python",
   "version": "3.9.10"
  }
 },
 "nbformat": 4,
 "nbformat_minor": 2
}
